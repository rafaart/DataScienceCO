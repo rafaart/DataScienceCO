{
  "cells": [
    {
      "cell_type": "markdown",
      "metadata": {
        "id": "view-in-github",
        "colab_type": "text"
      },
      "source": [
        "<a href=\"https://colab.research.google.com/github/rafaart/DataScienceCO/blob/develop/intro_a%CC%80_estati%CC%81stica.ipynb\" target=\"_parent\"><img src=\"https://colab.research.google.com/assets/colab-badge.svg\" alt=\"Open In Colab\"/></a>"
      ]
    },
    {
      "cell_type": "code",
      "execution_count": null,
      "id": "3a808f22-c893-4d36-86b3-0207ac6aebdd",
      "metadata": {
        "id": "3a808f22-c893-4d36-86b3-0207ac6aebdd"
      },
      "outputs": [],
      "source": [
        "import numpy as np"
      ]
    },
    {
      "cell_type": "code",
      "execution_count": null,
      "id": "e267e829-fcd8-4ab7-b48a-06ae6dbe6462",
      "metadata": {
        "id": "e267e829-fcd8-4ab7-b48a-06ae6dbe6462"
      },
      "outputs": [],
      "source": []
    },
    {
      "cell_type": "markdown",
      "id": "d302e25f-a25a-459f-b64f-6d9f9b53ce80",
      "metadata": {
        "id": "d302e25f-a25a-459f-b64f-6d9f9b53ce80"
      },
      "source": [
        "## Números aleatórios\n",
        "\n",
        "- Exemplo de geração de números aleatórios\n",
        "    - $x_1 \\sim U(0, 1)$ Uniforme de 0 a 1\n",
        "    - $x_2 \\sim N(0, 1)$ Gaussiana com média 0 e variância 1"
      ]
    },
    {
      "cell_type": "code",
      "execution_count": null,
      "id": "dd4ac38b-0f2e-4849-aae3-6fd2a9763aba",
      "metadata": {
        "id": "dd4ac38b-0f2e-4849-aae3-6fd2a9763aba"
      },
      "outputs": [],
      "source": [
        "# número de amostras\n",
        "\n",
        "N = 10000"
      ]
    },
    {
      "cell_type": "code",
      "execution_count": null,
      "id": "a20ef1e7-3c77-4f73-9180-e6596345fce8",
      "metadata": {
        "id": "a20ef1e7-3c77-4f73-9180-e6596345fce8"
      },
      "outputs": [],
      "source": [
        "# Funções específicas do numpy para geração\n",
        "\n",
        "x1 = np.random.rand(N)\n",
        "x2 = np.random.randn(N)"
      ]
    },
    {
      "cell_type": "code",
      "execution_count": null,
      "id": "66023385-98fd-485a-ad55-9538332acb89",
      "metadata": {
        "id": "66023385-98fd-485a-ad55-9538332acb89",
        "outputId": "59a47e74-5b8f-462a-9cf7-d557ff3c3803"
      },
      "outputs": [
        {
          "data": {
            "text/plain": [
              "array([0.59179356, 0.14661075, 0.61308055, 0.25536766, 0.51457741,\n",
              "       0.15195979, 0.57783038, 0.45659257, 0.2388844 , 0.0316328 ])"
            ]
          },
          "execution_count": 5,
          "metadata": {},
          "output_type": "execute_result"
        }
      ],
      "source": [
        "x1[:10]"
      ]
    },
    {
      "cell_type": "code",
      "execution_count": null,
      "id": "22526c41-09de-4ab5-9605-aaf0a6eea946",
      "metadata": {
        "id": "22526c41-09de-4ab5-9605-aaf0a6eea946",
        "outputId": "c6ea6b9d-65dd-4dfd-ae5e-4dfad66db50d"
      },
      "outputs": [
        {
          "data": {
            "text/plain": [
              "array([ 0.69954442,  0.27915509, -0.47194956, -0.54810408,  0.06766005,\n",
              "       -0.29044274,  0.32218874,  0.6279885 , -1.45804191, -0.29178072])"
            ]
          },
          "execution_count": 6,
          "metadata": {},
          "output_type": "execute_result"
        }
      ],
      "source": [
        "x2[:10]"
      ]
    },
    {
      "cell_type": "code",
      "execution_count": null,
      "id": "dde19403-6a30-4e4d-bff1-c60d3776f43b",
      "metadata": {
        "id": "dde19403-6a30-4e4d-bff1-c60d3776f43b"
      },
      "outputs": [],
      "source": []
    },
    {
      "cell_type": "code",
      "execution_count": null,
      "id": "1f9dfc89-8627-42c0-9e72-3eb548b86ea3",
      "metadata": {
        "id": "1f9dfc89-8627-42c0-9e72-3eb548b86ea3"
      },
      "outputs": [],
      "source": []
    },
    {
      "cell_type": "code",
      "execution_count": null,
      "id": "ad4a5f68-3381-4eee-a36c-db738f77d052",
      "metadata": {
        "id": "ad4a5f68-3381-4eee-a36c-db738f77d052"
      },
      "outputs": [],
      "source": []
    },
    {
      "cell_type": "markdown",
      "id": "9fbb28fd-7ed0-4faf-b23d-4cd0e7fcd88b",
      "metadata": {
        "id": "9fbb28fd-7ed0-4faf-b23d-4cd0e7fcd88b"
      },
      "source": [
        "## Teste de alguams probabilidades\n",
        "\n",
        "- $p_1$ probabilidade de $x_1 > 0.5$\n",
        "- $p_2$ probabilidade de $-1.0 > x_2 > 1.0$"
      ]
    },
    {
      "cell_type": "code",
      "execution_count": null,
      "id": "23f7af89-ca07-44b8-81eb-8644ea0e79ad",
      "metadata": {
        "id": "23f7af89-ca07-44b8-81eb-8644ea0e79ad"
      },
      "outputs": [],
      "source": [
        "p1 = np.sum(x1>0.5)/N\n",
        "p2 = np.sum((x2>-1.0)&(x2<1.0))/N"
      ]
    },
    {
      "cell_type": "code",
      "execution_count": null,
      "id": "93cff01a-f669-4e30-9668-4ff2e8246112",
      "metadata": {
        "id": "93cff01a-f669-4e30-9668-4ff2e8246112",
        "outputId": "12f02a58-8248-4c6d-f9f4-58c0f01b3051"
      },
      "outputs": [
        {
          "name": "stdout",
          "output_type": "stream",
          "text": [
            "Prob(x1>0.5) = 0.5043\n",
            "Prob(-1.0<x2<1.0) = 0.6717\n"
          ]
        }
      ],
      "source": [
        "print(f'Prob(x1>0.5) = {p1}')\n",
        "print(f'Prob(-1.0<x2<1.0) = {p2}')"
      ]
    },
    {
      "cell_type": "code",
      "execution_count": null,
      "id": "9900a368-279a-4fa1-b10c-84b0951b6f9e",
      "metadata": {
        "id": "9900a368-279a-4fa1-b10c-84b0951b6f9e"
      },
      "outputs": [],
      "source": []
    },
    {
      "cell_type": "code",
      "execution_count": null,
      "id": "5efdbc5c-9d3e-4457-8ef7-5097f7834f74",
      "metadata": {
        "id": "5efdbc5c-9d3e-4457-8ef7-5097f7834f74"
      },
      "outputs": [],
      "source": []
    },
    {
      "cell_type": "code",
      "execution_count": null,
      "id": "0c0cd2ef-0e7b-4251-b59c-b5a818a0e8ba",
      "metadata": {
        "id": "0c0cd2ef-0e7b-4251-b59c-b5a818a0e8ba"
      },
      "outputs": [],
      "source": []
    },
    {
      "cell_type": "code",
      "execution_count": null,
      "id": "e8ca4c6a-ffa3-4e30-9c40-9fc34946b1c3",
      "metadata": {
        "id": "e8ca4c6a-ffa3-4e30-9c40-9fc34946b1c3"
      },
      "outputs": [],
      "source": []
    },
    {
      "cell_type": "code",
      "execution_count": null,
      "id": "da4b1b2a-5b0c-43f0-b61e-397708b30303",
      "metadata": {
        "id": "da4b1b2a-5b0c-43f0-b61e-397708b30303"
      },
      "outputs": [],
      "source": []
    },
    {
      "cell_type": "code",
      "execution_count": null,
      "id": "4c3b3ffe-3307-439e-9ebe-17a692584216",
      "metadata": {
        "id": "4c3b3ffe-3307-439e-9ebe-17a692584216"
      },
      "outputs": [],
      "source": []
    }
  ],
  "metadata": {
    "kernelspec": {
      "display_name": "Python 3 (ipykernel)",
      "language": "python",
      "name": "python3"
    },
    "language_info": {
      "codemirror_mode": {
        "name": "ipython",
        "version": 3
      },
      "file_extension": ".py",
      "mimetype": "text/x-python",
      "name": "python",
      "nbconvert_exporter": "python",
      "pygments_lexer": "ipython3",
      "version": "3.11.4"
    },
    "colab": {
      "provenance": [],
      "include_colab_link": true
    }
  },
  "nbformat": 4,
  "nbformat_minor": 5
}
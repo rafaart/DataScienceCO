{
  "nbformat": 4,
  "nbformat_minor": 0,
  "metadata": {
    "colab": {
      "provenance": [],
      "include_colab_link": true
    },
    "kernelspec": {
      "name": "python3",
      "display_name": "Python 3"
    },
    "language_info": {
      "name": "python"
    }
  },
  "cells": [
    {
      "cell_type": "markdown",
      "metadata": {
        "id": "view-in-github",
        "colab_type": "text"
      },
      "source": [
        "<a href=\"https://colab.research.google.com/github/rafaart/DataScienceCO/blob/develop/Atividade_Complementar_2_Unidade_2.ipynb\" target=\"_parent\"><img src=\"https://colab.research.google.com/assets/colab-badge.svg\" alt=\"Open In Colab\"/></a>"
      ]
    },
    {
      "cell_type": "markdown",
      "source": [
        "# Importando as bibliotecas"
      ],
      "metadata": {
        "id": "yF5UR41zVN3n"
      }
    },
    {
      "cell_type": "code",
      "source": [
        "import pandas as pd\n",
        "import numpy as np"
      ],
      "metadata": {
        "id": "k8o-S51-ff7S"
      },
      "execution_count": 1,
      "outputs": []
    },
    {
      "cell_type": "markdown",
      "source": [
        "# Baixando o dataset Medical Cost Personal Datasets\n",
        "Esse dataset relaciona os dados:\n",
        "\n",
        "| idade | sexo | imc | número de filhos | indicador de fumante | região do usuário | valor do seguro de saúde |\n",
        "\n",
        "em uma amostra de usuário de planos de saúde"
      ],
      "metadata": {
        "id": "1-Xs3QSIVg_i"
      }
    },
    {
      "cell_type": "code",
      "source": [
        "!gdown '16WlPQDl2sQLaEWzH-nix8lF8TPjsfP97'"
      ],
      "metadata": {
        "colab": {
          "base_uri": "https://localhost:8080/"
        },
        "id": "IGxoEOJMWbIv",
        "outputId": "6b48a5d8-d9d2-48c5-a29a-14c41e165114"
      },
      "execution_count": 2,
      "outputs": [
        {
          "output_type": "stream",
          "name": "stdout",
          "text": [
            "Downloading...\n",
            "From: https://drive.google.com/uc?id=16WlPQDl2sQLaEWzH-nix8lF8TPjsfP97\n",
            "To: /content/insurance.csv\n",
            "\r  0% 0.00/55.6k [00:00<?, ?B/s]\r100% 55.6k/55.6k [00:00<00:00, 73.8MB/s]\n"
          ]
        }
      ]
    },
    {
      "cell_type": "markdown",
      "source": [
        "# Carregando o dataset usando a biblioteca Pandas"
      ],
      "metadata": {
        "id": "1ooekbpsVSLo"
      }
    },
    {
      "cell_type": "code",
      "source": [
        "df = pd.read_csv('insurance.csv')\n",
        "df.head()\n"
      ],
      "metadata": {
        "colab": {
          "base_uri": "https://localhost:8080/",
          "height": 206
        },
        "id": "QAuMngD3Uswp",
        "outputId": "33b7eae2-b7a7-4f26-e440-55a4b0828e65"
      },
      "execution_count": 3,
      "outputs": [
        {
          "output_type": "execute_result",
          "data": {
            "text/plain": [
              "   age     sex     bmi  children smoker     region      charges\n",
              "0   19  female  27.900         0    yes  southwest  16884.92400\n",
              "1   18    male  33.770         1     no  southeast   1725.55230\n",
              "2   28    male  33.000         3     no  southeast   4449.46200\n",
              "3   33    male  22.705         0     no  northwest  21984.47061\n",
              "4   32    male  28.880         0     no  northwest   3866.85520"
            ],
            "text/html": [
              "\n",
              "  <div id=\"df-609dd732-ab1f-4ae9-8126-417b9c401bef\" class=\"colab-df-container\">\n",
              "    <div>\n",
              "<style scoped>\n",
              "    .dataframe tbody tr th:only-of-type {\n",
              "        vertical-align: middle;\n",
              "    }\n",
              "\n",
              "    .dataframe tbody tr th {\n",
              "        vertical-align: top;\n",
              "    }\n",
              "\n",
              "    .dataframe thead th {\n",
              "        text-align: right;\n",
              "    }\n",
              "</style>\n",
              "<table border=\"1\" class=\"dataframe\">\n",
              "  <thead>\n",
              "    <tr style=\"text-align: right;\">\n",
              "      <th></th>\n",
              "      <th>age</th>\n",
              "      <th>sex</th>\n",
              "      <th>bmi</th>\n",
              "      <th>children</th>\n",
              "      <th>smoker</th>\n",
              "      <th>region</th>\n",
              "      <th>charges</th>\n",
              "    </tr>\n",
              "  </thead>\n",
              "  <tbody>\n",
              "    <tr>\n",
              "      <th>0</th>\n",
              "      <td>19</td>\n",
              "      <td>female</td>\n",
              "      <td>27.900</td>\n",
              "      <td>0</td>\n",
              "      <td>yes</td>\n",
              "      <td>southwest</td>\n",
              "      <td>16884.92400</td>\n",
              "    </tr>\n",
              "    <tr>\n",
              "      <th>1</th>\n",
              "      <td>18</td>\n",
              "      <td>male</td>\n",
              "      <td>33.770</td>\n",
              "      <td>1</td>\n",
              "      <td>no</td>\n",
              "      <td>southeast</td>\n",
              "      <td>1725.55230</td>\n",
              "    </tr>\n",
              "    <tr>\n",
              "      <th>2</th>\n",
              "      <td>28</td>\n",
              "      <td>male</td>\n",
              "      <td>33.000</td>\n",
              "      <td>3</td>\n",
              "      <td>no</td>\n",
              "      <td>southeast</td>\n",
              "      <td>4449.46200</td>\n",
              "    </tr>\n",
              "    <tr>\n",
              "      <th>3</th>\n",
              "      <td>33</td>\n",
              "      <td>male</td>\n",
              "      <td>22.705</td>\n",
              "      <td>0</td>\n",
              "      <td>no</td>\n",
              "      <td>northwest</td>\n",
              "      <td>21984.47061</td>\n",
              "    </tr>\n",
              "    <tr>\n",
              "      <th>4</th>\n",
              "      <td>32</td>\n",
              "      <td>male</td>\n",
              "      <td>28.880</td>\n",
              "      <td>0</td>\n",
              "      <td>no</td>\n",
              "      <td>northwest</td>\n",
              "      <td>3866.85520</td>\n",
              "    </tr>\n",
              "  </tbody>\n",
              "</table>\n",
              "</div>\n",
              "    <div class=\"colab-df-buttons\">\n",
              "\n",
              "  <div class=\"colab-df-container\">\n",
              "    <button class=\"colab-df-convert\" onclick=\"convertToInteractive('df-609dd732-ab1f-4ae9-8126-417b9c401bef')\"\n",
              "            title=\"Convert this dataframe to an interactive table.\"\n",
              "            style=\"display:none;\">\n",
              "\n",
              "  <svg xmlns=\"http://www.w3.org/2000/svg\" height=\"24px\" viewBox=\"0 -960 960 960\">\n",
              "    <path d=\"M120-120v-720h720v720H120Zm60-500h600v-160H180v160Zm220 220h160v-160H400v160Zm0 220h160v-160H400v160ZM180-400h160v-160H180v160Zm440 0h160v-160H620v160ZM180-180h160v-160H180v160Zm440 0h160v-160H620v160Z\"/>\n",
              "  </svg>\n",
              "    </button>\n",
              "\n",
              "  <style>\n",
              "    .colab-df-container {\n",
              "      display:flex;\n",
              "      gap: 12px;\n",
              "    }\n",
              "\n",
              "    .colab-df-convert {\n",
              "      background-color: #E8F0FE;\n",
              "      border: none;\n",
              "      border-radius: 50%;\n",
              "      cursor: pointer;\n",
              "      display: none;\n",
              "      fill: #1967D2;\n",
              "      height: 32px;\n",
              "      padding: 0 0 0 0;\n",
              "      width: 32px;\n",
              "    }\n",
              "\n",
              "    .colab-df-convert:hover {\n",
              "      background-color: #E2EBFA;\n",
              "      box-shadow: 0px 1px 2px rgba(60, 64, 67, 0.3), 0px 1px 3px 1px rgba(60, 64, 67, 0.15);\n",
              "      fill: #174EA6;\n",
              "    }\n",
              "\n",
              "    .colab-df-buttons div {\n",
              "      margin-bottom: 4px;\n",
              "    }\n",
              "\n",
              "    [theme=dark] .colab-df-convert {\n",
              "      background-color: #3B4455;\n",
              "      fill: #D2E3FC;\n",
              "    }\n",
              "\n",
              "    [theme=dark] .colab-df-convert:hover {\n",
              "      background-color: #434B5C;\n",
              "      box-shadow: 0px 1px 3px 1px rgba(0, 0, 0, 0.15);\n",
              "      filter: drop-shadow(0px 1px 2px rgba(0, 0, 0, 0.3));\n",
              "      fill: #FFFFFF;\n",
              "    }\n",
              "  </style>\n",
              "\n",
              "    <script>\n",
              "      const buttonEl =\n",
              "        document.querySelector('#df-609dd732-ab1f-4ae9-8126-417b9c401bef button.colab-df-convert');\n",
              "      buttonEl.style.display =\n",
              "        google.colab.kernel.accessAllowed ? 'block' : 'none';\n",
              "\n",
              "      async function convertToInteractive(key) {\n",
              "        const element = document.querySelector('#df-609dd732-ab1f-4ae9-8126-417b9c401bef');\n",
              "        const dataTable =\n",
              "          await google.colab.kernel.invokeFunction('convertToInteractive',\n",
              "                                                    [key], {});\n",
              "        if (!dataTable) return;\n",
              "\n",
              "        const docLinkHtml = 'Like what you see? Visit the ' +\n",
              "          '<a target=\"_blank\" href=https://colab.research.google.com/notebooks/data_table.ipynb>data table notebook</a>'\n",
              "          + ' to learn more about interactive tables.';\n",
              "        element.innerHTML = '';\n",
              "        dataTable['output_type'] = 'display_data';\n",
              "        await google.colab.output.renderOutput(dataTable, element);\n",
              "        const docLink = document.createElement('div');\n",
              "        docLink.innerHTML = docLinkHtml;\n",
              "        element.appendChild(docLink);\n",
              "      }\n",
              "    </script>\n",
              "  </div>\n",
              "\n",
              "\n",
              "<div id=\"df-906fe2ff-e3f7-455f-87b7-688ad81f6663\">\n",
              "  <button class=\"colab-df-quickchart\" onclick=\"quickchart('df-906fe2ff-e3f7-455f-87b7-688ad81f6663')\"\n",
              "            title=\"Suggest charts\"\n",
              "            style=\"display:none;\">\n",
              "\n",
              "<svg xmlns=\"http://www.w3.org/2000/svg\" height=\"24px\"viewBox=\"0 0 24 24\"\n",
              "     width=\"24px\">\n",
              "    <g>\n",
              "        <path d=\"M19 3H5c-1.1 0-2 .9-2 2v14c0 1.1.9 2 2 2h14c1.1 0 2-.9 2-2V5c0-1.1-.9-2-2-2zM9 17H7v-7h2v7zm4 0h-2V7h2v10zm4 0h-2v-4h2v4z\"/>\n",
              "    </g>\n",
              "</svg>\n",
              "  </button>\n",
              "\n",
              "<style>\n",
              "  .colab-df-quickchart {\n",
              "      --bg-color: #E8F0FE;\n",
              "      --fill-color: #1967D2;\n",
              "      --hover-bg-color: #E2EBFA;\n",
              "      --hover-fill-color: #174EA6;\n",
              "      --disabled-fill-color: #AAA;\n",
              "      --disabled-bg-color: #DDD;\n",
              "  }\n",
              "\n",
              "  [theme=dark] .colab-df-quickchart {\n",
              "      --bg-color: #3B4455;\n",
              "      --fill-color: #D2E3FC;\n",
              "      --hover-bg-color: #434B5C;\n",
              "      --hover-fill-color: #FFFFFF;\n",
              "      --disabled-bg-color: #3B4455;\n",
              "      --disabled-fill-color: #666;\n",
              "  }\n",
              "\n",
              "  .colab-df-quickchart {\n",
              "    background-color: var(--bg-color);\n",
              "    border: none;\n",
              "    border-radius: 50%;\n",
              "    cursor: pointer;\n",
              "    display: none;\n",
              "    fill: var(--fill-color);\n",
              "    height: 32px;\n",
              "    padding: 0;\n",
              "    width: 32px;\n",
              "  }\n",
              "\n",
              "  .colab-df-quickchart:hover {\n",
              "    background-color: var(--hover-bg-color);\n",
              "    box-shadow: 0 1px 2px rgba(60, 64, 67, 0.3), 0 1px 3px 1px rgba(60, 64, 67, 0.15);\n",
              "    fill: var(--button-hover-fill-color);\n",
              "  }\n",
              "\n",
              "  .colab-df-quickchart-complete:disabled,\n",
              "  .colab-df-quickchart-complete:disabled:hover {\n",
              "    background-color: var(--disabled-bg-color);\n",
              "    fill: var(--disabled-fill-color);\n",
              "    box-shadow: none;\n",
              "  }\n",
              "\n",
              "  .colab-df-spinner {\n",
              "    border: 2px solid var(--fill-color);\n",
              "    border-color: transparent;\n",
              "    border-bottom-color: var(--fill-color);\n",
              "    animation:\n",
              "      spin 1s steps(1) infinite;\n",
              "  }\n",
              "\n",
              "  @keyframes spin {\n",
              "    0% {\n",
              "      border-color: transparent;\n",
              "      border-bottom-color: var(--fill-color);\n",
              "      border-left-color: var(--fill-color);\n",
              "    }\n",
              "    20% {\n",
              "      border-color: transparent;\n",
              "      border-left-color: var(--fill-color);\n",
              "      border-top-color: var(--fill-color);\n",
              "    }\n",
              "    30% {\n",
              "      border-color: transparent;\n",
              "      border-left-color: var(--fill-color);\n",
              "      border-top-color: var(--fill-color);\n",
              "      border-right-color: var(--fill-color);\n",
              "    }\n",
              "    40% {\n",
              "      border-color: transparent;\n",
              "      border-right-color: var(--fill-color);\n",
              "      border-top-color: var(--fill-color);\n",
              "    }\n",
              "    60% {\n",
              "      border-color: transparent;\n",
              "      border-right-color: var(--fill-color);\n",
              "    }\n",
              "    80% {\n",
              "      border-color: transparent;\n",
              "      border-right-color: var(--fill-color);\n",
              "      border-bottom-color: var(--fill-color);\n",
              "    }\n",
              "    90% {\n",
              "      border-color: transparent;\n",
              "      border-bottom-color: var(--fill-color);\n",
              "    }\n",
              "  }\n",
              "</style>\n",
              "\n",
              "  <script>\n",
              "    async function quickchart(key) {\n",
              "      const quickchartButtonEl =\n",
              "        document.querySelector('#' + key + ' button');\n",
              "      quickchartButtonEl.disabled = true;  // To prevent multiple clicks.\n",
              "      quickchartButtonEl.classList.add('colab-df-spinner');\n",
              "      try {\n",
              "        const charts = await google.colab.kernel.invokeFunction(\n",
              "            'suggestCharts', [key], {});\n",
              "      } catch (error) {\n",
              "        console.error('Error during call to suggestCharts:', error);\n",
              "      }\n",
              "      quickchartButtonEl.classList.remove('colab-df-spinner');\n",
              "      quickchartButtonEl.classList.add('colab-df-quickchart-complete');\n",
              "    }\n",
              "    (() => {\n",
              "      let quickchartButtonEl =\n",
              "        document.querySelector('#df-906fe2ff-e3f7-455f-87b7-688ad81f6663 button');\n",
              "      quickchartButtonEl.style.display =\n",
              "        google.colab.kernel.accessAllowed ? 'block' : 'none';\n",
              "    })();\n",
              "  </script>\n",
              "</div>\n",
              "\n",
              "    </div>\n",
              "  </div>\n"
            ],
            "application/vnd.google.colaboratory.intrinsic+json": {
              "type": "dataframe",
              "variable_name": "df",
              "summary": "{\n  \"name\": \"df\",\n  \"rows\": 1338,\n  \"fields\": [\n    {\n      \"column\": \"age\",\n      \"properties\": {\n        \"dtype\": \"number\",\n        \"std\": 14,\n        \"min\": 18,\n        \"max\": 64,\n        \"num_unique_values\": 47,\n        \"samples\": [\n          21,\n          45,\n          36\n        ],\n        \"semantic_type\": \"\",\n        \"description\": \"\"\n      }\n    },\n    {\n      \"column\": \"sex\",\n      \"properties\": {\n        \"dtype\": \"category\",\n        \"num_unique_values\": 2,\n        \"samples\": [\n          \"male\",\n          \"female\"\n        ],\n        \"semantic_type\": \"\",\n        \"description\": \"\"\n      }\n    },\n    {\n      \"column\": \"bmi\",\n      \"properties\": {\n        \"dtype\": \"number\",\n        \"std\": 6.098186911679014,\n        \"min\": 15.96,\n        \"max\": 53.13,\n        \"num_unique_values\": 548,\n        \"samples\": [\n          23.18,\n          26.885\n        ],\n        \"semantic_type\": \"\",\n        \"description\": \"\"\n      }\n    },\n    {\n      \"column\": \"children\",\n      \"properties\": {\n        \"dtype\": \"number\",\n        \"std\": 1,\n        \"min\": 0,\n        \"max\": 5,\n        \"num_unique_values\": 6,\n        \"samples\": [\n          0,\n          1\n        ],\n        \"semantic_type\": \"\",\n        \"description\": \"\"\n      }\n    },\n    {\n      \"column\": \"smoker\",\n      \"properties\": {\n        \"dtype\": \"category\",\n        \"num_unique_values\": 2,\n        \"samples\": [\n          \"no\",\n          \"yes\"\n        ],\n        \"semantic_type\": \"\",\n        \"description\": \"\"\n      }\n    },\n    {\n      \"column\": \"region\",\n      \"properties\": {\n        \"dtype\": \"category\",\n        \"num_unique_values\": 4,\n        \"samples\": [\n          \"southeast\",\n          \"northeast\"\n        ],\n        \"semantic_type\": \"\",\n        \"description\": \"\"\n      }\n    },\n    {\n      \"column\": \"charges\",\n      \"properties\": {\n        \"dtype\": \"number\",\n        \"std\": 12110.011236694001,\n        \"min\": 1121.8739,\n        \"max\": 63770.42801,\n        \"num_unique_values\": 1337,\n        \"samples\": [\n          8688.85885,\n          5708.867\n        ],\n        \"semantic_type\": \"\",\n        \"description\": \"\"\n      }\n    }\n  ]\n}"
            }
          },
          "metadata": {},
          "execution_count": 3
        }
      ]
    },
    {
      "cell_type": "markdown",
      "source": [
        "# Cálculo de PMF da distribuição binomial"
      ],
      "metadata": {
        "id": "vKikqIVAD0rs"
      }
    },
    {
      "cell_type": "code",
      "source": [
        "def calcula_pmf_binomial(k, n, p):\n",
        "  \"\"\"\n",
        "  Calcula a probabilidade de massa de uma distribuição binomial.\n",
        "\n",
        "  Args:\n",
        "    k: Número de sucessos.\n",
        "    n: Número de tentativas.\n",
        "    p: Probabilidade de sucesso em uma única tentativa.\n",
        "\n",
        "  Returns:\n",
        "    A probabilidade de massa.\n",
        "  \"\"\"\n",
        "  if k < 0 or k > n:\n",
        "    return 0\n",
        "\n",
        "  fatorial_n = 1\n",
        "  for i in range(1, n + 1):\n",
        "    fatorial_n *= i\n",
        "\n",
        "  fatorial_k = 1\n",
        "  for i in range(1, k + 1):\n",
        "    fatorial_k *= i\n",
        "\n",
        "  fatorial_n_menos_k = 1\n",
        "  for i in range(1, n - k + 1):\n",
        "    fatorial_n_menos_k *= i\n",
        "\n",
        "  coeficiente_binomial = fatorial_n // (fatorial_k * fatorial_n_menos_k)\n",
        "\n",
        "  probabilidade = coeficiente_binomial * (p ** k) * ((1 - p) ** (n - k))\n",
        "\n",
        "  return probabilidade"
      ],
      "metadata": {
        "id": "1UiB3LmOD6B-"
      },
      "execution_count": 4,
      "outputs": []
    },
    {
      "cell_type": "markdown",
      "source": [
        "# Cálculo de CDF da distribuição gaussiana"
      ],
      "metadata": {
        "id": "UBvgEZnMFbPw"
      }
    },
    {
      "cell_type": "code",
      "source": [
        "import math\n",
        "\n",
        "def calcula_cdf_gaussiana(x, mu, sigma):\n",
        "  \"\"\"\n",
        "  Calcula a função de distribuição cumulativa (CDF) de uma distribuição gaussiana.\n",
        "\n",
        "  Args:\n",
        "    x: Valor para o qual a CDF deve ser calculada.\n",
        "    mu: Média da distribuição gaussiana.\n",
        "    sigma: Desvio padrão da distribuição gaussiana.\n",
        "\n",
        "  Returns:\n",
        "    O valor da CDF para o valor x dado.\n",
        "  \"\"\"\n",
        "  z = (x - mu) / (sigma * math.sqrt(2))\n",
        "  return 0.5 * (1 + math.erf(z))\n"
      ],
      "metadata": {
        "id": "UWS-vmCyFIjX"
      },
      "execution_count": 5,
      "outputs": []
    },
    {
      "cell_type": "markdown",
      "source": [
        "# Algumas análises estatísticas"
      ],
      "metadata": {
        "id": "0SfdfTfHXXzw"
      }
    },
    {
      "cell_type": "markdown",
      "source": [
        "## Chegaram 10 enfermos no hospital do plano de saúde, qual a probabilidade de 5 deles serem fumantes?"
      ],
      "metadata": {
        "id": "aQH-3zZDBVts"
      }
    },
    {
      "cell_type": "code",
      "source": [
        "# Probabilidade de ser fumante\n",
        "p_fumante = (df['smoker'] == 'yes').astype(int).mean()\n",
        "\n",
        "# Número de doentes\n",
        "n = 10\n",
        "\n",
        "# Número de fumantes que queremos a probabilidade\n",
        "k = 5\n",
        "\n",
        "# Calculando a probabilidade\n",
        "probabilidade = calcula_pmf_binomial(k, n, p_fumante)\n",
        "\n",
        "print(f\"Probabilidade: {probabilidade:.2f}\")"
      ],
      "metadata": {
        "colab": {
          "base_uri": "https://localhost:8080/"
        },
        "id": "WQb2AxtuBeAo",
        "outputId": "52705252-4ed3-4c3f-9691-f467c83d670f"
      },
      "execution_count": 6,
      "outputs": [
        {
          "output_type": "stream",
          "name": "stdout",
          "text": [
            "Probabilidade: 0.03\n"
          ]
        }
      ]
    },
    {
      "cell_type": "markdown",
      "source": [
        "## Dado que não sabemos nada sobre um novo usuário do plano de saúde, qual a probabilidade dele pagar até $ 10.000?"
      ],
      "metadata": {
        "id": "LBIZz-cx8Wvt"
      }
    },
    {
      "cell_type": "code",
      "source": [
        "# Exemplo de uso: probabilidade de um valor estar abaixo de 10000\n",
        "prob_abaixo_10000 = calcula_cdf_gaussiana(x = 10000,\n",
        "                                          mu = df['charges'].mean(),\n",
        "                                          sigma = df['charges'].std())\n",
        "print(f'Probabilidade: {prob_abaixo_10000:.2f}')\n"
      ],
      "metadata": {
        "colab": {
          "base_uri": "https://localhost:8080/"
        },
        "id": "SNt58G6a8DTq",
        "outputId": "75f4ce53-88b3-4182-9688-de048810857c"
      },
      "execution_count": 7,
      "outputs": [
        {
          "output_type": "stream",
          "name": "stdout",
          "text": [
            "Probabilidade: 0.39\n"
          ]
        }
      ]
    },
    {
      "cell_type": "markdown",
      "source": [
        "## E do mesmo novo usuário pagar até $ 20.0000?"
      ],
      "metadata": {
        "id": "-L3xI7uc8vnL"
      }
    },
    {
      "cell_type": "code",
      "source": [
        "# Exemplo de uso: probabilidade de um valor estar abaixo de 20000\n",
        "prob_abaixo_20000 = calcula_cdf_gaussiana(x = 20000,\n",
        "                                          mu = df['charges'].mean(),\n",
        "                                          sigma = df['charges'].std())\n",
        "print(f'Probabilidade: {prob_abaixo_20000:.2f}')"
      ],
      "metadata": {
        "colab": {
          "base_uri": "https://localhost:8080/"
        },
        "id": "XRRVARMP881E",
        "outputId": "fa34d75f-9050-4dd8-843a-96bce33e09ff"
      },
      "execution_count": 8,
      "outputs": [
        {
          "output_type": "stream",
          "name": "stdout",
          "text": [
            "Probabilidade: 0.71\n"
          ]
        }
      ]
    },
    {
      "cell_type": "markdown",
      "source": [
        "## E se o novo usuário tem bmi acima de 27, não sabemos mais nada dele... Qual a probabilidade dele pagar acima de $ 20.000"
      ],
      "metadata": {
        "id": "x_8hVJqS_7LI"
      }
    },
    {
      "cell_type": "code",
      "source": [
        "# Filtrando para incluir apenas as linhas com bmi acima de 27\n",
        "df_bmi_acima_27 = df[df['bmi'] > 27]\n",
        "\n",
        "# Calculando a probabilidade de charges acima de 20000 dado que o bmi é acima de 27\n",
        "prob_acima_20000_dado_bmi_acima_27 = 1-calcula_cdf_gaussiana(x = 20000,\n",
        "                                                             mu = df_bmi_acima_27['charges'].mean(),\n",
        "                                                             sigma = df_bmi_acima_27['charges'].std())\n",
        "print(f'Probabilidade: {prob_acima_20000_dado_bmi_acima_27:.2f}')\n"
      ],
      "metadata": {
        "colab": {
          "base_uri": "https://localhost:8080/"
        },
        "id": "vVV61xDc9MZx",
        "outputId": "9f96169f-8a6c-42ec-9b51-e092a31be6fe"
      },
      "execution_count": 9,
      "outputs": [
        {
          "output_type": "stream",
          "name": "stdout",
          "text": [
            "Probabilidade: 0.34\n"
          ]
        }
      ]
    },
    {
      "cell_type": "markdown",
      "source": [
        "## *>>> Perceba que você consegue fazer todos esses cálculos fazendo a contagem dos eventos favoráveis e dividindo pela total de eventos. Usando a distribuição gaussiana e binomial, você mapeou seu problema nessas distribuições. Agora você pode fazer análises (ex: cdf, pmf) para seu problema a partir dessas distribuições*"
      ],
      "metadata": {
        "id": "eG1dyVm2AKfX"
      }
    },
    {
      "cell_type": "markdown",
      "source": [
        "## Agora é com você!"
      ],
      "metadata": {
        "id": "zw1wY5WzC2L8"
      }
    },
    {
      "cell_type": "markdown",
      "source": [
        " ### QUESTÃO 1: Dado que os usuários do plano de saúde são fumantes, qual a probabilidade dele pagar mais de $20.000?"
      ],
      "metadata": {
        "id": "qIFRsUbLC6_Z"
      }
    },
    {
      "cell_type": "code",
      "source": [
        "# Filtrando para incluir apenas as linhas com fumantes\n",
        "df_fumantes = df[df['smoker'] == 'yes']\n",
        "\n",
        "# Calculando a probabilidade de charges acima de 20000 dado que é fumante\n",
        "prob_acima_20000_dado_fumante = 1-calcula_cdf_gaussiana(x = 20000,\n",
        "                                                             mu = df_fumantes['charges'].mean(),\n",
        "                                                             sigma = df_fumantes['charges'].std())\n",
        "print(f'Probabilidade: {prob_acima_20000_dado_fumante:.2f}')"
      ],
      "metadata": {
        "id": "QjgrYqdUDUC5",
        "colab": {
          "base_uri": "https://localhost:8080/"
        },
        "outputId": "8d85f1b4-bc1a-4b51-93ac-b41b1a77bb0c"
      },
      "execution_count": 10,
      "outputs": [
        {
          "output_type": "stream",
          "name": "stdout",
          "text": [
            "Probabilidade: 0.85\n"
          ]
        }
      ]
    },
    {
      "cell_type": "markdown",
      "source": [
        " ### QUESTÃO 2: Dado que os usuários do plano de saúde são mulheres, qual a probabilidade dele pagar menos de $10.000?"
      ],
      "metadata": {
        "id": "Ys-nyqT5DUMO"
      }
    },
    {
      "cell_type": "code",
      "source": [
        "# Filtrando para incluir apenas as linhas com mulheres\n",
        "df_mulheres = df[df['sex'] == 'female']\n",
        "\n",
        "# Calculando a probabilidade de charges até 10000 sendo mulher\n",
        "prob_abaixo_10000 = calcula_cdf_gaussiana(x = 10000,\n",
        "                                          mu = df_mulheres['charges'].mean(),\n",
        "                                          sigma = df_mulheres['charges'].std())\n",
        "print(f'Probabilidade: {prob_abaixo_10000:.2f}')"
      ],
      "metadata": {
        "id": "fb6UTOqvDYuY",
        "colab": {
          "base_uri": "https://localhost:8080/"
        },
        "outputId": "65f8b518-67be-48ae-f957-0565816f52cf"
      },
      "execution_count": 11,
      "outputs": [
        {
          "output_type": "stream",
          "name": "stdout",
          "text": [
            "Probabilidade: 0.41\n"
          ]
        }
      ]
    },
    {
      "cell_type": "markdown",
      "source": [
        " ### QUESTÃO 3: Dado que os usuários do plano de saúde são homens, qual a probabilidade do seu bmi ser acima de 25?"
      ],
      "metadata": {
        "id": "MdLVMWXXDY03"
      }
    },
    {
      "cell_type": "code",
      "source": [],
      "metadata": {
        "id": "F0vVhKhuDe3r"
      },
      "execution_count": 9,
      "outputs": []
    }
  ]
}
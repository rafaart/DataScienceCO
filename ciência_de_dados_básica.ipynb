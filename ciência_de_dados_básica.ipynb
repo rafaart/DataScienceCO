{
  "cells": [
    {
      "cell_type": "markdown",
      "metadata": {
        "id": "view-in-github",
        "colab_type": "text"
      },
      "source": [
        "<a href=\"https://colab.research.google.com/github/rafaart/DataScienceCO/blob/develop/cie%CC%82ncia_de_dados_ba%CC%81sica.ipynb\" target=\"_parent\"><img src=\"https://colab.research.google.com/assets/colab-badge.svg\" alt=\"Open In Colab\"/></a>"
      ]
    },
    {
      "cell_type": "code",
      "execution_count": null,
      "id": "2fe2f243-7a26-4f48-9515-b98d0e8b9e7e",
      "metadata": {
        "id": "2fe2f243-7a26-4f48-9515-b98d0e8b9e7e"
      },
      "outputs": [],
      "source": [
        "import numpy as np\n",
        "import pandas as pd\n",
        "import seaborn as sns\n",
        "from scipy.cluster.vq import whiten"
      ]
    },
    {
      "cell_type": "code",
      "execution_count": null,
      "id": "104b8747-7452-4d86-ba18-c36d2f25910f",
      "metadata": {
        "id": "104b8747-7452-4d86-ba18-c36d2f25910f"
      },
      "outputs": [],
      "source": []
    },
    {
      "cell_type": "markdown",
      "id": "3c42918a-37d7-4bf3-b396-1530eb28707d",
      "metadata": {
        "id": "3c42918a-37d7-4bf3-b396-1530eb28707d"
      },
      "source": [
        "## Carregando datasets de exemplo"
      ]
    },
    {
      "cell_type": "markdown",
      "id": "bb2c485c-d406-4d8d-a9e1-a92c3da67c49",
      "metadata": {
        "id": "bb2c485c-d406-4d8d-a9e1-a92c3da67c49"
      },
      "source": [
        "### IRIS\n",
        "\n",
        "Conjunto formado por medições de altura e largura da pétala e da sépala de flores da espécie IRIS.\n",
        "\n",
        "- 4 variáveis aleatorias\n",
        "- 150 instâncias / realizações destas variáveis"
      ]
    },
    {
      "cell_type": "code",
      "execution_count": null,
      "id": "813f2418-c31b-4450-9b2e-78b4afe0f5ad",
      "metadata": {
        "id": "813f2418-c31b-4450-9b2e-78b4afe0f5ad"
      },
      "outputs": [],
      "source": [
        "D_iris = sns.load_dataset('iris')"
      ]
    },
    {
      "cell_type": "code",
      "execution_count": null,
      "id": "2355dadc-428c-453d-8443-4ca62ffd1738",
      "metadata": {
        "id": "2355dadc-428c-453d-8443-4ca62ffd1738",
        "outputId": "997a488b-375a-4ec9-9b23-45ff1c65e11a"
      },
      "outputs": [
        {
          "data": {
            "text/html": [
              "<div>\n",
              "<style scoped>\n",
              "    .dataframe tbody tr th:only-of-type {\n",
              "        vertical-align: middle;\n",
              "    }\n",
              "\n",
              "    .dataframe tbody tr th {\n",
              "        vertical-align: top;\n",
              "    }\n",
              "\n",
              "    .dataframe thead th {\n",
              "        text-align: right;\n",
              "    }\n",
              "</style>\n",
              "<table border=\"1\" class=\"dataframe\">\n",
              "  <thead>\n",
              "    <tr style=\"text-align: right;\">\n",
              "      <th></th>\n",
              "      <th>sepal_length</th>\n",
              "      <th>sepal_width</th>\n",
              "      <th>petal_length</th>\n",
              "      <th>petal_width</th>\n",
              "      <th>species</th>\n",
              "    </tr>\n",
              "  </thead>\n",
              "  <tbody>\n",
              "    <tr>\n",
              "      <th>0</th>\n",
              "      <td>5.1</td>\n",
              "      <td>3.5</td>\n",
              "      <td>1.4</td>\n",
              "      <td>0.2</td>\n",
              "      <td>setosa</td>\n",
              "    </tr>\n",
              "    <tr>\n",
              "      <th>1</th>\n",
              "      <td>4.9</td>\n",
              "      <td>3.0</td>\n",
              "      <td>1.4</td>\n",
              "      <td>0.2</td>\n",
              "      <td>setosa</td>\n",
              "    </tr>\n",
              "    <tr>\n",
              "      <th>2</th>\n",
              "      <td>4.7</td>\n",
              "      <td>3.2</td>\n",
              "      <td>1.3</td>\n",
              "      <td>0.2</td>\n",
              "      <td>setosa</td>\n",
              "    </tr>\n",
              "    <tr>\n",
              "      <th>3</th>\n",
              "      <td>4.6</td>\n",
              "      <td>3.1</td>\n",
              "      <td>1.5</td>\n",
              "      <td>0.2</td>\n",
              "      <td>setosa</td>\n",
              "    </tr>\n",
              "    <tr>\n",
              "      <th>4</th>\n",
              "      <td>5.0</td>\n",
              "      <td>3.6</td>\n",
              "      <td>1.4</td>\n",
              "      <td>0.2</td>\n",
              "      <td>setosa</td>\n",
              "    </tr>\n",
              "    <tr>\n",
              "      <th>...</th>\n",
              "      <td>...</td>\n",
              "      <td>...</td>\n",
              "      <td>...</td>\n",
              "      <td>...</td>\n",
              "      <td>...</td>\n",
              "    </tr>\n",
              "    <tr>\n",
              "      <th>145</th>\n",
              "      <td>6.7</td>\n",
              "      <td>3.0</td>\n",
              "      <td>5.2</td>\n",
              "      <td>2.3</td>\n",
              "      <td>virginica</td>\n",
              "    </tr>\n",
              "    <tr>\n",
              "      <th>146</th>\n",
              "      <td>6.3</td>\n",
              "      <td>2.5</td>\n",
              "      <td>5.0</td>\n",
              "      <td>1.9</td>\n",
              "      <td>virginica</td>\n",
              "    </tr>\n",
              "    <tr>\n",
              "      <th>147</th>\n",
              "      <td>6.5</td>\n",
              "      <td>3.0</td>\n",
              "      <td>5.2</td>\n",
              "      <td>2.0</td>\n",
              "      <td>virginica</td>\n",
              "    </tr>\n",
              "    <tr>\n",
              "      <th>148</th>\n",
              "      <td>6.2</td>\n",
              "      <td>3.4</td>\n",
              "      <td>5.4</td>\n",
              "      <td>2.3</td>\n",
              "      <td>virginica</td>\n",
              "    </tr>\n",
              "    <tr>\n",
              "      <th>149</th>\n",
              "      <td>5.9</td>\n",
              "      <td>3.0</td>\n",
              "      <td>5.1</td>\n",
              "      <td>1.8</td>\n",
              "      <td>virginica</td>\n",
              "    </tr>\n",
              "  </tbody>\n",
              "</table>\n",
              "<p>150 rows × 5 columns</p>\n",
              "</div>"
            ],
            "text/plain": [
              "     sepal_length  sepal_width  petal_length  petal_width    species\n",
              "0             5.1          3.5           1.4          0.2     setosa\n",
              "1             4.9          3.0           1.4          0.2     setosa\n",
              "2             4.7          3.2           1.3          0.2     setosa\n",
              "3             4.6          3.1           1.5          0.2     setosa\n",
              "4             5.0          3.6           1.4          0.2     setosa\n",
              "..            ...          ...           ...          ...        ...\n",
              "145           6.7          3.0           5.2          2.3  virginica\n",
              "146           6.3          2.5           5.0          1.9  virginica\n",
              "147           6.5          3.0           5.2          2.0  virginica\n",
              "148           6.2          3.4           5.4          2.3  virginica\n",
              "149           5.9          3.0           5.1          1.8  virginica\n",
              "\n",
              "[150 rows x 5 columns]"
            ]
          },
          "execution_count": 3,
          "metadata": {},
          "output_type": "execute_result"
        }
      ],
      "source": [
        "D_iris"
      ]
    },
    {
      "cell_type": "code",
      "execution_count": null,
      "id": "64ec69d1-1fb0-45f2-9884-4312780daf62",
      "metadata": {
        "id": "64ec69d1-1fb0-45f2-9884-4312780daf62"
      },
      "outputs": [],
      "source": []
    },
    {
      "cell_type": "markdown",
      "id": "9a8e09b6-7585-4132-aca6-4e1d30a9ce4d",
      "metadata": {
        "id": "9a8e09b6-7585-4132-aca6-4e1d30a9ce4d"
      },
      "source": [
        "## Diamonds\n",
        "\n",
        "Conjunto fomado para analise do corte, cor, claridade, preço e outros atributos\n",
        "\n",
        "- 10 variáveis aleatórias\n",
        "- 53940 instâncias / realizações"
      ]
    },
    {
      "cell_type": "code",
      "execution_count": null,
      "id": "f6af9acb-8c21-4c5f-8707-3b79828d7d58",
      "metadata": {
        "id": "f6af9acb-8c21-4c5f-8707-3b79828d7d58"
      },
      "outputs": [],
      "source": [
        "D_diamonds = sns.load_dataset('diamonds')"
      ]
    },
    {
      "cell_type": "code",
      "execution_count": null,
      "id": "646e4bff-b28c-4712-8f5b-ee5d59370dc2",
      "metadata": {
        "id": "646e4bff-b28c-4712-8f5b-ee5d59370dc2",
        "outputId": "4b327317-f9db-4d72-dffc-a07c8a7338af"
      },
      "outputs": [
        {
          "data": {
            "text/html": [
              "<div>\n",
              "<style scoped>\n",
              "    .dataframe tbody tr th:only-of-type {\n",
              "        vertical-align: middle;\n",
              "    }\n",
              "\n",
              "    .dataframe tbody tr th {\n",
              "        vertical-align: top;\n",
              "    }\n",
              "\n",
              "    .dataframe thead th {\n",
              "        text-align: right;\n",
              "    }\n",
              "</style>\n",
              "<table border=\"1\" class=\"dataframe\">\n",
              "  <thead>\n",
              "    <tr style=\"text-align: right;\">\n",
              "      <th></th>\n",
              "      <th>carat</th>\n",
              "      <th>cut</th>\n",
              "      <th>color</th>\n",
              "      <th>clarity</th>\n",
              "      <th>depth</th>\n",
              "      <th>table</th>\n",
              "      <th>price</th>\n",
              "      <th>x</th>\n",
              "      <th>y</th>\n",
              "      <th>z</th>\n",
              "    </tr>\n",
              "  </thead>\n",
              "  <tbody>\n",
              "    <tr>\n",
              "      <th>0</th>\n",
              "      <td>0.23</td>\n",
              "      <td>Ideal</td>\n",
              "      <td>E</td>\n",
              "      <td>SI2</td>\n",
              "      <td>61.5</td>\n",
              "      <td>55.0</td>\n",
              "      <td>326</td>\n",
              "      <td>3.95</td>\n",
              "      <td>3.98</td>\n",
              "      <td>2.43</td>\n",
              "    </tr>\n",
              "    <tr>\n",
              "      <th>1</th>\n",
              "      <td>0.21</td>\n",
              "      <td>Premium</td>\n",
              "      <td>E</td>\n",
              "      <td>SI1</td>\n",
              "      <td>59.8</td>\n",
              "      <td>61.0</td>\n",
              "      <td>326</td>\n",
              "      <td>3.89</td>\n",
              "      <td>3.84</td>\n",
              "      <td>2.31</td>\n",
              "    </tr>\n",
              "    <tr>\n",
              "      <th>2</th>\n",
              "      <td>0.23</td>\n",
              "      <td>Good</td>\n",
              "      <td>E</td>\n",
              "      <td>VS1</td>\n",
              "      <td>56.9</td>\n",
              "      <td>65.0</td>\n",
              "      <td>327</td>\n",
              "      <td>4.05</td>\n",
              "      <td>4.07</td>\n",
              "      <td>2.31</td>\n",
              "    </tr>\n",
              "    <tr>\n",
              "      <th>3</th>\n",
              "      <td>0.29</td>\n",
              "      <td>Premium</td>\n",
              "      <td>I</td>\n",
              "      <td>VS2</td>\n",
              "      <td>62.4</td>\n",
              "      <td>58.0</td>\n",
              "      <td>334</td>\n",
              "      <td>4.20</td>\n",
              "      <td>4.23</td>\n",
              "      <td>2.63</td>\n",
              "    </tr>\n",
              "    <tr>\n",
              "      <th>4</th>\n",
              "      <td>0.31</td>\n",
              "      <td>Good</td>\n",
              "      <td>J</td>\n",
              "      <td>SI2</td>\n",
              "      <td>63.3</td>\n",
              "      <td>58.0</td>\n",
              "      <td>335</td>\n",
              "      <td>4.34</td>\n",
              "      <td>4.35</td>\n",
              "      <td>2.75</td>\n",
              "    </tr>\n",
              "    <tr>\n",
              "      <th>...</th>\n",
              "      <td>...</td>\n",
              "      <td>...</td>\n",
              "      <td>...</td>\n",
              "      <td>...</td>\n",
              "      <td>...</td>\n",
              "      <td>...</td>\n",
              "      <td>...</td>\n",
              "      <td>...</td>\n",
              "      <td>...</td>\n",
              "      <td>...</td>\n",
              "    </tr>\n",
              "    <tr>\n",
              "      <th>53935</th>\n",
              "      <td>0.72</td>\n",
              "      <td>Ideal</td>\n",
              "      <td>D</td>\n",
              "      <td>SI1</td>\n",
              "      <td>60.8</td>\n",
              "      <td>57.0</td>\n",
              "      <td>2757</td>\n",
              "      <td>5.75</td>\n",
              "      <td>5.76</td>\n",
              "      <td>3.50</td>\n",
              "    </tr>\n",
              "    <tr>\n",
              "      <th>53936</th>\n",
              "      <td>0.72</td>\n",
              "      <td>Good</td>\n",
              "      <td>D</td>\n",
              "      <td>SI1</td>\n",
              "      <td>63.1</td>\n",
              "      <td>55.0</td>\n",
              "      <td>2757</td>\n",
              "      <td>5.69</td>\n",
              "      <td>5.75</td>\n",
              "      <td>3.61</td>\n",
              "    </tr>\n",
              "    <tr>\n",
              "      <th>53937</th>\n",
              "      <td>0.70</td>\n",
              "      <td>Very Good</td>\n",
              "      <td>D</td>\n",
              "      <td>SI1</td>\n",
              "      <td>62.8</td>\n",
              "      <td>60.0</td>\n",
              "      <td>2757</td>\n",
              "      <td>5.66</td>\n",
              "      <td>5.68</td>\n",
              "      <td>3.56</td>\n",
              "    </tr>\n",
              "    <tr>\n",
              "      <th>53938</th>\n",
              "      <td>0.86</td>\n",
              "      <td>Premium</td>\n",
              "      <td>H</td>\n",
              "      <td>SI2</td>\n",
              "      <td>61.0</td>\n",
              "      <td>58.0</td>\n",
              "      <td>2757</td>\n",
              "      <td>6.15</td>\n",
              "      <td>6.12</td>\n",
              "      <td>3.74</td>\n",
              "    </tr>\n",
              "    <tr>\n",
              "      <th>53939</th>\n",
              "      <td>0.75</td>\n",
              "      <td>Ideal</td>\n",
              "      <td>D</td>\n",
              "      <td>SI2</td>\n",
              "      <td>62.2</td>\n",
              "      <td>55.0</td>\n",
              "      <td>2757</td>\n",
              "      <td>5.83</td>\n",
              "      <td>5.87</td>\n",
              "      <td>3.64</td>\n",
              "    </tr>\n",
              "  </tbody>\n",
              "</table>\n",
              "<p>53940 rows × 10 columns</p>\n",
              "</div>"
            ],
            "text/plain": [
              "       carat        cut color clarity  depth  table  price     x     y     z\n",
              "0       0.23      Ideal     E     SI2   61.5   55.0    326  3.95  3.98  2.43\n",
              "1       0.21    Premium     E     SI1   59.8   61.0    326  3.89  3.84  2.31\n",
              "2       0.23       Good     E     VS1   56.9   65.0    327  4.05  4.07  2.31\n",
              "3       0.29    Premium     I     VS2   62.4   58.0    334  4.20  4.23  2.63\n",
              "4       0.31       Good     J     SI2   63.3   58.0    335  4.34  4.35  2.75\n",
              "...      ...        ...   ...     ...    ...    ...    ...   ...   ...   ...\n",
              "53935   0.72      Ideal     D     SI1   60.8   57.0   2757  5.75  5.76  3.50\n",
              "53936   0.72       Good     D     SI1   63.1   55.0   2757  5.69  5.75  3.61\n",
              "53937   0.70  Very Good     D     SI1   62.8   60.0   2757  5.66  5.68  3.56\n",
              "53938   0.86    Premium     H     SI2   61.0   58.0   2757  6.15  6.12  3.74\n",
              "53939   0.75      Ideal     D     SI2   62.2   55.0   2757  5.83  5.87  3.64\n",
              "\n",
              "[53940 rows x 10 columns]"
            ]
          },
          "execution_count": 5,
          "metadata": {},
          "output_type": "execute_result"
        }
      ],
      "source": [
        "D_diamonds"
      ]
    },
    {
      "cell_type": "code",
      "execution_count": null,
      "id": "7dced186-4136-444a-a58b-b0babcdf3506",
      "metadata": {
        "id": "7dced186-4136-444a-a58b-b0babcdf3506"
      },
      "outputs": [],
      "source": []
    },
    {
      "cell_type": "markdown",
      "id": "eac36db3-bc4f-490f-ab87-38454d435ef8",
      "metadata": {
        "id": "eac36db3-bc4f-490f-ab87-38454d435ef8"
      },
      "source": [
        "# Algumas analises estatísticas"
      ]
    },
    {
      "cell_type": "markdown",
      "id": "3d3844f3-3d44-44cb-b45d-43a1b99a948f",
      "metadata": {
        "id": "3d3844f3-3d44-44cb-b45d-43a1b99a948f"
      },
      "source": [
        "### Média"
      ]
    },
    {
      "cell_type": "code",
      "execution_count": null,
      "id": "d5d3f909-da2f-486f-8be8-280a9b960af1",
      "metadata": {
        "id": "d5d3f909-da2f-486f-8be8-280a9b960af1",
        "outputId": "168b7cd6-8e2f-4049-a331-8723dc70cfcf"
      },
      "outputs": [
        {
          "data": {
            "text/plain": [
              "sepal_length    5.843333\n",
              "sepal_width     3.057333\n",
              "petal_length    3.758000\n",
              "petal_width     1.199333\n",
              "dtype: float64"
            ]
          },
          "execution_count": 6,
          "metadata": {},
          "output_type": "execute_result"
        }
      ],
      "source": [
        "D_iris.mean(numeric_only=True)"
      ]
    },
    {
      "cell_type": "markdown",
      "id": "bd1f0fca-38f8-4a25-ba43-109e00b97cfa",
      "metadata": {
        "id": "bd1f0fca-38f8-4a25-ba43-109e00b97cfa"
      },
      "source": [
        "### Desvio padrão"
      ]
    },
    {
      "cell_type": "code",
      "execution_count": null,
      "id": "e1ffbeee-24cb-425b-9ace-c949769a6c19",
      "metadata": {
        "id": "e1ffbeee-24cb-425b-9ace-c949769a6c19",
        "outputId": "6c212223-9b39-4503-9d0d-29d147a26ba4"
      },
      "outputs": [
        {
          "data": {
            "text/plain": [
              "sepal_length    0.828066\n",
              "sepal_width     0.435866\n",
              "petal_length    1.765298\n",
              "petal_width     0.762238\n",
              "dtype: float64"
            ]
          },
          "execution_count": 7,
          "metadata": {},
          "output_type": "execute_result"
        }
      ],
      "source": [
        "D_iris.std(numeric_only=True)"
      ]
    },
    {
      "cell_type": "markdown",
      "id": "16d448b0-7970-4512-bd3c-0f0af5999ea7",
      "metadata": {
        "id": "16d448b0-7970-4512-bd3c-0f0af5999ea7"
      },
      "source": [
        "### Moda"
      ]
    },
    {
      "cell_type": "code",
      "execution_count": null,
      "id": "e63acfd7-a7bd-487b-805b-ffbf8268d67a",
      "metadata": {
        "id": "e63acfd7-a7bd-487b-805b-ffbf8268d67a",
        "outputId": "5c43da94-e302-4602-8435-799ce42d4f68"
      },
      "outputs": [
        {
          "data": {
            "text/html": [
              "<div>\n",
              "<style scoped>\n",
              "    .dataframe tbody tr th:only-of-type {\n",
              "        vertical-align: middle;\n",
              "    }\n",
              "\n",
              "    .dataframe tbody tr th {\n",
              "        vertical-align: top;\n",
              "    }\n",
              "\n",
              "    .dataframe thead th {\n",
              "        text-align: right;\n",
              "    }\n",
              "</style>\n",
              "<table border=\"1\" class=\"dataframe\">\n",
              "  <thead>\n",
              "    <tr style=\"text-align: right;\">\n",
              "      <th></th>\n",
              "      <th>sepal_length</th>\n",
              "      <th>sepal_width</th>\n",
              "      <th>petal_length</th>\n",
              "      <th>petal_width</th>\n",
              "    </tr>\n",
              "  </thead>\n",
              "  <tbody>\n",
              "    <tr>\n",
              "      <th>0</th>\n",
              "      <td>5.0</td>\n",
              "      <td>3.0</td>\n",
              "      <td>1.4</td>\n",
              "      <td>0.2</td>\n",
              "    </tr>\n",
              "    <tr>\n",
              "      <th>1</th>\n",
              "      <td>NaN</td>\n",
              "      <td>NaN</td>\n",
              "      <td>1.5</td>\n",
              "      <td>NaN</td>\n",
              "    </tr>\n",
              "  </tbody>\n",
              "</table>\n",
              "</div>"
            ],
            "text/plain": [
              "   sepal_length  sepal_width  petal_length  petal_width\n",
              "0           5.0          3.0           1.4          0.2\n",
              "1           NaN          NaN           1.5          NaN"
            ]
          },
          "execution_count": 8,
          "metadata": {},
          "output_type": "execute_result"
        }
      ],
      "source": [
        "D_iris.mode(numeric_only=True)"
      ]
    },
    {
      "cell_type": "markdown",
      "id": "23f01bd3-9b4d-4685-b13a-cd62991c97c8",
      "metadata": {
        "id": "23f01bd3-9b4d-4685-b13a-cd62991c97c8"
      },
      "source": [
        "### Mediana"
      ]
    },
    {
      "cell_type": "code",
      "execution_count": null,
      "id": "2a7beb6b-3473-46e8-8789-d3819e88777a",
      "metadata": {
        "id": "2a7beb6b-3473-46e8-8789-d3819e88777a",
        "outputId": "4e52f35b-2c35-4252-efc2-e854291b3d11"
      },
      "outputs": [
        {
          "data": {
            "text/plain": [
              "sepal_length    5.80\n",
              "sepal_width     3.00\n",
              "petal_length    4.35\n",
              "petal_width     1.30\n",
              "dtype: float64"
            ]
          },
          "execution_count": 9,
          "metadata": {},
          "output_type": "execute_result"
        }
      ],
      "source": [
        "D_iris.median(numeric_only=True)"
      ]
    },
    {
      "cell_type": "markdown",
      "id": "286afb16-fc39-4019-acd7-3a5008cfcf5a",
      "metadata": {
        "id": "286afb16-fc39-4019-acd7-3a5008cfcf5a"
      },
      "source": [
        "### Quartil"
      ]
    },
    {
      "cell_type": "code",
      "execution_count": null,
      "id": "a231a203-bcc8-4caa-9581-9f8bd1650d47",
      "metadata": {
        "id": "a231a203-bcc8-4caa-9581-9f8bd1650d47",
        "outputId": "d8e01f9a-253d-4f1f-a7ca-6ae2448e0991"
      },
      "outputs": [
        {
          "data": {
            "text/plain": [
              "sepal_length    5.1\n",
              "sepal_width     2.8\n",
              "petal_length    1.6\n",
              "petal_width     0.3\n",
              "Name: 0.25, dtype: float64"
            ]
          },
          "execution_count": 10,
          "metadata": {},
          "output_type": "execute_result"
        }
      ],
      "source": [
        "D_iris.quantile(0.25, numeric_only=True)"
      ]
    },
    {
      "cell_type": "code",
      "execution_count": null,
      "id": "ef896387-5b2e-4f61-914a-8244c35b0a76",
      "metadata": {
        "id": "ef896387-5b2e-4f61-914a-8244c35b0a76"
      },
      "outputs": [],
      "source": []
    },
    {
      "cell_type": "markdown",
      "id": "8c265111-3193-4957-b51c-0d14ff2831fe",
      "metadata": {
        "id": "8c265111-3193-4957-b51c-0d14ff2831fe"
      },
      "source": [
        "### Correlações"
      ]
    },
    {
      "cell_type": "code",
      "execution_count": null,
      "id": "48dcb56b-299d-4450-8455-8080db4230d9",
      "metadata": {
        "id": "48dcb56b-299d-4450-8455-8080db4230d9",
        "outputId": "5417970e-de00-4c8d-c536-1ee85b3773cb"
      },
      "outputs": [
        {
          "data": {
            "text/html": [
              "<div>\n",
              "<style scoped>\n",
              "    .dataframe tbody tr th:only-of-type {\n",
              "        vertical-align: middle;\n",
              "    }\n",
              "\n",
              "    .dataframe tbody tr th {\n",
              "        vertical-align: top;\n",
              "    }\n",
              "\n",
              "    .dataframe thead th {\n",
              "        text-align: right;\n",
              "    }\n",
              "</style>\n",
              "<table border=\"1\" class=\"dataframe\">\n",
              "  <thead>\n",
              "    <tr style=\"text-align: right;\">\n",
              "      <th></th>\n",
              "      <th>sepal_length</th>\n",
              "      <th>sepal_width</th>\n",
              "      <th>petal_length</th>\n",
              "      <th>petal_width</th>\n",
              "    </tr>\n",
              "  </thead>\n",
              "  <tbody>\n",
              "    <tr>\n",
              "      <th>sepal_length</th>\n",
              "      <td>0.685694</td>\n",
              "      <td>-0.042434</td>\n",
              "      <td>1.274315</td>\n",
              "      <td>0.516271</td>\n",
              "    </tr>\n",
              "    <tr>\n",
              "      <th>sepal_width</th>\n",
              "      <td>-0.042434</td>\n",
              "      <td>0.189979</td>\n",
              "      <td>-0.329656</td>\n",
              "      <td>-0.121639</td>\n",
              "    </tr>\n",
              "    <tr>\n",
              "      <th>petal_length</th>\n",
              "      <td>1.274315</td>\n",
              "      <td>-0.329656</td>\n",
              "      <td>3.116278</td>\n",
              "      <td>1.295609</td>\n",
              "    </tr>\n",
              "    <tr>\n",
              "      <th>petal_width</th>\n",
              "      <td>0.516271</td>\n",
              "      <td>-0.121639</td>\n",
              "      <td>1.295609</td>\n",
              "      <td>0.581006</td>\n",
              "    </tr>\n",
              "  </tbody>\n",
              "</table>\n",
              "</div>"
            ],
            "text/plain": [
              "              sepal_length  sepal_width  petal_length  petal_width\n",
              "sepal_length      0.685694    -0.042434      1.274315     0.516271\n",
              "sepal_width      -0.042434     0.189979     -0.329656    -0.121639\n",
              "petal_length      1.274315    -0.329656      3.116278     1.295609\n",
              "petal_width       0.516271    -0.121639      1.295609     0.581006"
            ]
          },
          "execution_count": 11,
          "metadata": {},
          "output_type": "execute_result"
        }
      ],
      "source": [
        "D_iris.cov(numeric_only=True)"
      ]
    },
    {
      "cell_type": "code",
      "execution_count": null,
      "id": "66291d9a-5830-4f7a-bdb8-2b0dda76bde7",
      "metadata": {
        "id": "66291d9a-5830-4f7a-bdb8-2b0dda76bde7"
      },
      "outputs": [],
      "source": []
    },
    {
      "cell_type": "code",
      "execution_count": null,
      "id": "955c81d6-4877-4f0a-97e6-34d1e0399e21",
      "metadata": {
        "id": "955c81d6-4877-4f0a-97e6-34d1e0399e21"
      },
      "outputs": [],
      "source": []
    },
    {
      "cell_type": "markdown",
      "id": "4f2f3d11-5628-4580-b3d5-d27850f02253",
      "metadata": {
        "id": "4f2f3d11-5628-4580-b3d5-d27850f02253"
      },
      "source": [
        "## Exemplos de normalização"
      ]
    },
    {
      "cell_type": "markdown",
      "id": "f851289d-4216-467d-b734-17d134d7d66c",
      "metadata": {
        "id": "f851289d-4216-467d-b734-17d134d7d66c"
      },
      "source": [
        "### Padronização"
      ]
    },
    {
      "cell_type": "code",
      "execution_count": null,
      "id": "8f3c40ae-52ae-449e-ad66-63522542fc28",
      "metadata": {
        "id": "8f3c40ae-52ae-449e-ad66-63522542fc28"
      },
      "outputs": [],
      "source": [
        "D_iris_stdNorm = (D_iris - D_iris.mean(numeric_only=True))/D_iris.std(numeric_only=True)"
      ]
    },
    {
      "cell_type": "code",
      "execution_count": null,
      "id": "7fa6767d-fd6c-4a6e-b4dd-a5d54e8c52dc",
      "metadata": {
        "id": "7fa6767d-fd6c-4a6e-b4dd-a5d54e8c52dc",
        "outputId": "1792a9af-9a6a-4f0e-cfa0-c6a0bd5a2c34"
      },
      "outputs": [
        {
          "data": {
            "text/html": [
              "<div>\n",
              "<style scoped>\n",
              "    .dataframe tbody tr th:only-of-type {\n",
              "        vertical-align: middle;\n",
              "    }\n",
              "\n",
              "    .dataframe tbody tr th {\n",
              "        vertical-align: top;\n",
              "    }\n",
              "\n",
              "    .dataframe thead th {\n",
              "        text-align: right;\n",
              "    }\n",
              "</style>\n",
              "<table border=\"1\" class=\"dataframe\">\n",
              "  <thead>\n",
              "    <tr style=\"text-align: right;\">\n",
              "      <th></th>\n",
              "      <th>petal_length</th>\n",
              "      <th>petal_width</th>\n",
              "      <th>sepal_length</th>\n",
              "      <th>sepal_width</th>\n",
              "      <th>species</th>\n",
              "    </tr>\n",
              "  </thead>\n",
              "  <tbody>\n",
              "    <tr>\n",
              "      <th>0</th>\n",
              "      <td>-1.335752</td>\n",
              "      <td>-1.311052</td>\n",
              "      <td>-0.897674</td>\n",
              "      <td>1.015602</td>\n",
              "      <td>NaN</td>\n",
              "    </tr>\n",
              "    <tr>\n",
              "      <th>1</th>\n",
              "      <td>-1.335752</td>\n",
              "      <td>-1.311052</td>\n",
              "      <td>-1.139200</td>\n",
              "      <td>-0.131539</td>\n",
              "      <td>NaN</td>\n",
              "    </tr>\n",
              "    <tr>\n",
              "      <th>2</th>\n",
              "      <td>-1.392399</td>\n",
              "      <td>-1.311052</td>\n",
              "      <td>-1.380727</td>\n",
              "      <td>0.327318</td>\n",
              "      <td>NaN</td>\n",
              "    </tr>\n",
              "    <tr>\n",
              "      <th>3</th>\n",
              "      <td>-1.279104</td>\n",
              "      <td>-1.311052</td>\n",
              "      <td>-1.501490</td>\n",
              "      <td>0.097889</td>\n",
              "      <td>NaN</td>\n",
              "    </tr>\n",
              "    <tr>\n",
              "      <th>4</th>\n",
              "      <td>-1.335752</td>\n",
              "      <td>-1.311052</td>\n",
              "      <td>-1.018437</td>\n",
              "      <td>1.245030</td>\n",
              "      <td>NaN</td>\n",
              "    </tr>\n",
              "    <tr>\n",
              "      <th>...</th>\n",
              "      <td>...</td>\n",
              "      <td>...</td>\n",
              "      <td>...</td>\n",
              "      <td>...</td>\n",
              "      <td>...</td>\n",
              "    </tr>\n",
              "    <tr>\n",
              "      <th>145</th>\n",
              "      <td>0.816859</td>\n",
              "      <td>1.443994</td>\n",
              "      <td>1.034539</td>\n",
              "      <td>-0.131539</td>\n",
              "      <td>NaN</td>\n",
              "    </tr>\n",
              "    <tr>\n",
              "      <th>146</th>\n",
              "      <td>0.703564</td>\n",
              "      <td>0.919223</td>\n",
              "      <td>0.551486</td>\n",
              "      <td>-1.278680</td>\n",
              "      <td>NaN</td>\n",
              "    </tr>\n",
              "    <tr>\n",
              "      <th>147</th>\n",
              "      <td>0.816859</td>\n",
              "      <td>1.050416</td>\n",
              "      <td>0.793012</td>\n",
              "      <td>-0.131539</td>\n",
              "      <td>NaN</td>\n",
              "    </tr>\n",
              "    <tr>\n",
              "      <th>148</th>\n",
              "      <td>0.930154</td>\n",
              "      <td>1.443994</td>\n",
              "      <td>0.430722</td>\n",
              "      <td>0.786174</td>\n",
              "      <td>NaN</td>\n",
              "    </tr>\n",
              "    <tr>\n",
              "      <th>149</th>\n",
              "      <td>0.760211</td>\n",
              "      <td>0.788031</td>\n",
              "      <td>0.068433</td>\n",
              "      <td>-0.131539</td>\n",
              "      <td>NaN</td>\n",
              "    </tr>\n",
              "  </tbody>\n",
              "</table>\n",
              "<p>150 rows × 5 columns</p>\n",
              "</div>"
            ],
            "text/plain": [
              "     petal_length  petal_width  sepal_length  sepal_width species\n",
              "0       -1.335752    -1.311052     -0.897674     1.015602     NaN\n",
              "1       -1.335752    -1.311052     -1.139200    -0.131539     NaN\n",
              "2       -1.392399    -1.311052     -1.380727     0.327318     NaN\n",
              "3       -1.279104    -1.311052     -1.501490     0.097889     NaN\n",
              "4       -1.335752    -1.311052     -1.018437     1.245030     NaN\n",
              "..            ...          ...           ...          ...     ...\n",
              "145      0.816859     1.443994      1.034539    -0.131539     NaN\n",
              "146      0.703564     0.919223      0.551486    -1.278680     NaN\n",
              "147      0.816859     1.050416      0.793012    -0.131539     NaN\n",
              "148      0.930154     1.443994      0.430722     0.786174     NaN\n",
              "149      0.760211     0.788031      0.068433    -0.131539     NaN\n",
              "\n",
              "[150 rows x 5 columns]"
            ]
          },
          "execution_count": 13,
          "metadata": {},
          "output_type": "execute_result"
        }
      ],
      "source": [
        "D_iris_stdNorm"
      ]
    },
    {
      "cell_type": "code",
      "execution_count": null,
      "id": "1c823db1-146d-420d-bf8d-ee61990d1cf1",
      "metadata": {
        "id": "1c823db1-146d-420d-bf8d-ee61990d1cf1",
        "outputId": "aabc872f-78c8-4284-8971-7ac08e58d3aa"
      },
      "outputs": [
        {
          "data": {
            "text/html": [
              "<div>\n",
              "<style scoped>\n",
              "    .dataframe tbody tr th:only-of-type {\n",
              "        vertical-align: middle;\n",
              "    }\n",
              "\n",
              "    .dataframe tbody tr th {\n",
              "        vertical-align: top;\n",
              "    }\n",
              "\n",
              "    .dataframe thead th {\n",
              "        text-align: right;\n",
              "    }\n",
              "</style>\n",
              "<table border=\"1\" class=\"dataframe\">\n",
              "  <thead>\n",
              "    <tr style=\"text-align: right;\">\n",
              "      <th></th>\n",
              "      <th>petal_length</th>\n",
              "      <th>petal_width</th>\n",
              "      <th>sepal_length</th>\n",
              "      <th>sepal_width</th>\n",
              "    </tr>\n",
              "  </thead>\n",
              "  <tbody>\n",
              "    <tr>\n",
              "      <th>petal_length</th>\n",
              "      <td>1.000000</td>\n",
              "      <td>0.962865</td>\n",
              "      <td>0.871754</td>\n",
              "      <td>-0.428440</td>\n",
              "    </tr>\n",
              "    <tr>\n",
              "      <th>petal_width</th>\n",
              "      <td>0.962865</td>\n",
              "      <td>1.000000</td>\n",
              "      <td>0.817941</td>\n",
              "      <td>-0.366126</td>\n",
              "    </tr>\n",
              "    <tr>\n",
              "      <th>sepal_length</th>\n",
              "      <td>0.871754</td>\n",
              "      <td>0.817941</td>\n",
              "      <td>1.000000</td>\n",
              "      <td>-0.117570</td>\n",
              "    </tr>\n",
              "    <tr>\n",
              "      <th>sepal_width</th>\n",
              "      <td>-0.428440</td>\n",
              "      <td>-0.366126</td>\n",
              "      <td>-0.117570</td>\n",
              "      <td>1.000000</td>\n",
              "    </tr>\n",
              "  </tbody>\n",
              "</table>\n",
              "</div>"
            ],
            "text/plain": [
              "              petal_length  petal_width  sepal_length  sepal_width\n",
              "petal_length      1.000000     0.962865      0.871754    -0.428440\n",
              "petal_width       0.962865     1.000000      0.817941    -0.366126\n",
              "sepal_length      0.871754     0.817941      1.000000    -0.117570\n",
              "sepal_width      -0.428440    -0.366126     -0.117570     1.000000"
            ]
          },
          "execution_count": 14,
          "metadata": {},
          "output_type": "execute_result"
        }
      ],
      "source": [
        "D_iris_stdNorm.cov(numeric_only=True)"
      ]
    },
    {
      "cell_type": "code",
      "execution_count": null,
      "id": "4d0213b7-dc71-4849-b7ae-d3df9291c152",
      "metadata": {
        "id": "4d0213b7-dc71-4849-b7ae-d3df9291c152"
      },
      "outputs": [],
      "source": []
    },
    {
      "cell_type": "code",
      "execution_count": null,
      "id": "4c66e0a0-d3f6-4fa0-8024-63afd1041b50",
      "metadata": {
        "id": "4c66e0a0-d3f6-4fa0-8024-63afd1041b50"
      },
      "outputs": [],
      "source": []
    },
    {
      "cell_type": "markdown",
      "id": "819253ad-c7c4-4575-af2c-ec1e63131fb0",
      "metadata": {
        "id": "819253ad-c7c4-4575-af2c-ec1e63131fb0"
      },
      "source": [
        "### Normalização (hard limits)"
      ]
    },
    {
      "cell_type": "code",
      "execution_count": null,
      "id": "f7377dd8-92f8-410a-9bfa-47f340383e37",
      "metadata": {
        "id": "f7377dd8-92f8-410a-9bfa-47f340383e37"
      },
      "outputs": [],
      "source": [
        "D_iris_hardLim = (D_iris - D_iris.min(numeric_only=True))/(D_iris.max(numeric_only=True) - D_iris.min(numeric_only=True))"
      ]
    },
    {
      "cell_type": "code",
      "execution_count": null,
      "id": "8c808f4c-eb46-446c-9900-9a93b40ea804",
      "metadata": {
        "id": "8c808f4c-eb46-446c-9900-9a93b40ea804",
        "outputId": "09dc1849-976a-4881-9138-f18e4a710c57"
      },
      "outputs": [
        {
          "data": {
            "text/html": [
              "<div>\n",
              "<style scoped>\n",
              "    .dataframe tbody tr th:only-of-type {\n",
              "        vertical-align: middle;\n",
              "    }\n",
              "\n",
              "    .dataframe tbody tr th {\n",
              "        vertical-align: top;\n",
              "    }\n",
              "\n",
              "    .dataframe thead th {\n",
              "        text-align: right;\n",
              "    }\n",
              "</style>\n",
              "<table border=\"1\" class=\"dataframe\">\n",
              "  <thead>\n",
              "    <tr style=\"text-align: right;\">\n",
              "      <th></th>\n",
              "      <th>petal_length</th>\n",
              "      <th>petal_width</th>\n",
              "      <th>sepal_length</th>\n",
              "      <th>sepal_width</th>\n",
              "      <th>species</th>\n",
              "    </tr>\n",
              "  </thead>\n",
              "  <tbody>\n",
              "    <tr>\n",
              "      <th>0</th>\n",
              "      <td>0.067797</td>\n",
              "      <td>0.041667</td>\n",
              "      <td>0.222222</td>\n",
              "      <td>0.625000</td>\n",
              "      <td>NaN</td>\n",
              "    </tr>\n",
              "    <tr>\n",
              "      <th>1</th>\n",
              "      <td>0.067797</td>\n",
              "      <td>0.041667</td>\n",
              "      <td>0.166667</td>\n",
              "      <td>0.416667</td>\n",
              "      <td>NaN</td>\n",
              "    </tr>\n",
              "    <tr>\n",
              "      <th>2</th>\n",
              "      <td>0.050847</td>\n",
              "      <td>0.041667</td>\n",
              "      <td>0.111111</td>\n",
              "      <td>0.500000</td>\n",
              "      <td>NaN</td>\n",
              "    </tr>\n",
              "    <tr>\n",
              "      <th>3</th>\n",
              "      <td>0.084746</td>\n",
              "      <td>0.041667</td>\n",
              "      <td>0.083333</td>\n",
              "      <td>0.458333</td>\n",
              "      <td>NaN</td>\n",
              "    </tr>\n",
              "    <tr>\n",
              "      <th>4</th>\n",
              "      <td>0.067797</td>\n",
              "      <td>0.041667</td>\n",
              "      <td>0.194444</td>\n",
              "      <td>0.666667</td>\n",
              "      <td>NaN</td>\n",
              "    </tr>\n",
              "    <tr>\n",
              "      <th>...</th>\n",
              "      <td>...</td>\n",
              "      <td>...</td>\n",
              "      <td>...</td>\n",
              "      <td>...</td>\n",
              "      <td>...</td>\n",
              "    </tr>\n",
              "    <tr>\n",
              "      <th>145</th>\n",
              "      <td>0.711864</td>\n",
              "      <td>0.916667</td>\n",
              "      <td>0.666667</td>\n",
              "      <td>0.416667</td>\n",
              "      <td>NaN</td>\n",
              "    </tr>\n",
              "    <tr>\n",
              "      <th>146</th>\n",
              "      <td>0.677966</td>\n",
              "      <td>0.750000</td>\n",
              "      <td>0.555556</td>\n",
              "      <td>0.208333</td>\n",
              "      <td>NaN</td>\n",
              "    </tr>\n",
              "    <tr>\n",
              "      <th>147</th>\n",
              "      <td>0.711864</td>\n",
              "      <td>0.791667</td>\n",
              "      <td>0.611111</td>\n",
              "      <td>0.416667</td>\n",
              "      <td>NaN</td>\n",
              "    </tr>\n",
              "    <tr>\n",
              "      <th>148</th>\n",
              "      <td>0.745763</td>\n",
              "      <td>0.916667</td>\n",
              "      <td>0.527778</td>\n",
              "      <td>0.583333</td>\n",
              "      <td>NaN</td>\n",
              "    </tr>\n",
              "    <tr>\n",
              "      <th>149</th>\n",
              "      <td>0.694915</td>\n",
              "      <td>0.708333</td>\n",
              "      <td>0.444444</td>\n",
              "      <td>0.416667</td>\n",
              "      <td>NaN</td>\n",
              "    </tr>\n",
              "  </tbody>\n",
              "</table>\n",
              "<p>150 rows × 5 columns</p>\n",
              "</div>"
            ],
            "text/plain": [
              "     petal_length  petal_width  sepal_length  sepal_width species\n",
              "0        0.067797     0.041667      0.222222     0.625000     NaN\n",
              "1        0.067797     0.041667      0.166667     0.416667     NaN\n",
              "2        0.050847     0.041667      0.111111     0.500000     NaN\n",
              "3        0.084746     0.041667      0.083333     0.458333     NaN\n",
              "4        0.067797     0.041667      0.194444     0.666667     NaN\n",
              "..            ...          ...           ...          ...     ...\n",
              "145      0.711864     0.916667      0.666667     0.416667     NaN\n",
              "146      0.677966     0.750000      0.555556     0.208333     NaN\n",
              "147      0.711864     0.791667      0.611111     0.416667     NaN\n",
              "148      0.745763     0.916667      0.527778     0.583333     NaN\n",
              "149      0.694915     0.708333      0.444444     0.416667     NaN\n",
              "\n",
              "[150 rows x 5 columns]"
            ]
          },
          "execution_count": 16,
          "metadata": {},
          "output_type": "execute_result"
        }
      ],
      "source": [
        "D_iris_hardLim"
      ]
    },
    {
      "cell_type": "code",
      "execution_count": null,
      "id": "a5587b70-be5c-4d67-ae17-c731aab67a68",
      "metadata": {
        "id": "a5587b70-be5c-4d67-ae17-c731aab67a68",
        "outputId": "8302fd2c-eed6-41ec-8d69-85ba67e71b66"
      },
      "outputs": [
        {
          "data": {
            "text/html": [
              "<div>\n",
              "<style scoped>\n",
              "    .dataframe tbody tr th:only-of-type {\n",
              "        vertical-align: middle;\n",
              "    }\n",
              "\n",
              "    .dataframe tbody tr th {\n",
              "        vertical-align: top;\n",
              "    }\n",
              "\n",
              "    .dataframe thead th {\n",
              "        text-align: right;\n",
              "    }\n",
              "</style>\n",
              "<table border=\"1\" class=\"dataframe\">\n",
              "  <thead>\n",
              "    <tr style=\"text-align: right;\">\n",
              "      <th></th>\n",
              "      <th>petal_length</th>\n",
              "      <th>petal_width</th>\n",
              "      <th>sepal_length</th>\n",
              "      <th>sepal_width</th>\n",
              "    </tr>\n",
              "  </thead>\n",
              "  <tbody>\n",
              "    <tr>\n",
              "      <th>petal_length</th>\n",
              "      <td>0.089522</td>\n",
              "      <td>0.091498</td>\n",
              "      <td>0.059996</td>\n",
              "      <td>-0.023281</td>\n",
              "    </tr>\n",
              "    <tr>\n",
              "      <th>petal_width</th>\n",
              "      <td>0.091498</td>\n",
              "      <td>0.100869</td>\n",
              "      <td>0.059754</td>\n",
              "      <td>-0.021118</td>\n",
              "    </tr>\n",
              "    <tr>\n",
              "      <th>sepal_length</th>\n",
              "      <td>0.059996</td>\n",
              "      <td>0.059754</td>\n",
              "      <td>0.052908</td>\n",
              "      <td>-0.004911</td>\n",
              "    </tr>\n",
              "    <tr>\n",
              "      <th>sepal_width</th>\n",
              "      <td>-0.023281</td>\n",
              "      <td>-0.021118</td>\n",
              "      <td>-0.004911</td>\n",
              "      <td>0.032983</td>\n",
              "    </tr>\n",
              "  </tbody>\n",
              "</table>\n",
              "</div>"
            ],
            "text/plain": [
              "              petal_length  petal_width  sepal_length  sepal_width\n",
              "petal_length      0.089522     0.091498      0.059996    -0.023281\n",
              "petal_width       0.091498     0.100869      0.059754    -0.021118\n",
              "sepal_length      0.059996     0.059754      0.052908    -0.004911\n",
              "sepal_width      -0.023281    -0.021118     -0.004911     0.032983"
            ]
          },
          "execution_count": 17,
          "metadata": {},
          "output_type": "execute_result"
        }
      ],
      "source": [
        "D_iris_hardLim.cov(numeric_only=True)"
      ]
    },
    {
      "cell_type": "code",
      "execution_count": null,
      "id": "0d86da92-02a3-4fb8-a21c-0fbd800d28f5",
      "metadata": {
        "id": "0d86da92-02a3-4fb8-a21c-0fbd800d28f5"
      },
      "outputs": [],
      "source": []
    },
    {
      "cell_type": "markdown",
      "id": "a241c0bb-08a5-4d6a-a61e-1a2272e34e75",
      "metadata": {
        "id": "a241c0bb-08a5-4d6a-a61e-1a2272e34e75"
      },
      "source": [
        "### Branqueamento"
      ]
    },
    {
      "cell_type": "code",
      "execution_count": null,
      "id": "60dbad84-8201-4af3-aec9-65fc2f4d6072",
      "metadata": {
        "id": "60dbad84-8201-4af3-aec9-65fc2f4d6072"
      },
      "outputs": [],
      "source": [
        "D_white_np = whiten(D_iris.to_numpy()[:,[0,1,2,3]].astype(np.float32))\n",
        "D_white = pd.DataFrame(D_white_np)"
      ]
    },
    {
      "cell_type": "code",
      "execution_count": null,
      "id": "c4e321b0-72e0-4e32-a2f0-0091483f8f5c",
      "metadata": {
        "id": "c4e321b0-72e0-4e32-a2f0-0091483f8f5c",
        "outputId": "282cda12-5d4d-4155-b252-fef05ecf3a98"
      },
      "outputs": [
        {
          "data": {
            "text/html": [
              "<div>\n",
              "<style scoped>\n",
              "    .dataframe tbody tr th:only-of-type {\n",
              "        vertical-align: middle;\n",
              "    }\n",
              "\n",
              "    .dataframe tbody tr th {\n",
              "        vertical-align: top;\n",
              "    }\n",
              "\n",
              "    .dataframe thead th {\n",
              "        text-align: right;\n",
              "    }\n",
              "</style>\n",
              "<table border=\"1\" class=\"dataframe\">\n",
              "  <thead>\n",
              "    <tr style=\"text-align: right;\">\n",
              "      <th></th>\n",
              "      <th>0</th>\n",
              "      <th>1</th>\n",
              "      <th>2</th>\n",
              "      <th>3</th>\n",
              "    </tr>\n",
              "  </thead>\n",
              "  <tbody>\n",
              "    <tr>\n",
              "      <th>0</th>\n",
              "      <td>1.006711</td>\n",
              "      <td>-0.118359</td>\n",
              "      <td>0.877604</td>\n",
              "      <td>0.823431</td>\n",
              "    </tr>\n",
              "    <tr>\n",
              "      <th>1</th>\n",
              "      <td>-0.118359</td>\n",
              "      <td>1.006711</td>\n",
              "      <td>-0.431316</td>\n",
              "      <td>-0.368583</td>\n",
              "    </tr>\n",
              "    <tr>\n",
              "      <th>2</th>\n",
              "      <td>0.877604</td>\n",
              "      <td>-0.431316</td>\n",
              "      <td>1.006711</td>\n",
              "      <td>0.969328</td>\n",
              "    </tr>\n",
              "    <tr>\n",
              "      <th>3</th>\n",
              "      <td>0.823431</td>\n",
              "      <td>-0.368583</td>\n",
              "      <td>0.969328</td>\n",
              "      <td>1.006711</td>\n",
              "    </tr>\n",
              "  </tbody>\n",
              "</table>\n",
              "</div>"
            ],
            "text/plain": [
              "          0         1         2         3\n",
              "0  1.006711 -0.118359  0.877604  0.823431\n",
              "1 -0.118359  1.006711 -0.431316 -0.368583\n",
              "2  0.877604 -0.431316  1.006711  0.969328\n",
              "3  0.823431 -0.368583  0.969328  1.006711"
            ]
          },
          "execution_count": 19,
          "metadata": {},
          "output_type": "execute_result"
        }
      ],
      "source": [
        "D_white.cov()"
      ]
    },
    {
      "cell_type": "code",
      "execution_count": null,
      "id": "66ccb314-d392-43fa-842f-aeb7cc3ad2d2",
      "metadata": {
        "id": "66ccb314-d392-43fa-842f-aeb7cc3ad2d2"
      },
      "outputs": [],
      "source": []
    },
    {
      "cell_type": "code",
      "execution_count": null,
      "id": "425a3cd3-15b4-469d-86ee-b9eaa8d4aa70",
      "metadata": {
        "id": "425a3cd3-15b4-469d-86ee-b9eaa8d4aa70"
      },
      "outputs": [],
      "source": []
    },
    {
      "cell_type": "code",
      "execution_count": null,
      "id": "f142db0b",
      "metadata": {
        "id": "f142db0b"
      },
      "outputs": [],
      "source": []
    }
  ],
  "metadata": {
    "kernelspec": {
      "display_name": "Python 3 (ipykernel)",
      "language": "python",
      "name": "python3"
    },
    "language_info": {
      "codemirror_mode": {
        "name": "ipython",
        "version": 3
      },
      "file_extension": ".py",
      "mimetype": "text/x-python",
      "name": "python",
      "nbconvert_exporter": "python",
      "pygments_lexer": "ipython3",
      "version": "3.10.10"
    },
    "colab": {
      "provenance": [],
      "include_colab_link": true
    }
  },
  "nbformat": 4,
  "nbformat_minor": 5
}
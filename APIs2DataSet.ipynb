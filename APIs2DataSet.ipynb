{
  "cells": [
    {
      "cell_type": "markdown",
      "metadata": {
        "id": "view-in-github",
        "colab_type": "text"
      },
      "source": [
        "<a href=\"https://colab.research.google.com/github/rafaart/DataScienceCO/blob/develop/APIs2DataSet.ipynb\" target=\"_parent\"><img src=\"https://colab.research.google.com/assets/colab-badge.svg\" alt=\"Open In Colab\"/></a>"
      ]
    },
    {
      "cell_type": "code",
      "execution_count": 2,
      "id": "2fe2f243-7a26-4f48-9515-b98d0e8b9e7e",
      "metadata": {
        "id": "2fe2f243-7a26-4f48-9515-b98d0e8b9e7e"
      },
      "outputs": [],
      "source": [
        "import numpy as np\n",
        "import pandas as pd\n",
        "import seaborn as sbn\n"
      ]
    },
    {
      "cell_type": "markdown",
      "source": [
        "##Transações correntes / Balança comercial (bens) e Serviços / Serviços / Outros serviços de negócio, inclusive arquitetura e engenharia\n",
        "\n",
        "Outros serviços de negócio, incluindo arquitetura e engenharia - líquido:\n",
        "**22785**\n",
        "\n",
        "Outros serviços de negócio, incluindo arquitetura e engenharia - receita:\n",
        "**22786**\n",
        "\n",
        "Outros serviços de negócio, incluindo arquitetura e engenharia - despesa:\n",
        "**22787**"
      ],
      "metadata": {
        "id": "psxdrqqe18_p"
      },
      "id": "psxdrqqe18_p"
    },
    {
      "cell_type": "markdown",
      "source": [
        "os códigos e classificações dos dados podem ser encontrados no link:\n",
        "https://dadosabertos.bcb.gov.br/pages/temas#grp1762"
      ],
      "metadata": {
        "id": "v_Lu7W1X7bj1"
      },
      "id": "v_Lu7W1X7bj1"
    },
    {
      "cell_type": "code",
      "execution_count": 3,
      "id": "104b8747-7452-4d86-ba18-c36d2f25910f",
      "metadata": {
        "id": "104b8747-7452-4d86-ba18-c36d2f25910f"
      },
      "outputs": [],
      "source": [
        "def fetch_bcb(codigo, data_inicio, data_fim):\n",
        "  url = f'https://api.bcb.gov.br/dados/serie/bcdata.sgs.{codigo}/dados?formato=json&dataInicial={data_inicio}&dataFinal={data_fim}'\n",
        "  df = pd.read_json(url)\n",
        "  return df"
      ]
    },
    {
      "cell_type": "code",
      "source": [
        "fetch_bcb(22785, '01/01/2020', '01/01/2022')"
      ],
      "metadata": {
        "colab": {
          "base_uri": "https://localhost:8080/",
          "height": 0
        },
        "collapsed": true,
        "id": "pFA09U0E1o6s",
        "outputId": "57f1c2c4-1102-4783-bfa6-1616a7beb517"
      },
      "id": "pFA09U0E1o6s",
      "execution_count": 4,
      "outputs": [
        {
          "output_type": "execute_result",
          "data": {
            "text/plain": [
              "          data  valor\n",
              "0   01/01/2020  839.8\n",
              "1   01/02/2020  399.2\n",
              "2   01/03/2020  733.2\n",
              "3   01/04/2020  438.9\n",
              "4   01/05/2020  280.7\n",
              "5   01/06/2020  352.4\n",
              "6   01/07/2020  179.7\n",
              "7   01/08/2020  215.5\n",
              "8   01/09/2020  187.1\n",
              "9   01/10/2020  -40.2\n",
              "10  01/11/2020   65.8\n",
              "11  01/12/2020  511.6\n",
              "12  01/01/2021  635.1\n",
              "13  01/02/2021  414.4\n",
              "14  01/03/2021  583.8\n",
              "15  01/04/2021  333.0\n",
              "16  01/05/2021  290.1\n",
              "17  01/06/2021  204.4\n",
              "18  01/07/2021  337.5\n",
              "19  01/08/2021  298.7\n",
              "20  01/09/2021  308.3\n",
              "21  01/10/2021  427.9\n",
              "22  01/11/2021  396.7\n",
              "23  01/12/2021  252.0\n",
              "24  01/01/2022  541.2"
            ],
            "text/html": [
              "\n",
              "  <div id=\"df-59bdb472-9f18-4360-bb60-691ea93a4d9f\" class=\"colab-df-container\">\n",
              "    <div>\n",
              "<style scoped>\n",
              "    .dataframe tbody tr th:only-of-type {\n",
              "        vertical-align: middle;\n",
              "    }\n",
              "\n",
              "    .dataframe tbody tr th {\n",
              "        vertical-align: top;\n",
              "    }\n",
              "\n",
              "    .dataframe thead th {\n",
              "        text-align: right;\n",
              "    }\n",
              "</style>\n",
              "<table border=\"1\" class=\"dataframe\">\n",
              "  <thead>\n",
              "    <tr style=\"text-align: right;\">\n",
              "      <th></th>\n",
              "      <th>data</th>\n",
              "      <th>valor</th>\n",
              "    </tr>\n",
              "  </thead>\n",
              "  <tbody>\n",
              "    <tr>\n",
              "      <th>0</th>\n",
              "      <td>01/01/2020</td>\n",
              "      <td>839.8</td>\n",
              "    </tr>\n",
              "    <tr>\n",
              "      <th>1</th>\n",
              "      <td>01/02/2020</td>\n",
              "      <td>399.2</td>\n",
              "    </tr>\n",
              "    <tr>\n",
              "      <th>2</th>\n",
              "      <td>01/03/2020</td>\n",
              "      <td>733.2</td>\n",
              "    </tr>\n",
              "    <tr>\n",
              "      <th>3</th>\n",
              "      <td>01/04/2020</td>\n",
              "      <td>438.9</td>\n",
              "    </tr>\n",
              "    <tr>\n",
              "      <th>4</th>\n",
              "      <td>01/05/2020</td>\n",
              "      <td>280.7</td>\n",
              "    </tr>\n",
              "    <tr>\n",
              "      <th>5</th>\n",
              "      <td>01/06/2020</td>\n",
              "      <td>352.4</td>\n",
              "    </tr>\n",
              "    <tr>\n",
              "      <th>6</th>\n",
              "      <td>01/07/2020</td>\n",
              "      <td>179.7</td>\n",
              "    </tr>\n",
              "    <tr>\n",
              "      <th>7</th>\n",
              "      <td>01/08/2020</td>\n",
              "      <td>215.5</td>\n",
              "    </tr>\n",
              "    <tr>\n",
              "      <th>8</th>\n",
              "      <td>01/09/2020</td>\n",
              "      <td>187.1</td>\n",
              "    </tr>\n",
              "    <tr>\n",
              "      <th>9</th>\n",
              "      <td>01/10/2020</td>\n",
              "      <td>-40.2</td>\n",
              "    </tr>\n",
              "    <tr>\n",
              "      <th>10</th>\n",
              "      <td>01/11/2020</td>\n",
              "      <td>65.8</td>\n",
              "    </tr>\n",
              "    <tr>\n",
              "      <th>11</th>\n",
              "      <td>01/12/2020</td>\n",
              "      <td>511.6</td>\n",
              "    </tr>\n",
              "    <tr>\n",
              "      <th>12</th>\n",
              "      <td>01/01/2021</td>\n",
              "      <td>635.1</td>\n",
              "    </tr>\n",
              "    <tr>\n",
              "      <th>13</th>\n",
              "      <td>01/02/2021</td>\n",
              "      <td>414.4</td>\n",
              "    </tr>\n",
              "    <tr>\n",
              "      <th>14</th>\n",
              "      <td>01/03/2021</td>\n",
              "      <td>583.8</td>\n",
              "    </tr>\n",
              "    <tr>\n",
              "      <th>15</th>\n",
              "      <td>01/04/2021</td>\n",
              "      <td>333.0</td>\n",
              "    </tr>\n",
              "    <tr>\n",
              "      <th>16</th>\n",
              "      <td>01/05/2021</td>\n",
              "      <td>290.1</td>\n",
              "    </tr>\n",
              "    <tr>\n",
              "      <th>17</th>\n",
              "      <td>01/06/2021</td>\n",
              "      <td>204.4</td>\n",
              "    </tr>\n",
              "    <tr>\n",
              "      <th>18</th>\n",
              "      <td>01/07/2021</td>\n",
              "      <td>337.5</td>\n",
              "    </tr>\n",
              "    <tr>\n",
              "      <th>19</th>\n",
              "      <td>01/08/2021</td>\n",
              "      <td>298.7</td>\n",
              "    </tr>\n",
              "    <tr>\n",
              "      <th>20</th>\n",
              "      <td>01/09/2021</td>\n",
              "      <td>308.3</td>\n",
              "    </tr>\n",
              "    <tr>\n",
              "      <th>21</th>\n",
              "      <td>01/10/2021</td>\n",
              "      <td>427.9</td>\n",
              "    </tr>\n",
              "    <tr>\n",
              "      <th>22</th>\n",
              "      <td>01/11/2021</td>\n",
              "      <td>396.7</td>\n",
              "    </tr>\n",
              "    <tr>\n",
              "      <th>23</th>\n",
              "      <td>01/12/2021</td>\n",
              "      <td>252.0</td>\n",
              "    </tr>\n",
              "    <tr>\n",
              "      <th>24</th>\n",
              "      <td>01/01/2022</td>\n",
              "      <td>541.2</td>\n",
              "    </tr>\n",
              "  </tbody>\n",
              "</table>\n",
              "</div>\n",
              "    <div class=\"colab-df-buttons\">\n",
              "\n",
              "  <div class=\"colab-df-container\">\n",
              "    <button class=\"colab-df-convert\" onclick=\"convertToInteractive('df-59bdb472-9f18-4360-bb60-691ea93a4d9f')\"\n",
              "            title=\"Convert this dataframe to an interactive table.\"\n",
              "            style=\"display:none;\">\n",
              "\n",
              "  <svg xmlns=\"http://www.w3.org/2000/svg\" height=\"24px\" viewBox=\"0 -960 960 960\">\n",
              "    <path d=\"M120-120v-720h720v720H120Zm60-500h600v-160H180v160Zm220 220h160v-160H400v160Zm0 220h160v-160H400v160ZM180-400h160v-160H180v160Zm440 0h160v-160H620v160ZM180-180h160v-160H180v160Zm440 0h160v-160H620v160Z\"/>\n",
              "  </svg>\n",
              "    </button>\n",
              "\n",
              "  <style>\n",
              "    .colab-df-container {\n",
              "      display:flex;\n",
              "      gap: 12px;\n",
              "    }\n",
              "\n",
              "    .colab-df-convert {\n",
              "      background-color: #E8F0FE;\n",
              "      border: none;\n",
              "      border-radius: 50%;\n",
              "      cursor: pointer;\n",
              "      display: none;\n",
              "      fill: #1967D2;\n",
              "      height: 32px;\n",
              "      padding: 0 0 0 0;\n",
              "      width: 32px;\n",
              "    }\n",
              "\n",
              "    .colab-df-convert:hover {\n",
              "      background-color: #E2EBFA;\n",
              "      box-shadow: 0px 1px 2px rgba(60, 64, 67, 0.3), 0px 1px 3px 1px rgba(60, 64, 67, 0.15);\n",
              "      fill: #174EA6;\n",
              "    }\n",
              "\n",
              "    .colab-df-buttons div {\n",
              "      margin-bottom: 4px;\n",
              "    }\n",
              "\n",
              "    [theme=dark] .colab-df-convert {\n",
              "      background-color: #3B4455;\n",
              "      fill: #D2E3FC;\n",
              "    }\n",
              "\n",
              "    [theme=dark] .colab-df-convert:hover {\n",
              "      background-color: #434B5C;\n",
              "      box-shadow: 0px 1px 3px 1px rgba(0, 0, 0, 0.15);\n",
              "      filter: drop-shadow(0px 1px 2px rgba(0, 0, 0, 0.3));\n",
              "      fill: #FFFFFF;\n",
              "    }\n",
              "  </style>\n",
              "\n",
              "    <script>\n",
              "      const buttonEl =\n",
              "        document.querySelector('#df-59bdb472-9f18-4360-bb60-691ea93a4d9f button.colab-df-convert');\n",
              "      buttonEl.style.display =\n",
              "        google.colab.kernel.accessAllowed ? 'block' : 'none';\n",
              "\n",
              "      async function convertToInteractive(key) {\n",
              "        const element = document.querySelector('#df-59bdb472-9f18-4360-bb60-691ea93a4d9f');\n",
              "        const dataTable =\n",
              "          await google.colab.kernel.invokeFunction('convertToInteractive',\n",
              "                                                    [key], {});\n",
              "        if (!dataTable) return;\n",
              "\n",
              "        const docLinkHtml = 'Like what you see? Visit the ' +\n",
              "          '<a target=\"_blank\" href=https://colab.research.google.com/notebooks/data_table.ipynb>data table notebook</a>'\n",
              "          + ' to learn more about interactive tables.';\n",
              "        element.innerHTML = '';\n",
              "        dataTable['output_type'] = 'display_data';\n",
              "        await google.colab.output.renderOutput(dataTable, element);\n",
              "        const docLink = document.createElement('div');\n",
              "        docLink.innerHTML = docLinkHtml;\n",
              "        element.appendChild(docLink);\n",
              "      }\n",
              "    </script>\n",
              "  </div>\n",
              "\n",
              "\n",
              "<div id=\"df-971cb177-9e34-4b69-96ac-96b9305d9800\">\n",
              "  <button class=\"colab-df-quickchart\" onclick=\"quickchart('df-971cb177-9e34-4b69-96ac-96b9305d9800')\"\n",
              "            title=\"Suggest charts\"\n",
              "            style=\"display:none;\">\n",
              "\n",
              "<svg xmlns=\"http://www.w3.org/2000/svg\" height=\"24px\"viewBox=\"0 0 24 24\"\n",
              "     width=\"24px\">\n",
              "    <g>\n",
              "        <path d=\"M19 3H5c-1.1 0-2 .9-2 2v14c0 1.1.9 2 2 2h14c1.1 0 2-.9 2-2V5c0-1.1-.9-2-2-2zM9 17H7v-7h2v7zm4 0h-2V7h2v10zm4 0h-2v-4h2v4z\"/>\n",
              "    </g>\n",
              "</svg>\n",
              "  </button>\n",
              "\n",
              "<style>\n",
              "  .colab-df-quickchart {\n",
              "      --bg-color: #E8F0FE;\n",
              "      --fill-color: #1967D2;\n",
              "      --hover-bg-color: #E2EBFA;\n",
              "      --hover-fill-color: #174EA6;\n",
              "      --disabled-fill-color: #AAA;\n",
              "      --disabled-bg-color: #DDD;\n",
              "  }\n",
              "\n",
              "  [theme=dark] .colab-df-quickchart {\n",
              "      --bg-color: #3B4455;\n",
              "      --fill-color: #D2E3FC;\n",
              "      --hover-bg-color: #434B5C;\n",
              "      --hover-fill-color: #FFFFFF;\n",
              "      --disabled-bg-color: #3B4455;\n",
              "      --disabled-fill-color: #666;\n",
              "  }\n",
              "\n",
              "  .colab-df-quickchart {\n",
              "    background-color: var(--bg-color);\n",
              "    border: none;\n",
              "    border-radius: 50%;\n",
              "    cursor: pointer;\n",
              "    display: none;\n",
              "    fill: var(--fill-color);\n",
              "    height: 32px;\n",
              "    padding: 0;\n",
              "    width: 32px;\n",
              "  }\n",
              "\n",
              "  .colab-df-quickchart:hover {\n",
              "    background-color: var(--hover-bg-color);\n",
              "    box-shadow: 0 1px 2px rgba(60, 64, 67, 0.3), 0 1px 3px 1px rgba(60, 64, 67, 0.15);\n",
              "    fill: var(--button-hover-fill-color);\n",
              "  }\n",
              "\n",
              "  .colab-df-quickchart-complete:disabled,\n",
              "  .colab-df-quickchart-complete:disabled:hover {\n",
              "    background-color: var(--disabled-bg-color);\n",
              "    fill: var(--disabled-fill-color);\n",
              "    box-shadow: none;\n",
              "  }\n",
              "\n",
              "  .colab-df-spinner {\n",
              "    border: 2px solid var(--fill-color);\n",
              "    border-color: transparent;\n",
              "    border-bottom-color: var(--fill-color);\n",
              "    animation:\n",
              "      spin 1s steps(1) infinite;\n",
              "  }\n",
              "\n",
              "  @keyframes spin {\n",
              "    0% {\n",
              "      border-color: transparent;\n",
              "      border-bottom-color: var(--fill-color);\n",
              "      border-left-color: var(--fill-color);\n",
              "    }\n",
              "    20% {\n",
              "      border-color: transparent;\n",
              "      border-left-color: var(--fill-color);\n",
              "      border-top-color: var(--fill-color);\n",
              "    }\n",
              "    30% {\n",
              "      border-color: transparent;\n",
              "      border-left-color: var(--fill-color);\n",
              "      border-top-color: var(--fill-color);\n",
              "      border-right-color: var(--fill-color);\n",
              "    }\n",
              "    40% {\n",
              "      border-color: transparent;\n",
              "      border-right-color: var(--fill-color);\n",
              "      border-top-color: var(--fill-color);\n",
              "    }\n",
              "    60% {\n",
              "      border-color: transparent;\n",
              "      border-right-color: var(--fill-color);\n",
              "    }\n",
              "    80% {\n",
              "      border-color: transparent;\n",
              "      border-right-color: var(--fill-color);\n",
              "      border-bottom-color: var(--fill-color);\n",
              "    }\n",
              "    90% {\n",
              "      border-color: transparent;\n",
              "      border-bottom-color: var(--fill-color);\n",
              "    }\n",
              "  }\n",
              "</style>\n",
              "\n",
              "  <script>\n",
              "    async function quickchart(key) {\n",
              "      const quickchartButtonEl =\n",
              "        document.querySelector('#' + key + ' button');\n",
              "      quickchartButtonEl.disabled = true;  // To prevent multiple clicks.\n",
              "      quickchartButtonEl.classList.add('colab-df-spinner');\n",
              "      try {\n",
              "        const charts = await google.colab.kernel.invokeFunction(\n",
              "            'suggestCharts', [key], {});\n",
              "      } catch (error) {\n",
              "        console.error('Error during call to suggestCharts:', error);\n",
              "      }\n",
              "      quickchartButtonEl.classList.remove('colab-df-spinner');\n",
              "      quickchartButtonEl.classList.add('colab-df-quickchart-complete');\n",
              "    }\n",
              "    (() => {\n",
              "      let quickchartButtonEl =\n",
              "        document.querySelector('#df-971cb177-9e34-4b69-96ac-96b9305d9800 button');\n",
              "      quickchartButtonEl.style.display =\n",
              "        google.colab.kernel.accessAllowed ? 'block' : 'none';\n",
              "    })();\n",
              "  </script>\n",
              "</div>\n",
              "\n",
              "    </div>\n",
              "  </div>\n"
            ],
            "application/vnd.google.colaboratory.intrinsic+json": {
              "type": "dataframe",
              "summary": "{\n  \"name\": \"fetch_bcb(22785, '01/01/2020', '01/01/2022')\",\n  \"rows\": 25,\n  \"fields\": [\n    {\n      \"column\": \"data\",\n      \"properties\": {\n        \"dtype\": \"object\",\n        \"num_unique_values\": 25,\n        \"samples\": [\n          \"01/09/2020\",\n          \"01/05/2021\",\n          \"01/01/2020\"\n        ],\n        \"semantic_type\": \"\",\n        \"description\": \"\"\n      }\n    },\n    {\n      \"column\": \"valor\",\n      \"properties\": {\n        \"dtype\": \"number\",\n        \"std\": 199.0729923085165,\n        \"min\": -40.2,\n        \"max\": 839.8,\n        \"num_unique_values\": 25,\n        \"samples\": [\n          187.1,\n          290.1,\n          839.8\n        ],\n        \"semantic_type\": \"\",\n        \"description\": \"\"\n      }\n    }\n  ]\n}"
            }
          },
          "metadata": {},
          "execution_count": 4
        }
      ]
    },
    {
      "cell_type": "markdown",
      "source": [
        "#API Kaggle\n"
      ],
      "metadata": {
        "id": "fZ27bdKkq0oh"
      },
      "id": "fZ27bdKkq0oh"
    },
    {
      "cell_type": "code",
      "source": [
        "!pip install -q kaggle"
      ],
      "metadata": {
        "id": "y7jKUqo8reyY"
      },
      "id": "y7jKUqo8reyY",
      "execution_count": 5,
      "outputs": []
    },
    {
      "cell_type": "code",
      "source": [
        "!mkdir ~/.kaggle"
      ],
      "metadata": {
        "id": "spqNk-GSzdSs",
        "outputId": "4ffdf6c5-45dd-445a-e1e3-7150941cdf13",
        "colab": {
          "base_uri": "https://localhost:8080/"
        }
      },
      "id": "spqNk-GSzdSs",
      "execution_count": 6,
      "outputs": [
        {
          "output_type": "stream",
          "name": "stdout",
          "text": [
            "mkdir: cannot create directory ‘/root/.kaggle’: File exists\n"
          ]
        }
      ]
    },
    {
      "cell_type": "code",
      "source": [
        "# prompt: criar arquivo json apartir de um link github depois salvalo na pasta root\n",
        "\n",
        "!wget -O kaggle.json https://raw.githubusercontent.com/rafaart/DataScienceCO/develop/kaggle.json\n"
      ],
      "metadata": {
        "colab": {
          "base_uri": "https://localhost:8080/"
        },
        "id": "fqThl1XL8oXA",
        "outputId": "16d8257b-86c6-42eb-a504-566af1e49dbe"
      },
      "id": "fqThl1XL8oXA",
      "execution_count": 7,
      "outputs": [
        {
          "output_type": "stream",
          "name": "stdout",
          "text": [
            "--2024-08-21 17:11:25--  https://raw.githubusercontent.com/rafaart/DataScienceCO/develop/kaggle.json\n",
            "Resolving raw.githubusercontent.com (raw.githubusercontent.com)... 185.199.111.133, 185.199.109.133, 185.199.108.133, ...\n",
            "Connecting to raw.githubusercontent.com (raw.githubusercontent.com)|185.199.111.133|:443... connected.\n",
            "HTTP request sent, awaiting response... 200 OK\n",
            "Length: 66 [text/plain]\n",
            "Saving to: ‘kaggle.json’\n",
            "\n",
            "kaggle.json         100%[===================>]      66  --.-KB/s    in 0s      \n",
            "\n",
            "2024-08-21 17:11:25 (3.07 MB/s) - ‘kaggle.json’ saved [66/66]\n",
            "\n"
          ]
        }
      ]
    },
    {
      "cell_type": "code",
      "source": [
        "!cp /content/kaggle.json ~/.kaggle/"
      ],
      "metadata": {
        "id": "SrqgEgaF8j4a"
      },
      "id": "SrqgEgaF8j4a",
      "execution_count": 8,
      "outputs": []
    },
    {
      "cell_type": "code",
      "source": [
        "!chmod 600 ~/.kaggle/kaggle.json\n"
      ],
      "metadata": {
        "collapsed": true,
        "id": "4KJeo6b7r31K"
      },
      "id": "4KJeo6b7r31K",
      "execution_count": 9,
      "outputs": []
    },
    {
      "cell_type": "code",
      "source": [
        "!kaggle datasets list -s \"brasil\""
      ],
      "metadata": {
        "colab": {
          "base_uri": "https://localhost:8080/"
        },
        "collapsed": true,
        "id": "CQXHFsTXsWVO",
        "outputId": "21f99418-6061-4e4d-db27-1f094510a9e4"
      },
      "id": "CQXHFsTXsWVO",
      "execution_count": 10,
      "outputs": [
        {
          "output_type": "stream",
          "name": "stdout",
          "text": [
            "ref                                                        title                                                size  lastUpdated          downloadCount  voteCount  usabilityRating  \n",
            "---------------------------------------------------------  --------------------------------------------------  -----  -------------------  -------------  ---------  ---------------  \n",
            "adaoduque/campeonato-brasileiro-de-futebol                 Campeonato Brasileiro de futebol                    613KB  2023-12-27 23:19:21           9179        152  1.0              \n",
            "diogocaliman/notcias-publicadas-no-brasil                  Notícias publicadas no Brasil                        11MB  2020-04-22 02:57:01            516         29  0.7647059        \n",
            "lexmlacervo/lexml-brasil-acervo                            LexML Brasil @ Acervo                                 2GB  2020-07-12 23:17:06            293         19  0.8125           \n",
            "andreifnmg/campeonato-braileiro-20092018                   Campeonato Brasileiro 2009-2018                      10KB  2019-07-19 13:07:25           1810         27  1.0              \n",
            "miguelcorraljr/doctoralia-brasil                           Doctoralia Brasil                                     7MB  2022-11-03 15:04:58            279         13  1.0              \n",
            "fidelissauro/indices-pobreza-brasil                        Indices de Pobreza no Brasil                          9KB  2022-12-11 14:42:15           1188         22  1.0              \n",
            "fidelissauro/desmatamento-brasil                           Desmatamento - Brasil                                 1KB  2023-02-18 16:19:07            567         10  1.0              \n",
            "lfarhat/brasil-students-scholarship-prouni-20052019        Brasil Students Scholarship - Prouni - (2005-2019)   50MB  2021-10-04 03:49:12           1404         45  1.0              \n",
            "pauloeduneves/hdi-brazil-idh-brasil                        HDI Brazil (IDH Brasil)                               8MB  2018-09-28 02:00:58           1128         30  0.64705884       \n",
            "felipefiorini/cub-mdio-brasil                              CUB Médio Brasil                                      22B  2022-01-24 14:28:18            171         22  0.75             \n",
            "joseguilhermelopes/bike-sharing-system-in-brasilia-brazil  Bike Sharing System in Brasilia, Brazil               5MB  2018-10-11 12:21:33            371         10  0.8235294        \n",
            "lgmoneda/cartola-fc-brasil-scouts                          Cartola FC Brasil Scouts                            437KB  2021-02-27 14:59:39            376         15  0.9411765        \n",
            "fidelissauro/inflacao-brasil                               Indices de Inflação Brasil                           24KB  2023-06-16 20:22:51            369          6  1.0              \n",
            "brunobastosg/dados-hidrometeorolgicos-do-brasil            Dados hidrometeorológicos do Brasil                 543MB  2024-04-01 11:10:07            529         19  0.88235295       \n",
            "juniorbueno/resumo-carta-pedro-vaz-de-caminha              Resumo Carta Pedro Vaz de Caminha                    18KB  2021-12-08 22:08:33             38         32  0.9375           \n",
            "ashishkumarjayswal/brasil-real-estate                      Brasil real estate Data                             185KB  2023-06-20 09:45:17            349         30  0.7058824        \n",
            "datahackers/state-of-data-2021                             State of Data Brazil 2021                           539KB  2022-03-31 18:48:28           3118        269  0.9705882        \n",
            "rafaelds/covid19-brasilio                                  COVID-19 Brasil.IO                                    5MB  2020-07-31 14:43:16            557         11  0.88235295       \n",
            "juniorbueno/letras-de-msicas-brasileiras                   Letras de Músicas Brasileiras                         7KB  2021-12-08 19:06:05            132         32  0.9375           \n",
            "ezequielalvessoares/pib-dos-municpios-brasileiros          PIB dos Municípios Brasileiros                        3KB  2023-06-27 17:18:36            288         14  1.0              \n"
          ]
        }
      ]
    },
    {
      "cell_type": "code",
      "source": [
        "!kaggle datasets download -d victorasso/cnpjs-brasil/"
      ],
      "metadata": {
        "colab": {
          "base_uri": "https://localhost:8080/"
        },
        "id": "fkiSyIcBGi3d",
        "outputId": "d845bd12-ca40-4a64-9eb8-8104b66d97ef"
      },
      "id": "fkiSyIcBGi3d",
      "execution_count": 11,
      "outputs": [
        {
          "output_type": "stream",
          "name": "stdout",
          "text": [
            "Dataset URL: https://www.kaggle.com/datasets/victorasso/cnpjs-brasil/versions/\n",
            "License(s): unknown\n",
            "cnpjs-brasil.zip: Skipping, found more recently modified local copy (use --force to force download)\n"
          ]
        }
      ]
    },
    {
      "cell_type": "code",
      "source": [
        "!unzip cnpjs-brasil.zip -d /content/"
      ],
      "metadata": {
        "colab": {
          "base_uri": "https://localhost:8080/"
        },
        "id": "f6QehbHD2RIG",
        "outputId": "40197a8f-e985-4e0e-f8f7-b66ddf8bfa9a",
        "collapsed": true
      },
      "id": "f6QehbHD2RIG",
      "execution_count": 12,
      "outputs": [
        {
          "output_type": "stream",
          "name": "stdout",
          "text": [
            "Archive:  cnpjs-brasil.zip\n",
            "replace /content/AUXILIARES/F.K03200W.SIMPLES.CSV.D11009/F.K03200$W.SIMPLES.CSV.D11009? [y]es, [n]o, [A]ll, [N]one, [r]ename: "
          ]
        }
      ]
    },
    {
      "cell_type": "markdown",
      "source": [
        "#Descrição de data sets empresa e estabelecimento"
      ],
      "metadata": {
        "id": "7PjE2pKq8L6E"
      },
      "id": "7PjE2pKq8L6E"
    },
    {
      "cell_type": "markdown",
      "source": [
        "##EMPRESA\n",
        "\n",
        "##Columns\n",
        "\n",
        "* [0] CNPJ BÁSICO\n",
        "* [1] RAZÃO SOCIAL / NOME EMPRESARIAL\n",
        "* [2] NATUREZA JURÍDICA\n",
        "* [3] QUALIFICAÇÃO DO RESPONSÁVEL\n",
        "* [4] CAPITAL SOCIAL DA EMPRESA\n",
        "* [5] PORTE DA EMPRESA CÓDIGO DO PORTE DA EMPRESA:\n",
        "* 1 – NÃO INFORMADO\n",
        "* 2 - MICRO EMPRESA\n",
        "* 03 - EMPRESA DE PEQUENO PORTE\n",
        "* 05 - DEMAIS\n",
        "* [6] ENTE FEDERATIVO RESPONSÁVEL\n",
        "\n",
        "\n",
        "\n",
        "---\n",
        "\n",
        "##ESTABELECIMENTO\n",
        "##Columns\n",
        "\n",
        "* [0] CNPJ_BASICO\n",
        "* [1] CNPJ_ORDEM\n",
        "* [2] CNPJ_DV\n",
        "* [3] MATRIZ_FILIAL\n",
        "** 1 – MATRIZ\n",
        "** 2 – FILIAL\n",
        "* [4] NOME_FANTASIA\n",
        "* [5] SITUAÇÃO_CADASTRAL\n",
        "** 01 – NULA\n",
        "** 2 – ATIVA\n",
        "** 3 – SUSPENSA\n",
        "** 4 – INAPTA\n",
        "** 08 – BAIXADA\n",
        "* [6] DATA_SITUACAO_CADASTRAL\n",
        "* [7] MOTIVO_SITUACAO_CADASTRAL\n",
        "* [8] CIDADE_NO_EXTERIOR\n",
        "* [9] PAIS\n",
        "* [10] INICIO_ATIVIDADE\n",
        "* [11] CNAE_FISCAL_PRINCIPAL\n",
        "* [12] CNAE_FISCAL_SECUNDARIA\n",
        "* [13] TIPO_LOGRADOURO\n",
        "* [14] LOGRADOURO\n",
        "* [15] NUMERO_LOGRADOURO\n",
        "* [16] COMPLEMENTO\n",
        "* [17] BAIRRO\n",
        "* [18] CEP\n",
        "* [19] UF\n",
        "* [20] MUNICIPIO\n",
        "* [21] DDD_1\n",
        "* [22] TELEFONE_1\n",
        "* [23] DDD_2\n",
        "* [24] TELEFONE_2\n",
        "* [25] DDD_FAX\n",
        "* [26] FAX\n",
        "* [27] CORREIO_ELETRONICO\n",
        "* [28] SITUAÇÃO_ESPECIAL\n",
        "* [29] DATA_SITUACAO_ESPECIAL\n",
        "\n"
      ],
      "metadata": {
        "id": "Cmqzx5TK2_bl"
      },
      "id": "Cmqzx5TK2_bl"
    },
    {
      "cell_type": "markdown",
      "source": [
        "#dividir secção"
      ],
      "metadata": {
        "id": "hmiOu5-C8di9"
      },
      "id": "hmiOu5-C8di9"
    },
    {
      "cell_type": "code",
      "source": [
        "colunas_empresa = [0, 1, 4, 5]"
      ],
      "metadata": {
        "id": "bmkmGdcx95_G"
      },
      "id": "bmkmGdcx95_G",
      "execution_count": 26,
      "outputs": []
    },
    {
      "cell_type": "code",
      "source": [
        "df_empresa = pd.read_csv('/content/EMPRESA/K3241.K03200Y0.D11009.EMPRECSV/K3241.K03200Y0.D11009.EMPRECSV', sep=';', encoding='latin-1', usecols= colunas_empresa, nrows= 1000000)"
      ],
      "metadata": {
        "id": "ti0i7Ry83_Kj"
      },
      "id": "ti0i7Ry83_Kj",
      "execution_count": 39,
      "outputs": []
    },
    {
      "cell_type": "code",
      "source": [
        "df_empresa.columns = ['CNPJ_BASICO', 'RAZAO_SOCIAL', 'CAPITAL_SOCIAL', 'PORTE_EMPRESA']\n",
        "\n",
        "#for df_empr in df_empresa:\n",
        "print(df_empresa)"
      ],
      "metadata": {
        "id": "xmTZe-sbz97_",
        "outputId": "0189518a-777c-4318-dafe-d9fc7f2af4b2",
        "colab": {
          "base_uri": "https://localhost:8080/"
        },
        "collapsed": true
      },
      "id": "xmTZe-sbz97_",
      "execution_count": 40,
      "outputs": [
        {
          "output_type": "stream",
          "name": "stdout",
          "text": [
            "        CNPJ_BASICO                                 RAZAO_SOCIAL  \\\n",
            "0          41273606      MARCOS CESAR DE MELO JUNIOR 02569327190   \n",
            "1          41273607  LAYANE SCARLETT DE SOUZA ARAUJO 07071498199   \n",
            "2          41273608                FRANCISCA SAMPAIO DE OLIVEIRA   \n",
            "3          41273609                INGRID DIAS ALVES 03151432077   \n",
            "4          41273610                  DAIANE DE SOUZA 03090245957   \n",
            "...             ...                                          ...   \n",
            "999995     42287049          MARIA ERONEIDE DA SILVA 32922782875   \n",
            "999996     42287050            ESTRELA DO RODO SUPERMERCADO LTDA   \n",
            "999997     42287051                    A. F. DA SILVA FARIA LTDA   \n",
            "999998     42287053           FABIO JOSE DE OLIVEIRA 09151569701   \n",
            "999999     42287054           SOLANGE PORTO DE MOURA 07709264441   \n",
            "\n",
            "       CAPITAL_SOCIAL  PORTE_EMPRESA  \n",
            "0            72000,00            1.0  \n",
            "1                1,00            1.0  \n",
            "2                0,00            1.0  \n",
            "3            10000,00            1.0  \n",
            "4             2500,00            1.0  \n",
            "...               ...            ...  \n",
            "999995        1000,00            1.0  \n",
            "999996      150000,00            1.0  \n",
            "999997       80000,00            1.0  \n",
            "999998       30000,00            1.0  \n",
            "999999        6000,00            1.0  \n",
            "\n",
            "[1000000 rows x 4 columns]\n"
          ]
        }
      ]
    },
    {
      "cell_type": "code",
      "source": [
        "unicidade = df_empresa['CNPJ_BASICO'].is_unique\n",
        "print(f\"A coluna 'CNPJ_BASICO' tem valores únicos? {unicidade}\")"
      ],
      "metadata": {
        "id": "bhwWDUFaBYtr",
        "outputId": "9f51b074-2eef-4b74-862d-fe3a48342f34",
        "colab": {
          "base_uri": "https://localhost:8080/"
        }
      },
      "id": "bhwWDUFaBYtr",
      "execution_count": 32,
      "outputs": [
        {
          "output_type": "stream",
          "name": "stdout",
          "text": [
            "A coluna 'CNPJ_BASICO' tem valores únicos? True\n"
          ]
        }
      ]
    },
    {
      "cell_type": "code",
      "source": [
        "print(df_empresa.shape[0])"
      ],
      "metadata": {
        "id": "pedcOFtCDFTQ",
        "outputId": "d16e11d1-424b-4564-e149-4d5406a0a28d",
        "colab": {
          "base_uri": "https://localhost:8080/"
        }
      },
      "id": "pedcOFtCDFTQ",
      "execution_count": 38,
      "outputs": [
        {
          "output_type": "stream",
          "name": "stdout",
          "text": [
            "7086763\n"
          ]
        }
      ]
    },
    {
      "cell_type": "code",
      "source": [
        "colunas_estabele = [0, 3, 4, 5, 6, 7, 9, 10, 11, 12, 13, 14, 17, 18, 19, 20]"
      ],
      "metadata": {
        "id": "VsjTyfGM-mp3"
      },
      "id": "VsjTyfGM-mp3",
      "execution_count": 33,
      "outputs": []
    },
    {
      "cell_type": "code",
      "source": [
        "df_estabelecimento = pd.read_csv('/content/ESTABELECIMENTO/K3241.K03200Y0.D11009.ESTABELE/K3241.K03200Y0.D11009.ESTABELE', sep=';', encoding='latin-1', usecols= colunas_estabele, nrows = 1000000)"
      ],
      "metadata": {
        "id": "hH-aoYp83xo_"
      },
      "execution_count": 42,
      "outputs": [],
      "id": "hH-aoYp83xo_"
    },
    {
      "cell_type": "code",
      "source": [
        "df_estabelecimento.columns = ['CNPJ_BASICO',\n",
        "                      'MATRIZ_FILIAL',\n",
        "                      'NOME_FANTASIA',\n",
        "                      'SITUAÇÃO_CADASTRAL',\n",
        "                      'DATA_SITUACAO_CADASTRAL',\n",
        "                      'MOTIVO_SITUACAO_CADASTRAL',\n",
        "                      'PAIS',\n",
        "                      'INICIO_ATIVIDADE',\n",
        "                      'CNAE_FISCAL_PRINCIPAL',\n",
        "                      'CNAE_FISCAL_SECUNDARIA',\n",
        "                      'TIPO_LOGRADOURO',\n",
        "                      'LOGRADOURO',\n",
        "                      'BAIRRO',\n",
        "                      'CEP',\n",
        "                      'UF',\n",
        "                      'MUNICIPIO']\n",
        "print(df_estabelecimento)"
      ],
      "metadata": {
        "id": "8hL1jy1I3w6t",
        "outputId": "418ec09b-a981-49d7-c3ac-7f98259d4126",
        "colab": {
          "base_uri": "https://localhost:8080/"
        }
      },
      "id": "8hL1jy1I3w6t",
      "execution_count": 44,
      "outputs": [
        {
          "output_type": "stream",
          "name": "stdout",
          "text": [
            "        CNPJ_BASICO  MATRIZ_FILIAL                      NOME_FANTASIA  \\\n",
            "0          18678380              1                        BUSCA CERTA   \n",
            "1          18678393              1                       PROTEC RURAL   \n",
            "2          18678404              1             AUTO MECANICA FAGUNDES   \n",
            "3          18678415              1                      DREAM FASHION   \n",
            "4          18678428              1            AR DESIGNER - PRODUCOES   \n",
            "...             ...            ...                                ...   \n",
            "999995     28988100              1               ALAN MORAIS DE SOUZA   \n",
            "999996     28988113              1                                NaN   \n",
            "999997     28988123              1                                NaN   \n",
            "999998     28988135              1  UNIVERSE SUNGLASSES E ACCESSORIES   \n",
            "999999     28988148              1         JKR MATERIAL DE CONSTRUCAO   \n",
            "\n",
            "        SITUAÇÃO_CADASTRAL  DATA_SITUACAO_CADASTRAL  \\\n",
            "0                        8                 20160118   \n",
            "1                        2                 20130814   \n",
            "2                        2                 20210423   \n",
            "3                        8                 20180201   \n",
            "4                        8                 20180201   \n",
            "...                    ...                      ...   \n",
            "999995                   8                 20190712   \n",
            "999996                   2                 20171101   \n",
            "999997                   2                 20171101   \n",
            "999998                   2                 20171101   \n",
            "999999                   4                 20210422   \n",
            "\n",
            "        MOTIVO_SITUACAO_CADASTRAL  PAIS  INICIO_ATIVIDADE  \\\n",
            "0                               1   NaN          20130814   \n",
            "1                               0   NaN          20130814   \n",
            "2                               0   NaN          20130814   \n",
            "3                              67   NaN          20130814   \n",
            "4                              67   NaN          20130814   \n",
            "...                           ...   ...               ...   \n",
            "999995                          1   NaN          20171101   \n",
            "999996                          0   NaN          20171101   \n",
            "999997                          0   NaN          20171101   \n",
            "999998                          0   NaN          20171101   \n",
            "999999                         63   NaN          20171101   \n",
            "\n",
            "        CNAE_FISCAL_PRINCIPAL  \\\n",
            "0                     1813001   \n",
            "1                     7490103   \n",
            "2                     4520001   \n",
            "3                     4781400   \n",
            "4                     4789099   \n",
            "...                       ...   \n",
            "999995                9313100   \n",
            "999996                8211300   \n",
            "999997                4781400   \n",
            "999998                4774100   \n",
            "999999                4744099   \n",
            "\n",
            "                                   CNAE_FISCAL_SECUNDARIA TIPO_LOGRADOURO  \\\n",
            "0         9511800,4329101,7319002,7319003,5813100,1822901         AVENIDA   \n",
            "1       0161099,0162899,7020400,7112000,7119701,712010...         AVENIDA   \n",
            "2                                         4530703,4530704             RUA   \n",
            "3                                                     NaN             RUA   \n",
            "4       1412601,1412602,4781400,7420001,8299707,581230...             RUA   \n",
            "...                                                   ...             ...   \n",
            "999995                                                NaN             RUA   \n",
            "999996                                            7420004             RUA   \n",
            "999997                                            4754701         AVENIDA   \n",
            "999998                                    4781400,7319002             RUA   \n",
            "999999                                                NaN             RUA   \n",
            "\n",
            "                       LOGRADOURO                    BAIRRO         CEP  UF  \\\n",
            "0              JULIO DE CASTILHOS  NOSSA SENHORA DE LOURDES  95010000.0  RS   \n",
            "1        DEZIDERIO DOMINGOS LOPES                    CENTRO  76857000.0  RO   \n",
            "2       FRANCISCO SILVEIRA FRANCO                    CENTRO  13900190.0  SP   \n",
            "3                ALCEMIRO LUCIANO               VILA GARCIA  83218160.0  PR   \n",
            "4                        QUADRA 4    PARQUE NOVA FRIBURGO A  72887003.0  GO   \n",
            "...                           ...                       ...         ...  ..   \n",
            "999995               MARIA ADELIA            VILA UNIVERSAL   6407120.0  SP   \n",
            "999996                CAP MILITAO          VILA SANTA CLARA   3273200.0  SP   \n",
            "999997              OTTO NIEMEYER                   CAMAQUA  91910180.0  RS   \n",
            "999998               COSTA BARROS         SITIO PINHEIRINHO   3210001.0  SP   \n",
            "999999               M (URBIS IV)               JEQUIEZINHO  45208775.0  BA   \n",
            "\n",
            "        MUNICIPIO  \n",
            "0            8599  \n",
            "1              47  \n",
            "2            6137  \n",
            "3            7745  \n",
            "4              77  \n",
            "...           ...  \n",
            "999995       6213  \n",
            "999996       7107  \n",
            "999997       8801  \n",
            "999998       7107  \n",
            "999999       3661  \n",
            "\n",
            "[1000000 rows x 16 columns]\n"
          ]
        }
      ]
    }
  ],
  "metadata": {
    "kernelspec": {
      "display_name": "Python 3 (ipykernel)",
      "language": "python",
      "name": "python3"
    },
    "language_info": {
      "codemirror_mode": {
        "name": "ipython",
        "version": 3
      },
      "file_extension": ".py",
      "mimetype": "text/x-python",
      "name": "python",
      "nbconvert_exporter": "python",
      "pygments_lexer": "ipython3",
      "version": "3.10.10"
    },
    "colab": {
      "provenance": [],
      "include_colab_link": true
    }
  },
  "nbformat": 4,
  "nbformat_minor": 5
}
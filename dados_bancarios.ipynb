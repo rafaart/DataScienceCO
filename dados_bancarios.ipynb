{
  "nbformat": 4,
  "nbformat_minor": 0,
  "metadata": {
    "colab": {
      "provenance": [],
      "include_colab_link": true
    },
    "kernelspec": {
      "name": "python3",
      "display_name": "Python 3"
    },
    "language_info": {
      "name": "python"
    }
  },
  "cells": [
    {
      "cell_type": "markdown",
      "metadata": {
        "id": "view-in-github",
        "colab_type": "text"
      },
      "source": [
        "<a href=\"https://colab.research.google.com/github/rafaart/DataScienceCO/blob/develop/dados_bancarios.ipynb\" target=\"_parent\"><img src=\"https://colab.research.google.com/assets/colab-badge.svg\" alt=\"Open In Colab\"/></a>"
      ]
    },
    {
      "cell_type": "code",
      "execution_count": 5,
      "metadata": {
        "id": "EMDXw7N9NbIz"
      },
      "outputs": [],
      "source": [
        "import pandas as pd\n",
        "import numpy as dp"
      ]
    },
    {
      "cell_type": "code",
      "source": [
        "!godwn('/content/drive/MyDrive/GC/Restic/Churn.csv')"
      ],
      "metadata": {
        "colab": {
          "base_uri": "https://localhost:8080/"
        },
        "id": "mMlRN_pvNxr0",
        "outputId": "358162f1-0141-490b-b696-aabf3de6dbc8"
      },
      "execution_count": 6,
      "outputs": [
        {
          "output_type": "stream",
          "name": "stdout",
          "text": [
            "/bin/bash: -c: line 1: syntax error near unexpected token `'/content/drive/MyDrive/GC/Restic/Churn.csv''\n",
            "/bin/bash: -c: line 1: `godwn('/content/drive/MyDrive/GC/Restic/Churn.csv')'\n"
          ]
        }
      ]
    },
    {
      "cell_type": "code",
      "source": [
        "\n",
        "baseDados = pd.read_csv ('/content/drive/MyDrive/COLAB ARQUIVOS/Churn.csv')\n",
        "baseFrame = pd.DataFrame(baseDados)\n",
        "baseDados.head()\n",
        "baseFrame.head()"
      ],
      "metadata": {
        "colab": {
          "base_uri": "https://localhost:8080/",
          "height": 206
        },
        "id": "LZfHQPrdPD2q",
        "outputId": "a30d76dd-ed29-4181-a5f9-0cc255cf595c"
      },
      "execution_count": null,
      "outputs": [
        {
          "output_type": "execute_result",
          "data": {
            "text/plain": [
              "             X0;X1;X2;X3;X4;X4;X6;X7;X8;X9;X10;X11\n",
              "0        1;619;RS;Feminino;42;2;0;1;1;1;10134888;1\n",
              "1  2;608;SC;Feminino;41;1;8380786;1;0;1;11254258;0\n",
              "2  3;502;RS;Feminino;42;8;1596608;3;1;0;11393157;1\n",
              "3         4;699;RS;Feminino;39;1;0;2;0;0;9382663;0\n",
              "4   5;850;SC;Feminino;43;2;12551082;1;1;1;790841;0"
            ],
            "text/html": [
              "\n",
              "  <div id=\"df-307a4b5c-4e62-4b29-9bad-0c6398c207ca\" class=\"colab-df-container\">\n",
              "    <div>\n",
              "<style scoped>\n",
              "    .dataframe tbody tr th:only-of-type {\n",
              "        vertical-align: middle;\n",
              "    }\n",
              "\n",
              "    .dataframe tbody tr th {\n",
              "        vertical-align: top;\n",
              "    }\n",
              "\n",
              "    .dataframe thead th {\n",
              "        text-align: right;\n",
              "    }\n",
              "</style>\n",
              "<table border=\"1\" class=\"dataframe\">\n",
              "  <thead>\n",
              "    <tr style=\"text-align: right;\">\n",
              "      <th></th>\n",
              "      <th>X0;X1;X2;X3;X4;X4;X6;X7;X8;X9;X10;X11</th>\n",
              "    </tr>\n",
              "  </thead>\n",
              "  <tbody>\n",
              "    <tr>\n",
              "      <th>0</th>\n",
              "      <td>1;619;RS;Feminino;42;2;0;1;1;1;10134888;1</td>\n",
              "    </tr>\n",
              "    <tr>\n",
              "      <th>1</th>\n",
              "      <td>2;608;SC;Feminino;41;1;8380786;1;0;1;11254258;0</td>\n",
              "    </tr>\n",
              "    <tr>\n",
              "      <th>2</th>\n",
              "      <td>3;502;RS;Feminino;42;8;1596608;3;1;0;11393157;1</td>\n",
              "    </tr>\n",
              "    <tr>\n",
              "      <th>3</th>\n",
              "      <td>4;699;RS;Feminino;39;1;0;2;0;0;9382663;0</td>\n",
              "    </tr>\n",
              "    <tr>\n",
              "      <th>4</th>\n",
              "      <td>5;850;SC;Feminino;43;2;12551082;1;1;1;790841;0</td>\n",
              "    </tr>\n",
              "  </tbody>\n",
              "</table>\n",
              "</div>\n",
              "    <div class=\"colab-df-buttons\">\n",
              "\n",
              "  <div class=\"colab-df-container\">\n",
              "    <button class=\"colab-df-convert\" onclick=\"convertToInteractive('df-307a4b5c-4e62-4b29-9bad-0c6398c207ca')\"\n",
              "            title=\"Convert this dataframe to an interactive table.\"\n",
              "            style=\"display:none;\">\n",
              "\n",
              "  <svg xmlns=\"http://www.w3.org/2000/svg\" height=\"24px\" viewBox=\"0 -960 960 960\">\n",
              "    <path d=\"M120-120v-720h720v720H120Zm60-500h600v-160H180v160Zm220 220h160v-160H400v160Zm0 220h160v-160H400v160ZM180-400h160v-160H180v160Zm440 0h160v-160H620v160ZM180-180h160v-160H180v160Zm440 0h160v-160H620v160Z\"/>\n",
              "  </svg>\n",
              "    </button>\n",
              "\n",
              "  <style>\n",
              "    .colab-df-container {\n",
              "      display:flex;\n",
              "      gap: 12px;\n",
              "    }\n",
              "\n",
              "    .colab-df-convert {\n",
              "      background-color: #E8F0FE;\n",
              "      border: none;\n",
              "      border-radius: 50%;\n",
              "      cursor: pointer;\n",
              "      display: none;\n",
              "      fill: #1967D2;\n",
              "      height: 32px;\n",
              "      padding: 0 0 0 0;\n",
              "      width: 32px;\n",
              "    }\n",
              "\n",
              "    .colab-df-convert:hover {\n",
              "      background-color: #E2EBFA;\n",
              "      box-shadow: 0px 1px 2px rgba(60, 64, 67, 0.3), 0px 1px 3px 1px rgba(60, 64, 67, 0.15);\n",
              "      fill: #174EA6;\n",
              "    }\n",
              "\n",
              "    .colab-df-buttons div {\n",
              "      margin-bottom: 4px;\n",
              "    }\n",
              "\n",
              "    [theme=dark] .colab-df-convert {\n",
              "      background-color: #3B4455;\n",
              "      fill: #D2E3FC;\n",
              "    }\n",
              "\n",
              "    [theme=dark] .colab-df-convert:hover {\n",
              "      background-color: #434B5C;\n",
              "      box-shadow: 0px 1px 3px 1px rgba(0, 0, 0, 0.15);\n",
              "      filter: drop-shadow(0px 1px 2px rgba(0, 0, 0, 0.3));\n",
              "      fill: #FFFFFF;\n",
              "    }\n",
              "  </style>\n",
              "\n",
              "    <script>\n",
              "      const buttonEl =\n",
              "        document.querySelector('#df-307a4b5c-4e62-4b29-9bad-0c6398c207ca button.colab-df-convert');\n",
              "      buttonEl.style.display =\n",
              "        google.colab.kernel.accessAllowed ? 'block' : 'none';\n",
              "\n",
              "      async function convertToInteractive(key) {\n",
              "        const element = document.querySelector('#df-307a4b5c-4e62-4b29-9bad-0c6398c207ca');\n",
              "        const dataTable =\n",
              "          await google.colab.kernel.invokeFunction('convertToInteractive',\n",
              "                                                    [key], {});\n",
              "        if (!dataTable) return;\n",
              "\n",
              "        const docLinkHtml = 'Like what you see? Visit the ' +\n",
              "          '<a target=\"_blank\" href=https://colab.research.google.com/notebooks/data_table.ipynb>data table notebook</a>'\n",
              "          + ' to learn more about interactive tables.';\n",
              "        element.innerHTML = '';\n",
              "        dataTable['output_type'] = 'display_data';\n",
              "        await google.colab.output.renderOutput(dataTable, element);\n",
              "        const docLink = document.createElement('div');\n",
              "        docLink.innerHTML = docLinkHtml;\n",
              "        element.appendChild(docLink);\n",
              "      }\n",
              "    </script>\n",
              "  </div>\n",
              "\n",
              "\n",
              "<div id=\"df-63c18371-63e6-4eb2-bd1f-c90f33d99138\">\n",
              "  <button class=\"colab-df-quickchart\" onclick=\"quickchart('df-63c18371-63e6-4eb2-bd1f-c90f33d99138')\"\n",
              "            title=\"Suggest charts\"\n",
              "            style=\"display:none;\">\n",
              "\n",
              "<svg xmlns=\"http://www.w3.org/2000/svg\" height=\"24px\"viewBox=\"0 0 24 24\"\n",
              "     width=\"24px\">\n",
              "    <g>\n",
              "        <path d=\"M19 3H5c-1.1 0-2 .9-2 2v14c0 1.1.9 2 2 2h14c1.1 0 2-.9 2-2V5c0-1.1-.9-2-2-2zM9 17H7v-7h2v7zm4 0h-2V7h2v10zm4 0h-2v-4h2v4z\"/>\n",
              "    </g>\n",
              "</svg>\n",
              "  </button>\n",
              "\n",
              "<style>\n",
              "  .colab-df-quickchart {\n",
              "      --bg-color: #E8F0FE;\n",
              "      --fill-color: #1967D2;\n",
              "      --hover-bg-color: #E2EBFA;\n",
              "      --hover-fill-color: #174EA6;\n",
              "      --disabled-fill-color: #AAA;\n",
              "      --disabled-bg-color: #DDD;\n",
              "  }\n",
              "\n",
              "  [theme=dark] .colab-df-quickchart {\n",
              "      --bg-color: #3B4455;\n",
              "      --fill-color: #D2E3FC;\n",
              "      --hover-bg-color: #434B5C;\n",
              "      --hover-fill-color: #FFFFFF;\n",
              "      --disabled-bg-color: #3B4455;\n",
              "      --disabled-fill-color: #666;\n",
              "  }\n",
              "\n",
              "  .colab-df-quickchart {\n",
              "    background-color: var(--bg-color);\n",
              "    border: none;\n",
              "    border-radius: 50%;\n",
              "    cursor: pointer;\n",
              "    display: none;\n",
              "    fill: var(--fill-color);\n",
              "    height: 32px;\n",
              "    padding: 0;\n",
              "    width: 32px;\n",
              "  }\n",
              "\n",
              "  .colab-df-quickchart:hover {\n",
              "    background-color: var(--hover-bg-color);\n",
              "    box-shadow: 0 1px 2px rgba(60, 64, 67, 0.3), 0 1px 3px 1px rgba(60, 64, 67, 0.15);\n",
              "    fill: var(--button-hover-fill-color);\n",
              "  }\n",
              "\n",
              "  .colab-df-quickchart-complete:disabled,\n",
              "  .colab-df-quickchart-complete:disabled:hover {\n",
              "    background-color: var(--disabled-bg-color);\n",
              "    fill: var(--disabled-fill-color);\n",
              "    box-shadow: none;\n",
              "  }\n",
              "\n",
              "  .colab-df-spinner {\n",
              "    border: 2px solid var(--fill-color);\n",
              "    border-color: transparent;\n",
              "    border-bottom-color: var(--fill-color);\n",
              "    animation:\n",
              "      spin 1s steps(1) infinite;\n",
              "  }\n",
              "\n",
              "  @keyframes spin {\n",
              "    0% {\n",
              "      border-color: transparent;\n",
              "      border-bottom-color: var(--fill-color);\n",
              "      border-left-color: var(--fill-color);\n",
              "    }\n",
              "    20% {\n",
              "      border-color: transparent;\n",
              "      border-left-color: var(--fill-color);\n",
              "      border-top-color: var(--fill-color);\n",
              "    }\n",
              "    30% {\n",
              "      border-color: transparent;\n",
              "      border-left-color: var(--fill-color);\n",
              "      border-top-color: var(--fill-color);\n",
              "      border-right-color: var(--fill-color);\n",
              "    }\n",
              "    40% {\n",
              "      border-color: transparent;\n",
              "      border-right-color: var(--fill-color);\n",
              "      border-top-color: var(--fill-color);\n",
              "    }\n",
              "    60% {\n",
              "      border-color: transparent;\n",
              "      border-right-color: var(--fill-color);\n",
              "    }\n",
              "    80% {\n",
              "      border-color: transparent;\n",
              "      border-right-color: var(--fill-color);\n",
              "      border-bottom-color: var(--fill-color);\n",
              "    }\n",
              "    90% {\n",
              "      border-color: transparent;\n",
              "      border-bottom-color: var(--fill-color);\n",
              "    }\n",
              "  }\n",
              "</style>\n",
              "\n",
              "  <script>\n",
              "    async function quickchart(key) {\n",
              "      const quickchartButtonEl =\n",
              "        document.querySelector('#' + key + ' button');\n",
              "      quickchartButtonEl.disabled = true;  // To prevent multiple clicks.\n",
              "      quickchartButtonEl.classList.add('colab-df-spinner');\n",
              "      try {\n",
              "        const charts = await google.colab.kernel.invokeFunction(\n",
              "            'suggestCharts', [key], {});\n",
              "      } catch (error) {\n",
              "        console.error('Error during call to suggestCharts:', error);\n",
              "      }\n",
              "      quickchartButtonEl.classList.remove('colab-df-spinner');\n",
              "      quickchartButtonEl.classList.add('colab-df-quickchart-complete');\n",
              "    }\n",
              "    (() => {\n",
              "      let quickchartButtonEl =\n",
              "        document.querySelector('#df-63c18371-63e6-4eb2-bd1f-c90f33d99138 button');\n",
              "      quickchartButtonEl.style.display =\n",
              "        google.colab.kernel.accessAllowed ? 'block' : 'none';\n",
              "    })();\n",
              "  </script>\n",
              "</div>\n",
              "\n",
              "    </div>\n",
              "  </div>\n"
            ],
            "application/vnd.google.colaboratory.intrinsic+json": {
              "type": "dataframe",
              "variable_name": "baseFrame",
              "summary": "{\n  \"name\": \"baseFrame\",\n  \"rows\": 999,\n  \"fields\": [\n    {\n      \"column\": \"X0;X1;X2;X3;X4;X4;X6;X7;X8;X9;X10;X11\",\n      \"properties\": {\n        \"dtype\": \"string\",\n        \"num_unique_values\": 998,\n        \"samples\": [\n          \"456;758;RS;Feminino;39;6;12735776;1;0;1;56577;0\",\n          \"795;743;PR;Feminino;34;1;13173688;1;1;1;10854321;0\",\n          \"212;689;PR;Masculino;33;2;16181464;2;1;0;1693819;0\"\n        ],\n        \"semantic_type\": \"\",\n        \"description\": \"\"\n      }\n    }\n  ]\n}"
            }
          },
          "metadata": {},
          "execution_count": 24
        }
      ]
    },
    {
      "cell_type": "code",
      "source": [
        "print (baseFrame)"
      ],
      "metadata": {
        "colab": {
          "base_uri": "https://localhost:8080/"
        },
        "id": "KohECBGpW0-n",
        "outputId": "414d6ccb-226e-45b7-a179-bf651dd18d7d"
      },
      "execution_count": null,
      "outputs": [
        {
          "output_type": "stream",
          "name": "stdout",
          "text": [
            "                 X0;X1;X2;X3;X4;X4;X6;X7;X8;X9;X10;X11\n",
            "0            1;619;RS;Feminino;42;2;0;1;1;1;10134888;1\n",
            "1      2;608;SC;Feminino;41;1;8380786;1;0;1;11254258;0\n",
            "2      3;502;RS;Feminino;42;8;1596608;3;1;0;11393157;1\n",
            "3             4;699;RS;Feminino;39;1;0;2;0;0;9382663;0\n",
            "4       5;850;SC;Feminino;43;2;12551082;1;1;1;790841;0\n",
            "..                                                 ...\n",
            "994  996;838;SC;Masculino;43;9;12310588;2;1;0;14576...\n",
            "995        997;610;SC;Masculino;29;9;0;3;0;1;8391224;0\n",
            "996        998;811;SC;Masculino;44;3;0;2;0;1;7843973;0\n",
            "997  999;587;SC;Masculino;62;7;12128627;1;0;1;677692;0\n",
            "998  1000;811;PR;Feminino;28;4;16773882;2;1;1;990342;0\n",
            "\n",
            "[999 rows x 1 columns]\n"
          ]
        }
      ]
    },
    {
      "cell_type": "code",
      "source": [
        "baseFrame.shape"
      ],
      "metadata": {
        "colab": {
          "base_uri": "https://localhost:8080/"
        },
        "id": "CVif59b9Rpv2",
        "outputId": "c1301e12-a6a5-402e-89ca-f50efe22de3d"
      },
      "execution_count": null,
      "outputs": [
        {
          "output_type": "execute_result",
          "data": {
            "text/plain": [
              "(999, 1)"
            ]
          },
          "metadata": {},
          "execution_count": 26
        }
      ]
    },
    {
      "cell_type": "code",
      "source": [
        "baseFrame.rename(columns ={'X0':'id','X1':'score','X2':'Estado','X3':'Genero','X4':'Idade','X4':'Patrimonio','X6' :'Saldo', 'X7':'Produtos','X8':'TemCartCredito','X9':'Ativo', 'X10':'Salario','X11':'Saiu' }, inplace=True)"
      ],
      "metadata": {
        "id": "-n9mfKRUSP57"
      },
      "execution_count": null,
      "outputs": []
    },
    {
      "cell_type": "code",
      "source": [
        "print ( baseFrame)"
      ],
      "metadata": {
        "colab": {
          "base_uri": "https://localhost:8080/"
        },
        "id": "0kEJCn97Wy8U",
        "outputId": "23e58618-faee-46c6-fa02-7311c540d7cc"
      },
      "execution_count": null,
      "outputs": [
        {
          "output_type": "stream",
          "name": "stdout",
          "text": [
            "                 X0;X1;X2;X3;X4;X4;X6;X7;X8;X9;X10;X11\n",
            "0            1;619;RS;Feminino;42;2;0;1;1;1;10134888;1\n",
            "1      2;608;SC;Feminino;41;1;8380786;1;0;1;11254258;0\n",
            "2      3;502;RS;Feminino;42;8;1596608;3;1;0;11393157;1\n",
            "3             4;699;RS;Feminino;39;1;0;2;0;0;9382663;0\n",
            "4       5;850;SC;Feminino;43;2;12551082;1;1;1;790841;0\n",
            "..                                                 ...\n",
            "994  996;838;SC;Masculino;43;9;12310588;2;1;0;14576...\n",
            "995        997;610;SC;Masculino;29;9;0;3;0;1;8391224;0\n",
            "996        998;811;SC;Masculino;44;3;0;2;0;1;7843973;0\n",
            "997  999;587;SC;Masculino;62;7;12128627;1;0;1;677692;0\n",
            "998  1000;811;PR;Feminino;28;4;16773882;2;1;1;990342;0\n",
            "\n",
            "[999 rows x 1 columns]\n"
          ]
        }
      ]
    },
    {
      "cell_type": "code",
      "source": [
        "baseFrame.rename(columns={'X0':'Id'}, inplace=True)\n",
        "print(baseFrame)"
      ],
      "metadata": {
        "colab": {
          "base_uri": "https://localhost:8080/"
        },
        "id": "-M9txiITczv_",
        "outputId": "40b27226-a8bc-4abc-d6a9-1a05d3c31da7"
      },
      "execution_count": null,
      "outputs": [
        {
          "output_type": "stream",
          "name": "stdout",
          "text": [
            "                 X0;X1;X2;X3;X4;X4;X6;X7;X8;X9;X10;X11\n",
            "0            1;619;RS;Feminino;42;2;0;1;1;1;10134888;1\n",
            "1      2;608;SC;Feminino;41;1;8380786;1;0;1;11254258;0\n",
            "2      3;502;RS;Feminino;42;8;1596608;3;1;0;11393157;1\n",
            "3             4;699;RS;Feminino;39;1;0;2;0;0;9382663;0\n",
            "4       5;850;SC;Feminino;43;2;12551082;1;1;1;790841;0\n",
            "..                                                 ...\n",
            "994  996;838;SC;Masculino;43;9;12310588;2;1;0;14576...\n",
            "995        997;610;SC;Masculino;29;9;0;3;0;1;8391224;0\n",
            "996        998;811;SC;Masculino;44;3;0;2;0;1;7843973;0\n",
            "997  999;587;SC;Masculino;62;7;12128627;1;0;1;677692;0\n",
            "998  1000;811;PR;Feminino;28;4;16773882;2;1;1;990342;0\n",
            "\n",
            "[999 rows x 1 columns]\n"
          ]
        }
      ]
    }
  ]
}
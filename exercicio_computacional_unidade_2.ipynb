{
  "nbformat": 4,
  "nbformat_minor": 0,
  "metadata": {
    "colab": {
      "provenance": [],
      "authorship_tag": "ABX9TyMKrM490PH/IfauCrDrMU8M",
      "include_colab_link": true
    },
    "kernelspec": {
      "name": "python3",
      "display_name": "Python 3"
    },
    "language_info": {
      "name": "python"
    }
  },
  "cells": [
    {
      "cell_type": "markdown",
      "metadata": {
        "id": "view-in-github",
        "colab_type": "text"
      },
      "source": [
        "<a href=\"https://colab.research.google.com/github/rafaart/DataScienceCO/blob/develop/exercicio_computacional_unidade_2.ipynb\" target=\"_parent\"><img src=\"https://colab.research.google.com/assets/colab-badge.svg\" alt=\"Open In Colab\"/></a>"
      ]
    },
    {
      "cell_type": "code",
      "execution_count": null,
      "metadata": {
        "id": "logBSStUHgWY"
      },
      "outputs": [],
      "source": []
    },
    {
      "cell_type": "code",
      "source": [],
      "metadata": {
        "id": "RiBSt784UO9r"
      },
      "execution_count": null,
      "outputs": []
    },
    {
      "cell_type": "markdown",
      "source": [
        "#Esse notebook responde as questões da lista de exercicio computacional do material complementar da Unidade 2\n"
      ],
      "metadata": {
        "id": "8aPFhIaMHht5"
      }
    },
    {
      "cell_type": "code",
      "source": [
        "import scipy.stats as stats\n",
        "import math\n",
        "from scipy.optimize import minimize"
      ],
      "metadata": {
        "id": "p-PHreXRH2kf"
      },
      "execution_count": 1,
      "outputs": []
    },
    {
      "cell_type": "markdown",
      "source": [
        "## Questão 1"
      ],
      "metadata": {
        "id": "o8Se6uXXH4jK"
      }
    },
    {
      "cell_type": "code",
      "source": [
        "\n",
        "\n",
        "# Função para encontrar o desvio padrão\n",
        "def encontrar_desvio_padrao(probabilidade_desejada, media, x1, x2):\n",
        "    # Definição inicial de erro\n",
        "    tolerancia = 1e-6\n",
        "    desvio_padrao_inicial = 1.0\n",
        "\n",
        "    # Ajuste do desvio padrão iterativamente\n",
        "    desvio_padrao = desvio_padrao_inicial\n",
        "    erro = 1.0\n",
        "\n",
        "    while erro > tolerancia:\n",
        "        # Calcula a probabilidade para o intervalo dado com o desvio padrão atual\n",
        "        probabilidade = stats.norm.cdf(x2, loc=media, scale=desvio_padrao) - stats.norm.cdf(x1, loc=media, scale=desvio_padrao)\n",
        "\n",
        "        # Calcula o erro com relação à probabilidade desejada\n",
        "        erro = abs(probabilidade - probabilidade_desejada)\n",
        "\n",
        "        # Ajusta o desvio padrão se o erro for grande\n",
        "        if probabilidade < probabilidade_desejada:\n",
        "            desvio_padrao += 0.01\n",
        "        else:\n",
        "            desvio_padrao -= 0.01\n",
        "\n",
        "    return desvio_padrao\n",
        "\n",
        "# Valores da questão\n",
        "probabilidade_desejada = 0.85\n",
        "media = 0\n",
        "x1 = -2\n",
        "x2 = 4\n",
        "\n",
        "# Chamada da função\n",
        "desvio_padrao = encontrar_desvio_padrao(probabilidade_desejada, media, x1, x2)\n",
        "\n",
        "print(f\"O desvio padrão necessário é aproximadamente: {desvio_padrao:.6f}\")\n"
      ],
      "metadata": {
        "colab": {
          "base_uri": "https://localhost:8080/"
        },
        "id": "8v3W5CfVH8tH",
        "outputId": "280353f2-c8bc-41d1-eb51-5be1a87d60ee"
      },
      "execution_count": null,
      "outputs": [
        {
          "output_type": "stream",
          "name": "stdout",
          "text": [
            "O desvio padrão necessário é aproximadamente: -0.010000\n"
          ]
        }
      ]
    },
    {
      "cell_type": "code",
      "source": [
        "\n",
        "\n",
        "# Função objetivo para minimizar o erro entre a probabilidade calculada e a desejada\n",
        "def erro_desvio_padrao(sigma, probabilidade_desejada, media, x1, x2):\n",
        "    # Calcula a probabilidade para o intervalo dado com o desvio padrão atual\n",
        "    probabilidade = stats.norm.cdf(x2, loc=media, scale=sigma) - stats.norm.cdf(x1, loc=media, scale=sigma)\n",
        "\n",
        "    # Retorna o erro absoluto em relação à probabilidade desejada\n",
        "    return abs(probabilidade - probabilidade_desejada)\n",
        "\n",
        "# Valores da questão\n",
        "probabilidade_desejada = 0.85\n",
        "media = 0\n",
        "x1 = -2\n",
        "x2 = 4\n",
        "\n",
        "# Utilizamos um método de otimização para minimizar o erro e encontrar o desvio padrão correto\n",
        "resultado = minimize(erro_desvio_padrao, x0=1.0, args=(probabilidade_desejada, media, x1, x2), bounds=[(0, None)])\n",
        "\n",
        "# Exibe o resultado\n",
        "desvio_padrao = resultado.x[0]\n",
        "print(f\"O desvio padrão necessário é aproximadamente: {desvio_padrao:.6f}\")\n"
      ],
      "metadata": {
        "id": "fWEr0XnGURSt",
        "outputId": "f8dd2fe3-4f7b-466e-8860-b6236de24ae3",
        "colab": {
          "base_uri": "https://localhost:8080/"
        }
      },
      "execution_count": 2,
      "outputs": [
        {
          "output_type": "stream",
          "name": "stdout",
          "text": [
            "O desvio padrão necessário é aproximadamente: 1.820645\n"
          ]
        }
      ]
    }
  ]
}
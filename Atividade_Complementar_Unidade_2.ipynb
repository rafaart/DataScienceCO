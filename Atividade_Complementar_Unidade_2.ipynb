{
  "nbformat": 4,
  "nbformat_minor": 0,
  "metadata": {
    "colab": {
      "provenance": [],
      "include_colab_link": true
    },
    "kernelspec": {
      "name": "python3",
      "display_name": "Python 3"
    },
    "language_info": {
      "name": "python"
    }
  },
  "cells": [
    {
      "cell_type": "markdown",
      "metadata": {
        "id": "view-in-github",
        "colab_type": "text"
      },
      "source": [
        "<a href=\"https://colab.research.google.com/github/rafaart/DataScienceCO/blob/develop/Atividade_Complementar_Unidade_2.ipynb\" target=\"_parent\"><img src=\"https://colab.research.google.com/assets/colab-badge.svg\" alt=\"Open In Colab\"/></a>"
      ]
    },
    {
      "cell_type": "markdown",
      "source": [
        "# Importando as bibliotecas"
      ],
      "metadata": {
        "id": "yF5UR41zVN3n"
      }
    },
    {
      "cell_type": "code",
      "source": [
        "import pandas as pd\n",
        "import numpy as np"
      ],
      "metadata": {
        "id": "k8o-S51-ff7S"
      },
      "execution_count": 2,
      "outputs": []
    },
    {
      "cell_type": "markdown",
      "source": [
        "# Baixando o dataset Medical Cost Personal Datasets\n",
        "Esse dataset relaciona os dados:\n",
        "\n",
        "| idade | sexo | imc | número de filhos | indicador de fumante | região do usuário | valor do seguro de saúde |\n",
        "\n",
        "em uma amostra de usuário de planos de saúde"
      ],
      "metadata": {
        "id": "1-Xs3QSIVg_i"
      }
    },
    {
      "cell_type": "code",
      "source": [
        "!gdown '16WlPQDl2sQLaEWzH-nix8lF8TPjsfP97'"
      ],
      "metadata": {
        "colab": {
          "base_uri": "https://localhost:8080/"
        },
        "id": "IGxoEOJMWbIv",
        "outputId": "cea3f2bd-e779-4d04-c87a-53223fa72646"
      },
      "execution_count": 3,
      "outputs": [
        {
          "output_type": "stream",
          "name": "stdout",
          "text": [
            "Downloading...\n",
            "From: https://drive.google.com/uc?id=16WlPQDl2sQLaEWzH-nix8lF8TPjsfP97\n",
            "To: /content/insurance.csv\n",
            "\r  0% 0.00/55.6k [00:00<?, ?B/s]\r100% 55.6k/55.6k [00:00<00:00, 70.4MB/s]\n"
          ]
        }
      ]
    },
    {
      "cell_type": "markdown",
      "source": [
        "# Carregando o dataset usando a biblioteca Pandas"
      ],
      "metadata": {
        "id": "1ooekbpsVSLo"
      }
    },
    {
      "cell_type": "code",
      "source": [
        "df = pd.read_csv('insurance.csv')\n",
        "df.head()\n"
      ],
      "metadata": {
        "colab": {
          "base_uri": "https://localhost:8080/",
          "height": 206
        },
        "id": "QAuMngD3Uswp",
        "outputId": "d6b18da1-bf83-4e42-82d0-1ad0e53f41f6"
      },
      "execution_count": 4,
      "outputs": [
        {
          "output_type": "execute_result",
          "data": {
            "text/plain": [
              "   age     sex     bmi  children smoker     region      charges\n",
              "0   19  female  27.900         0    yes  southwest  16884.92400\n",
              "1   18    male  33.770         1     no  southeast   1725.55230\n",
              "2   28    male  33.000         3     no  southeast   4449.46200\n",
              "3   33    male  22.705         0     no  northwest  21984.47061\n",
              "4   32    male  28.880         0     no  northwest   3866.85520"
            ],
            "text/html": [
              "\n",
              "  <div id=\"df-90cd95a3-bba5-45c2-857b-c2445975a3ac\" class=\"colab-df-container\">\n",
              "    <div>\n",
              "<style scoped>\n",
              "    .dataframe tbody tr th:only-of-type {\n",
              "        vertical-align: middle;\n",
              "    }\n",
              "\n",
              "    .dataframe tbody tr th {\n",
              "        vertical-align: top;\n",
              "    }\n",
              "\n",
              "    .dataframe thead th {\n",
              "        text-align: right;\n",
              "    }\n",
              "</style>\n",
              "<table border=\"1\" class=\"dataframe\">\n",
              "  <thead>\n",
              "    <tr style=\"text-align: right;\">\n",
              "      <th></th>\n",
              "      <th>age</th>\n",
              "      <th>sex</th>\n",
              "      <th>bmi</th>\n",
              "      <th>children</th>\n",
              "      <th>smoker</th>\n",
              "      <th>region</th>\n",
              "      <th>charges</th>\n",
              "    </tr>\n",
              "  </thead>\n",
              "  <tbody>\n",
              "    <tr>\n",
              "      <th>0</th>\n",
              "      <td>19</td>\n",
              "      <td>female</td>\n",
              "      <td>27.900</td>\n",
              "      <td>0</td>\n",
              "      <td>yes</td>\n",
              "      <td>southwest</td>\n",
              "      <td>16884.92400</td>\n",
              "    </tr>\n",
              "    <tr>\n",
              "      <th>1</th>\n",
              "      <td>18</td>\n",
              "      <td>male</td>\n",
              "      <td>33.770</td>\n",
              "      <td>1</td>\n",
              "      <td>no</td>\n",
              "      <td>southeast</td>\n",
              "      <td>1725.55230</td>\n",
              "    </tr>\n",
              "    <tr>\n",
              "      <th>2</th>\n",
              "      <td>28</td>\n",
              "      <td>male</td>\n",
              "      <td>33.000</td>\n",
              "      <td>3</td>\n",
              "      <td>no</td>\n",
              "      <td>southeast</td>\n",
              "      <td>4449.46200</td>\n",
              "    </tr>\n",
              "    <tr>\n",
              "      <th>3</th>\n",
              "      <td>33</td>\n",
              "      <td>male</td>\n",
              "      <td>22.705</td>\n",
              "      <td>0</td>\n",
              "      <td>no</td>\n",
              "      <td>northwest</td>\n",
              "      <td>21984.47061</td>\n",
              "    </tr>\n",
              "    <tr>\n",
              "      <th>4</th>\n",
              "      <td>32</td>\n",
              "      <td>male</td>\n",
              "      <td>28.880</td>\n",
              "      <td>0</td>\n",
              "      <td>no</td>\n",
              "      <td>northwest</td>\n",
              "      <td>3866.85520</td>\n",
              "    </tr>\n",
              "  </tbody>\n",
              "</table>\n",
              "</div>\n",
              "    <div class=\"colab-df-buttons\">\n",
              "\n",
              "  <div class=\"colab-df-container\">\n",
              "    <button class=\"colab-df-convert\" onclick=\"convertToInteractive('df-90cd95a3-bba5-45c2-857b-c2445975a3ac')\"\n",
              "            title=\"Convert this dataframe to an interactive table.\"\n",
              "            style=\"display:none;\">\n",
              "\n",
              "  <svg xmlns=\"http://www.w3.org/2000/svg\" height=\"24px\" viewBox=\"0 -960 960 960\">\n",
              "    <path d=\"M120-120v-720h720v720H120Zm60-500h600v-160H180v160Zm220 220h160v-160H400v160Zm0 220h160v-160H400v160ZM180-400h160v-160H180v160Zm440 0h160v-160H620v160ZM180-180h160v-160H180v160Zm440 0h160v-160H620v160Z\"/>\n",
              "  </svg>\n",
              "    </button>\n",
              "\n",
              "  <style>\n",
              "    .colab-df-container {\n",
              "      display:flex;\n",
              "      gap: 12px;\n",
              "    }\n",
              "\n",
              "    .colab-df-convert {\n",
              "      background-color: #E8F0FE;\n",
              "      border: none;\n",
              "      border-radius: 50%;\n",
              "      cursor: pointer;\n",
              "      display: none;\n",
              "      fill: #1967D2;\n",
              "      height: 32px;\n",
              "      padding: 0 0 0 0;\n",
              "      width: 32px;\n",
              "    }\n",
              "\n",
              "    .colab-df-convert:hover {\n",
              "      background-color: #E2EBFA;\n",
              "      box-shadow: 0px 1px 2px rgba(60, 64, 67, 0.3), 0px 1px 3px 1px rgba(60, 64, 67, 0.15);\n",
              "      fill: #174EA6;\n",
              "    }\n",
              "\n",
              "    .colab-df-buttons div {\n",
              "      margin-bottom: 4px;\n",
              "    }\n",
              "\n",
              "    [theme=dark] .colab-df-convert {\n",
              "      background-color: #3B4455;\n",
              "      fill: #D2E3FC;\n",
              "    }\n",
              "\n",
              "    [theme=dark] .colab-df-convert:hover {\n",
              "      background-color: #434B5C;\n",
              "      box-shadow: 0px 1px 3px 1px rgba(0, 0, 0, 0.15);\n",
              "      filter: drop-shadow(0px 1px 2px rgba(0, 0, 0, 0.3));\n",
              "      fill: #FFFFFF;\n",
              "    }\n",
              "  </style>\n",
              "\n",
              "    <script>\n",
              "      const buttonEl =\n",
              "        document.querySelector('#df-90cd95a3-bba5-45c2-857b-c2445975a3ac button.colab-df-convert');\n",
              "      buttonEl.style.display =\n",
              "        google.colab.kernel.accessAllowed ? 'block' : 'none';\n",
              "\n",
              "      async function convertToInteractive(key) {\n",
              "        const element = document.querySelector('#df-90cd95a3-bba5-45c2-857b-c2445975a3ac');\n",
              "        const dataTable =\n",
              "          await google.colab.kernel.invokeFunction('convertToInteractive',\n",
              "                                                    [key], {});\n",
              "        if (!dataTable) return;\n",
              "\n",
              "        const docLinkHtml = 'Like what you see? Visit the ' +\n",
              "          '<a target=\"_blank\" href=https://colab.research.google.com/notebooks/data_table.ipynb>data table notebook</a>'\n",
              "          + ' to learn more about interactive tables.';\n",
              "        element.innerHTML = '';\n",
              "        dataTable['output_type'] = 'display_data';\n",
              "        await google.colab.output.renderOutput(dataTable, element);\n",
              "        const docLink = document.createElement('div');\n",
              "        docLink.innerHTML = docLinkHtml;\n",
              "        element.appendChild(docLink);\n",
              "      }\n",
              "    </script>\n",
              "  </div>\n",
              "\n",
              "\n",
              "<div id=\"df-a0d157f7-2447-4b78-8725-359d1b26e1c6\">\n",
              "  <button class=\"colab-df-quickchart\" onclick=\"quickchart('df-a0d157f7-2447-4b78-8725-359d1b26e1c6')\"\n",
              "            title=\"Suggest charts\"\n",
              "            style=\"display:none;\">\n",
              "\n",
              "<svg xmlns=\"http://www.w3.org/2000/svg\" height=\"24px\"viewBox=\"0 0 24 24\"\n",
              "     width=\"24px\">\n",
              "    <g>\n",
              "        <path d=\"M19 3H5c-1.1 0-2 .9-2 2v14c0 1.1.9 2 2 2h14c1.1 0 2-.9 2-2V5c0-1.1-.9-2-2-2zM9 17H7v-7h2v7zm4 0h-2V7h2v10zm4 0h-2v-4h2v4z\"/>\n",
              "    </g>\n",
              "</svg>\n",
              "  </button>\n",
              "\n",
              "<style>\n",
              "  .colab-df-quickchart {\n",
              "      --bg-color: #E8F0FE;\n",
              "      --fill-color: #1967D2;\n",
              "      --hover-bg-color: #E2EBFA;\n",
              "      --hover-fill-color: #174EA6;\n",
              "      --disabled-fill-color: #AAA;\n",
              "      --disabled-bg-color: #DDD;\n",
              "  }\n",
              "\n",
              "  [theme=dark] .colab-df-quickchart {\n",
              "      --bg-color: #3B4455;\n",
              "      --fill-color: #D2E3FC;\n",
              "      --hover-bg-color: #434B5C;\n",
              "      --hover-fill-color: #FFFFFF;\n",
              "      --disabled-bg-color: #3B4455;\n",
              "      --disabled-fill-color: #666;\n",
              "  }\n",
              "\n",
              "  .colab-df-quickchart {\n",
              "    background-color: var(--bg-color);\n",
              "    border: none;\n",
              "    border-radius: 50%;\n",
              "    cursor: pointer;\n",
              "    display: none;\n",
              "    fill: var(--fill-color);\n",
              "    height: 32px;\n",
              "    padding: 0;\n",
              "    width: 32px;\n",
              "  }\n",
              "\n",
              "  .colab-df-quickchart:hover {\n",
              "    background-color: var(--hover-bg-color);\n",
              "    box-shadow: 0 1px 2px rgba(60, 64, 67, 0.3), 0 1px 3px 1px rgba(60, 64, 67, 0.15);\n",
              "    fill: var(--button-hover-fill-color);\n",
              "  }\n",
              "\n",
              "  .colab-df-quickchart-complete:disabled,\n",
              "  .colab-df-quickchart-complete:disabled:hover {\n",
              "    background-color: var(--disabled-bg-color);\n",
              "    fill: var(--disabled-fill-color);\n",
              "    box-shadow: none;\n",
              "  }\n",
              "\n",
              "  .colab-df-spinner {\n",
              "    border: 2px solid var(--fill-color);\n",
              "    border-color: transparent;\n",
              "    border-bottom-color: var(--fill-color);\n",
              "    animation:\n",
              "      spin 1s steps(1) infinite;\n",
              "  }\n",
              "\n",
              "  @keyframes spin {\n",
              "    0% {\n",
              "      border-color: transparent;\n",
              "      border-bottom-color: var(--fill-color);\n",
              "      border-left-color: var(--fill-color);\n",
              "    }\n",
              "    20% {\n",
              "      border-color: transparent;\n",
              "      border-left-color: var(--fill-color);\n",
              "      border-top-color: var(--fill-color);\n",
              "    }\n",
              "    30% {\n",
              "      border-color: transparent;\n",
              "      border-left-color: var(--fill-color);\n",
              "      border-top-color: var(--fill-color);\n",
              "      border-right-color: var(--fill-color);\n",
              "    }\n",
              "    40% {\n",
              "      border-color: transparent;\n",
              "      border-right-color: var(--fill-color);\n",
              "      border-top-color: var(--fill-color);\n",
              "    }\n",
              "    60% {\n",
              "      border-color: transparent;\n",
              "      border-right-color: var(--fill-color);\n",
              "    }\n",
              "    80% {\n",
              "      border-color: transparent;\n",
              "      border-right-color: var(--fill-color);\n",
              "      border-bottom-color: var(--fill-color);\n",
              "    }\n",
              "    90% {\n",
              "      border-color: transparent;\n",
              "      border-bottom-color: var(--fill-color);\n",
              "    }\n",
              "  }\n",
              "</style>\n",
              "\n",
              "  <script>\n",
              "    async function quickchart(key) {\n",
              "      const quickchartButtonEl =\n",
              "        document.querySelector('#' + key + ' button');\n",
              "      quickchartButtonEl.disabled = true;  // To prevent multiple clicks.\n",
              "      quickchartButtonEl.classList.add('colab-df-spinner');\n",
              "      try {\n",
              "        const charts = await google.colab.kernel.invokeFunction(\n",
              "            'suggestCharts', [key], {});\n",
              "      } catch (error) {\n",
              "        console.error('Error during call to suggestCharts:', error);\n",
              "      }\n",
              "      quickchartButtonEl.classList.remove('colab-df-spinner');\n",
              "      quickchartButtonEl.classList.add('colab-df-quickchart-complete');\n",
              "    }\n",
              "    (() => {\n",
              "      let quickchartButtonEl =\n",
              "        document.querySelector('#df-a0d157f7-2447-4b78-8725-359d1b26e1c6 button');\n",
              "      quickchartButtonEl.style.display =\n",
              "        google.colab.kernel.accessAllowed ? 'block' : 'none';\n",
              "    })();\n",
              "  </script>\n",
              "</div>\n",
              "\n",
              "    </div>\n",
              "  </div>\n"
            ],
            "application/vnd.google.colaboratory.intrinsic+json": {
              "type": "dataframe",
              "variable_name": "df",
              "summary": "{\n  \"name\": \"df\",\n  \"rows\": 1338,\n  \"fields\": [\n    {\n      \"column\": \"age\",\n      \"properties\": {\n        \"dtype\": \"number\",\n        \"std\": 14,\n        \"min\": 18,\n        \"max\": 64,\n        \"num_unique_values\": 47,\n        \"samples\": [\n          21,\n          45,\n          36\n        ],\n        \"semantic_type\": \"\",\n        \"description\": \"\"\n      }\n    },\n    {\n      \"column\": \"sex\",\n      \"properties\": {\n        \"dtype\": \"category\",\n        \"num_unique_values\": 2,\n        \"samples\": [\n          \"male\",\n          \"female\"\n        ],\n        \"semantic_type\": \"\",\n        \"description\": \"\"\n      }\n    },\n    {\n      \"column\": \"bmi\",\n      \"properties\": {\n        \"dtype\": \"number\",\n        \"std\": 6.098186911679014,\n        \"min\": 15.96,\n        \"max\": 53.13,\n        \"num_unique_values\": 548,\n        \"samples\": [\n          23.18,\n          26.885\n        ],\n        \"semantic_type\": \"\",\n        \"description\": \"\"\n      }\n    },\n    {\n      \"column\": \"children\",\n      \"properties\": {\n        \"dtype\": \"number\",\n        \"std\": 1,\n        \"min\": 0,\n        \"max\": 5,\n        \"num_unique_values\": 6,\n        \"samples\": [\n          0,\n          1\n        ],\n        \"semantic_type\": \"\",\n        \"description\": \"\"\n      }\n    },\n    {\n      \"column\": \"smoker\",\n      \"properties\": {\n        \"dtype\": \"category\",\n        \"num_unique_values\": 2,\n        \"samples\": [\n          \"no\",\n          \"yes\"\n        ],\n        \"semantic_type\": \"\",\n        \"description\": \"\"\n      }\n    },\n    {\n      \"column\": \"region\",\n      \"properties\": {\n        \"dtype\": \"category\",\n        \"num_unique_values\": 4,\n        \"samples\": [\n          \"southeast\",\n          \"northeast\"\n        ],\n        \"semantic_type\": \"\",\n        \"description\": \"\"\n      }\n    },\n    {\n      \"column\": \"charges\",\n      \"properties\": {\n        \"dtype\": \"number\",\n        \"std\": 12110.011236694001,\n        \"min\": 1121.8739,\n        \"max\": 63770.42801,\n        \"num_unique_values\": 1337,\n        \"samples\": [\n          8688.85885,\n          5708.867\n        ],\n        \"semantic_type\": \"\",\n        \"description\": \"\"\n      }\n    }\n  ]\n}"
            }
          },
          "metadata": {},
          "execution_count": 4
        }
      ]
    },
    {
      "cell_type": "markdown",
      "source": [
        "# Algumas análises estatísticas"
      ],
      "metadata": {
        "id": "0SfdfTfHXXzw"
      }
    },
    {
      "cell_type": "markdown",
      "source": [
        "## Probabilidade de children >= 1 dado que smoker = 'yes' já ocorreu."
      ],
      "metadata": {
        "id": "oL5v4ugVZrlF"
      }
    },
    {
      "cell_type": "code",
      "source": [
        "# Filtrando as linhas cuja coluna smoker é yes\n",
        "smokers = df[df['smoker'] == 'yes']\n",
        "\n",
        "# Quantidade de linhas cuja coluna children é >=1 e smoker=yes\n",
        "smokers_with_children = smokers[smokers['children'] >= 1].shape[0]\n",
        "\n",
        "# Quantidade de linhas cuja coluna smoker = yes\n",
        "total_smokers = smokers.shape[0]\n",
        "\n",
        "# Calculando a proporção\n",
        "proportion = smokers_with_children / total_smokers\n",
        "print(f'Probabilidade p(children >= 1 | smoker = \\'yes\\') = {proportion:.2f}')\n",
        "print(total_smokers)\n",
        "print(smokers_with_children)\n",
        "print(smokers)"
      ],
      "metadata": {
        "colab": {
          "base_uri": "https://localhost:8080/"
        },
        "id": "fz7l3-FGZrzF",
        "outputId": "334e975d-9c54-4bee-b729-bc9ef09cd165"
      },
      "execution_count": null,
      "outputs": [
        {
          "output_type": "stream",
          "name": "stdout",
          "text": [
            "Probabilidade p(children >= 1 | smoker = 'yes') = 0.58\n",
            "274\n",
            "159\n",
            "      age     sex     bmi  children smoker     region      charges\n",
            "0      19  female  27.900         0    yes  southwest  16884.92400\n",
            "11     62  female  26.290         0    yes  southeast  27808.72510\n",
            "14     27    male  42.130         0    yes  southeast  39611.75770\n",
            "19     30    male  35.300         0    yes  southwest  36837.46700\n",
            "23     34  female  31.920         1    yes  northeast  37701.87680\n",
            "...   ...     ...     ...       ...    ...        ...          ...\n",
            "1313   19  female  34.700         2    yes  southwest  36397.57600\n",
            "1314   30  female  23.655         3    yes  northwest  18765.87545\n",
            "1321   62    male  26.695         0    yes  northeast  28101.33305\n",
            "1323   42  female  40.370         2    yes  southeast  43896.37630\n",
            "1337   61  female  29.070         0    yes  northwest  29141.36030\n",
            "\n",
            "[274 rows x 7 columns]\n"
          ]
        }
      ]
    },
    {
      "cell_type": "markdown",
      "source": [
        "## Agora pela regra de **Bayes**"
      ],
      "metadata": {
        "id": "fWRAhtMKa-rk"
      }
    },
    {
      "cell_type": "code",
      "source": [
        "# Quantidade de linhas no dataset\n",
        "total_lines = df.shape[0]\n",
        "\n",
        "# Quantidade de linhas cuja coluna smoker é yes\n",
        "smokers = df[df['smoker'] == 'yes'].shape[0]\n",
        "\n",
        "# Quantidade de linhas cuja coluna children é >= 1\n",
        "children_table = df[df['children'] >= 1]\n",
        "children = children_table.shape[0]\n",
        "\n",
        "# Quantidade de linhas cuja coluna smoker é 'yes' na tabela children_table\n",
        "smokers_in_children_table = children_table[children_table['smoker'] == 'yes'].shape[0]\n",
        "\n",
        "# p(smoke = 'yes' | children >= 1) = smokers_in_children_table/children\n",
        "# p(children >= 1) = children/total_lines\n",
        "# p(smoke = 'yes') = smokers/total_lines\n",
        "# p(children >= 1 | smoke = 'yes') = p(smoke = 'yes' | children >= 1) * p(children >= 1) / p(smoke = 'yes')\n",
        "bayes = (smokers_in_children_table/children)*(children/total_lines)/(smokers/total_lines)\n",
        "print(f'Probabilidade p(children >= 1 | smoke = \\'yes\\') = {bayes:.2f}')\n",
        "print(smokers)\n",
        "print(smokers_in_children_table)\n"
      ],
      "metadata": {
        "colab": {
          "base_uri": "https://localhost:8080/"
        },
        "id": "Qbh1a8qEbFHe",
        "outputId": "bd47484c-bb6b-4eaf-b0ad-d1da4f62e3cb"
      },
      "execution_count": null,
      "outputs": [
        {
          "output_type": "stream",
          "name": "stdout",
          "text": [
            "Probabilidade p(children >= 1 | smoke = 'yes') = 0.58\n",
            "274\n",
            "159\n"
          ]
        }
      ]
    },
    {
      "cell_type": "markdown",
      "source": [
        "# AGORA É COM VOCÊ! TENTE O SEGUINTE EXERCÍCIO"
      ],
      "metadata": {
        "id": "PxAe5uk1Y1Py"
      }
    },
    {
      "cell_type": "markdown",
      "source": [
        "### QUESTÃO 1: Dado que os usuários do plano de saúde são fumantes, qual a probabilidade dele ser homem?"
      ],
      "metadata": {
        "id": "oiFKNfDzddbr"
      }
    },
    {
      "cell_type": "code",
      "source": [
        "# Filtrando as linhas cuja coluna smoker é yes\n",
        "smokers = df[df['smoker'] == 'yes']\n",
        "\n",
        "# Quantidade de linhas cuja coluna sex = yes e smoker = yes\n",
        "male_smokers = smokers[smokers['sex'] =='male'].shape[0]\n",
        "\n",
        "# Quantidade de linhas cuja coluna smoker = yes\n",
        "total_smokers = smokers.shape[0]\n",
        "\n",
        "# Calculando a proporção\n",
        "proportion = male_smokers / total_smokers\n",
        "print(f'Probabilidade p(sex = \\'yes\\' | smoker = \\'yes\\') = {proportion:.4f}')\n",
        "print(total_smokers)\n",
        "print(male_smokers)\n",
        "print(smokers)"
      ],
      "metadata": {
        "id": "wWdTARVQdwkm",
        "colab": {
          "base_uri": "https://localhost:8080/"
        },
        "outputId": "0336fad9-55f4-4e81-f223-4ea961f136b2"
      },
      "execution_count": null,
      "outputs": [
        {
          "output_type": "stream",
          "name": "stdout",
          "text": [
            "Probabilidade p(sex = 'yes' | smoker = 'yes') = 0.5803\n",
            "274\n",
            "159\n",
            "      age     sex     bmi  children smoker     region      charges\n",
            "0      19  female  27.900         0    yes  southwest  16884.92400\n",
            "11     62  female  26.290         0    yes  southeast  27808.72510\n",
            "14     27    male  42.130         0    yes  southeast  39611.75770\n",
            "19     30    male  35.300         0    yes  southwest  36837.46700\n",
            "23     34  female  31.920         1    yes  northeast  37701.87680\n",
            "...   ...     ...     ...       ...    ...        ...          ...\n",
            "1313   19  female  34.700         2    yes  southwest  36397.57600\n",
            "1314   30  female  23.655         3    yes  northwest  18765.87545\n",
            "1321   62    male  26.695         0    yes  northeast  28101.33305\n",
            "1323   42  female  40.370         2    yes  southeast  43896.37630\n",
            "1337   61  female  29.070         0    yes  northwest  29141.36030\n",
            "\n",
            "[274 rows x 7 columns]\n"
          ]
        }
      ]
    },
    {
      "cell_type": "code",
      "source": [],
      "metadata": {
        "id": "RS4-akJVaiIe"
      },
      "execution_count": null,
      "outputs": []
    },
    {
      "cell_type": "markdown",
      "source": [
        "### QUESTÃO 2: Dado que os usuários do plano de saúde pagam acima de $20000, qual a probabilidade dele ser mulher?"
      ],
      "metadata": {
        "id": "JPji39s2eEgQ"
      }
    },
    {
      "cell_type": "code",
      "source": [
        "# Filtrando as linhas cuja usuários paguem mais de 20000\n",
        "payers = df[df['charges'] > 20000]\n",
        "\n",
        "# Quantidade de linhas cuja coluna sex = female e charges > 20000\n",
        "female_payers = payers[payers['sex'] =='female'].shape[0]\n",
        "\n",
        "# Quantidade de linhas cuja coluna charges > 20000\n",
        "total_payers = payers.shape[0]\n",
        "\n",
        "# Calculando a proporção\n",
        "proportion = female_payers / total_payers\n",
        "print(f'Probabilidade p(sex = \\'female\\' | charges > 20000) = {proportion:.4f}')\n",
        "print(total_payers)\n",
        "print(female_payers)\n",
        "print(payers)"
      ],
      "metadata": {
        "id": "paFSfU0DeEmw",
        "outputId": "22f36e3b-b6d6-4eae-e9b7-a0781d064818",
        "colab": {
          "base_uri": "https://localhost:8080/"
        }
      },
      "execution_count": null,
      "outputs": [
        {
          "output_type": "stream",
          "name": "stdout",
          "text": [
            "Probabilidade p(sex = 'yes' | smoker = 'yes') = 0.4212\n",
            "273\n",
            "115\n",
            "      age     sex     bmi  children smoker     region      charges\n",
            "3      33    male  22.705         0     no  northwest  21984.47061\n",
            "9      60  female  25.840         0     no  northwest  28923.13692\n",
            "11     62  female  26.290         0    yes  southeast  27808.72510\n",
            "14     27    male  42.130         0    yes  southeast  39611.75770\n",
            "19     30    male  35.300         0    yes  southwest  36837.46700\n",
            "...   ...     ...     ...       ...    ...        ...          ...\n",
            "1313   19  female  34.700         2    yes  southwest  36397.57600\n",
            "1321   62    male  26.695         0    yes  northeast  28101.33305\n",
            "1323   42  female  40.370         2    yes  southeast  43896.37630\n",
            "1328   23  female  24.225         2     no  northeast  22395.74424\n",
            "1337   61  female  29.070         0    yes  northwest  29141.36030\n",
            "\n",
            "[273 rows x 7 columns]\n"
          ]
        }
      ]
    },
    {
      "cell_type": "markdown",
      "source": [
        "### QUESTÃO 3: Dado que os usuários do plano de saúde são mulheres e tem filhos, qual a probabilidade de ser fumante?"
      ],
      "metadata": {
        "id": "0ZlUtui7dwvs"
      }
    },
    {
      "cell_type": "code",
      "source": [
        "# Fazendo por bayers\n",
        "# Quantidade de linhas no dataset\n",
        "total_lines = df.shape[0]\n",
        "\n",
        "# Quantidade de linhas cuja coluna sex = female e children > 0\n",
        "mommys = df[(df['sex'] == 'female') & (df['children'] > 0)].shape[0]\n",
        "#df_fi = df[(df['sex'] == 'female') & (df['children'] > 0)]\n",
        "\n",
        "# Quantidade de linhas cuja coluna smoker = yes\n",
        "smokers_table = df[df['smoker'] == 'yes']\n",
        "smokers = smokers_table.shape[0]\n",
        "\n",
        "# Quantidade de linhas cuja coluna sex é 'female' e children > 0 na tabela smokers_table\n",
        "smokers_in_mommys_table = smokers_table[(smokers_table['sex'] == 'female') & (smokers_table['children'] > 0)].shape[0]\n",
        "\n",
        "# p(smoke = 'yes' | children >= 1) = smokers_in_children_table/children\n",
        "# p(children >= 1) = children/total_lines\n",
        "# p(smoke = 'yes') = smokers/total_lines\n",
        "# p(children >= 1 | smoke = 'yes') = p(smoke = 'yes' | children >= 1) * p(children >= 1) / p(smoke = 'yes')\n",
        "bayes = (smokers_in_mommys_table/mommys)*(smokers/total_lines)/(mommys/total_lines)\n",
        "print(f'Probabilidade p(children >= 1 | smoke = \\'yes\\') = {bayes:.2f}')\n",
        "print(smokers)\n",
        "print(smokers_in_mommys_table)"
      ],
      "metadata": {
        "id": "JbPi6FpYeD5i",
        "colab": {
          "base_uri": "https://localhost:8080/"
        },
        "outputId": "f174a738-806e-4006-e796-ffb4f38567d7"
      },
      "execution_count": 11,
      "outputs": [
        {
          "output_type": "stream",
          "name": "stdout",
          "text": [
            "Probabilidade p(children >= 1 | smoke = 'yes') = 0.12\n",
            "274\n",
            "62\n"
          ]
        }
      ]
    },
    {
      "cell_type": "markdown",
      "source": [
        "### QUESTÃO 4: Dado que os usuários do plano de saúde tem imc (bmi) acima de 40, qual a probabilidade de ser mulher?"
      ],
      "metadata": {
        "id": "BLYuoYHFeaIt"
      }
    },
    {
      "cell_type": "code",
      "source": [
        "# Filtrando as linhas cuja usuários tem bmi > 40\n",
        "imc = df[df['bmi'] > 40]\n",
        "\n",
        "# Quantidade de linhas cuja coluna sex = female e imc > 40\n",
        "female_imc = imc[imc['sex'] =='female'].shape[0]\n",
        "\n",
        "# Quantidade de linhas cuja coluna imc > 40\n",
        "total_imc = imc.shape[0]\n",
        "\n",
        "# Calculando a proporção\n",
        "proportion = female_imc / total_imc\n",
        "print(f'Probabilidade p(sex = \\'female\\' | charges > 20000) = {proportion:.4f}')\n",
        "print(total_imc)\n",
        "print(female_imc)\n",
        "print(imc)"
      ],
      "metadata": {
        "id": "rMWvDkIPeaR0",
        "colab": {
          "base_uri": "https://localhost:8080/"
        },
        "outputId": "0e6e9637-6828-414b-e384-464b1b8e420e"
      },
      "execution_count": 12,
      "outputs": [
        {
          "output_type": "stream",
          "name": "stdout",
          "text": [
            "Probabilidade p(sex = 'female' | charges > 20000) = 0.4396\n",
            "91\n",
            "40\n",
            "      age     sex    bmi  children smoker     region     charges\n",
            "14     27    male  42.13         0    yes  southeast  39611.7577\n",
            "18     56    male  40.30         0     no  southwest  10602.3850\n",
            "83     48  female  41.23         4     no  northwest  11033.6617\n",
            "116    58    male  49.06         0     no  southeast  11381.3254\n",
            "170    63    male  41.47         0     no  southeast  13405.3903\n",
            "...   ...     ...    ...       ...    ...        ...         ...\n",
            "1240   52    male  41.80         2    yes  southeast  47269.8540\n",
            "1312   34    male  42.90         1     no  southwest   4536.2590\n",
            "1317   18    male  53.13         0     no  southeast   1163.4627\n",
            "1323   42  female  40.37         2    yes  southeast  43896.3763\n",
            "1332   52  female  44.70         3     no  southwest  11411.6850\n",
            "\n",
            "[91 rows x 7 columns]\n"
          ]
        }
      ]
    },
    {
      "cell_type": "markdown",
      "source": [
        "### QUESTÃO 5: Dado que os usuários do plano de saúde tem mais de 60 anos, qual a probabilidade deles terem imc acima de 30?"
      ],
      "metadata": {
        "id": "YP8WZ4sWewDa"
      }
    },
    {
      "cell_type": "code",
      "source": [
        "# Filtrando as linhas cuja usuários paguem mais de 20000\n",
        "elders = df[df['age'] > 60]\n",
        "\n",
        "# Quantidade de linhas cuja coluna sex = female e charges > 20000\n",
        "imc_elders = elders[elders['bmi'] > 30].shape[0]\n",
        "\n",
        "# Quantidade de linhas cuja coluna charges > 20000\n",
        "total_elders = elders.shape[0]\n",
        "\n",
        "# Calculando a proporção\n",
        "proportion = imc_elders / total_elders\n",
        "print(f'Probabilidade p(sex = \\'female\\' | charges > 20000) = {proportion:.4f}')\n",
        "print(total_elders)\n",
        "print(imc_elders)\n",
        "print(elders)"
      ],
      "metadata": {
        "id": "ZquZEShIewIp",
        "colab": {
          "base_uri": "https://localhost:8080/"
        },
        "outputId": "929cab7d-f9ca-4175-d165-7a8c84a827bb"
      },
      "execution_count": 14,
      "outputs": [
        {
          "output_type": "stream",
          "name": "stdout",
          "text": [
            "Probabilidade p(sex = 'female' | charges > 20000) = 0.6923\n",
            "91\n",
            "63\n",
            "      age     sex     bmi  children smoker     region      charges\n",
            "11     62  female  26.290         0    yes  southeast  27808.72510\n",
            "26     63  female  23.085         0     no  northeast  14451.83515\n",
            "33     63    male  28.310         0     no  northwest  13770.09790\n",
            "36     62  female  32.965         3     no  northwest  15612.19335\n",
            "62     64    male  24.700         1     no  northwest  30166.61817\n",
            "...   ...     ...     ...       ...    ...        ...          ...\n",
            "1301   62    male  30.875         3    yes  northwest  46718.16325\n",
            "1321   62    male  26.695         0    yes  northeast  28101.33305\n",
            "1322   62    male  38.830         0     no  southeast  12981.34570\n",
            "1325   61    male  33.535         0     no  northeast  13143.33665\n",
            "1337   61  female  29.070         0    yes  northwest  29141.36030\n",
            "\n",
            "[91 rows x 7 columns]\n"
          ]
        }
      ]
    },
    {
      "cell_type": "code",
      "source": [
        "!git status\n"
      ],
      "metadata": {
        "colab": {
          "base_uri": "https://localhost:8080/"
        },
        "id": "Ze_V_6rxNgL3",
        "outputId": "2a8288f0-6505-4853-e541-7765d7b6e88a"
      },
      "execution_count": null,
      "outputs": [
        {
          "output_type": "stream",
          "name": "stdout",
          "text": [
            "fatal: not a git repository (or any of the parent directories): .git\n"
          ]
        }
      ]
    }
  ]
}
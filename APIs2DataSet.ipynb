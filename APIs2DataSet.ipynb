{
  "cells": [
    {
      "cell_type": "markdown",
      "metadata": {
        "id": "view-in-github",
        "colab_type": "text"
      },
      "source": [
        "<a href=\"https://colab.research.google.com/github/rafaart/DataScienceCO/blob/develop/APIs2DataSet.ipynb\" target=\"_parent\"><img src=\"https://colab.research.google.com/assets/colab-badge.svg\" alt=\"Open In Colab\"/></a>"
      ]
    },
    {
      "cell_type": "code",
      "execution_count": 14,
      "id": "2fe2f243-7a26-4f48-9515-b98d0e8b9e7e",
      "metadata": {
        "id": "2fe2f243-7a26-4f48-9515-b98d0e8b9e7e"
      },
      "outputs": [],
      "source": [
        "import numpy as np\n",
        "import pandas as pd\n",
        "import seaborn as sbn\n",
        "from scipy.cluster.vq import whiten\n"
      ]
    },
    {
      "cell_type": "markdown",
      "source": [
        "##Transações correntes / Balança comercial (bens) e Serviços / Serviços / Outros serviços de negócio, inclusive arquitetura e engenharia\n",
        "\n",
        "Outros serviços de negócio, incluindo arquitetura e engenharia - líquido:\n",
        "**22785**\n",
        "\n",
        "Outros serviços de negócio, incluindo arquitetura e engenharia - receita:\n",
        "**22786**\n",
        "\n",
        "Outros serviços de negócio, incluindo arquitetura e engenharia - despesa:\n",
        "**22787**"
      ],
      "metadata": {
        "id": "psxdrqqe18_p"
      },
      "id": "psxdrqqe18_p"
    },
    {
      "cell_type": "markdown",
      "source": [
        "os códigos e classificações dos dados podem ser encontrados no link:\n",
        "https://dadosabertos.bcb.gov.br/pages/temas#grp1762"
      ],
      "metadata": {
        "id": "v_Lu7W1X7bj1"
      },
      "id": "v_Lu7W1X7bj1"
    },
    {
      "cell_type": "code",
      "execution_count": 18,
      "id": "104b8747-7452-4d86-ba18-c36d2f25910f",
      "metadata": {
        "id": "104b8747-7452-4d86-ba18-c36d2f25910f"
      },
      "outputs": [],
      "source": [
        "def fetch_bcb(codigo, data_inicio, data_fim):\n",
        "  url = f'https://api.bcb.gov.br/dados/serie/bcdata.sgs.{codigo}/dados?formato=json&dataInicial={data_inicio}&dataFinal={data_fim}'\n",
        "  df = pd.read_json(url)\n",
        "  return df"
      ]
    },
    {
      "cell_type": "code",
      "source": [
        "fetch_bcb(22785, '01/01/2020', '01/01/2022')"
      ],
      "metadata": {
        "colab": {
          "base_uri": "https://localhost:8080/",
          "height": 669
        },
        "collapsed": true,
        "id": "pFA09U0E1o6s",
        "outputId": "9ad609ba-03c4-43c6-d757-9429c4fe04b0"
      },
      "id": "pFA09U0E1o6s",
      "execution_count": 19,
      "outputs": [
        {
          "output_type": "execute_result",
          "data": {
            "text/plain": [
              "          data  valor\n",
              "0   01/01/2020  839.8\n",
              "1   01/02/2020  399.2\n",
              "2   01/03/2020  733.2\n",
              "3   01/04/2020  438.9\n",
              "4   01/05/2020  280.7\n",
              "5   01/06/2020  352.4\n",
              "6   01/07/2020  179.7\n",
              "7   01/08/2020  215.5\n",
              "8   01/09/2020  187.1\n",
              "9   01/10/2020  -40.2\n",
              "10  01/11/2020   65.8\n",
              "11  01/12/2020  511.6\n",
              "12  01/01/2021  635.1\n",
              "13  01/02/2021  414.4\n",
              "14  01/03/2021  583.8\n",
              "15  01/04/2021  333.0\n",
              "16  01/05/2021  290.1\n",
              "17  01/06/2021  204.4\n",
              "18  01/07/2021  337.5\n",
              "19  01/08/2021  298.7\n",
              "20  01/09/2021  308.3\n",
              "21  01/10/2021  427.9\n",
              "22  01/11/2021  396.7\n",
              "23  01/12/2021  252.0\n",
              "24  01/01/2022  541.2"
            ],
            "text/html": [
              "\n",
              "  <div id=\"df-a9de685b-ecfb-4bb9-a956-f67a02cebdb6\" class=\"colab-df-container\">\n",
              "    <div>\n",
              "<style scoped>\n",
              "    .dataframe tbody tr th:only-of-type {\n",
              "        vertical-align: middle;\n",
              "    }\n",
              "\n",
              "    .dataframe tbody tr th {\n",
              "        vertical-align: top;\n",
              "    }\n",
              "\n",
              "    .dataframe thead th {\n",
              "        text-align: right;\n",
              "    }\n",
              "</style>\n",
              "<table border=\"1\" class=\"dataframe\">\n",
              "  <thead>\n",
              "    <tr style=\"text-align: right;\">\n",
              "      <th></th>\n",
              "      <th>data</th>\n",
              "      <th>valor</th>\n",
              "    </tr>\n",
              "  </thead>\n",
              "  <tbody>\n",
              "    <tr>\n",
              "      <th>0</th>\n",
              "      <td>01/01/2020</td>\n",
              "      <td>839.8</td>\n",
              "    </tr>\n",
              "    <tr>\n",
              "      <th>1</th>\n",
              "      <td>01/02/2020</td>\n",
              "      <td>399.2</td>\n",
              "    </tr>\n",
              "    <tr>\n",
              "      <th>2</th>\n",
              "      <td>01/03/2020</td>\n",
              "      <td>733.2</td>\n",
              "    </tr>\n",
              "    <tr>\n",
              "      <th>3</th>\n",
              "      <td>01/04/2020</td>\n",
              "      <td>438.9</td>\n",
              "    </tr>\n",
              "    <tr>\n",
              "      <th>4</th>\n",
              "      <td>01/05/2020</td>\n",
              "      <td>280.7</td>\n",
              "    </tr>\n",
              "    <tr>\n",
              "      <th>5</th>\n",
              "      <td>01/06/2020</td>\n",
              "      <td>352.4</td>\n",
              "    </tr>\n",
              "    <tr>\n",
              "      <th>6</th>\n",
              "      <td>01/07/2020</td>\n",
              "      <td>179.7</td>\n",
              "    </tr>\n",
              "    <tr>\n",
              "      <th>7</th>\n",
              "      <td>01/08/2020</td>\n",
              "      <td>215.5</td>\n",
              "    </tr>\n",
              "    <tr>\n",
              "      <th>8</th>\n",
              "      <td>01/09/2020</td>\n",
              "      <td>187.1</td>\n",
              "    </tr>\n",
              "    <tr>\n",
              "      <th>9</th>\n",
              "      <td>01/10/2020</td>\n",
              "      <td>-40.2</td>\n",
              "    </tr>\n",
              "    <tr>\n",
              "      <th>10</th>\n",
              "      <td>01/11/2020</td>\n",
              "      <td>65.8</td>\n",
              "    </tr>\n",
              "    <tr>\n",
              "      <th>11</th>\n",
              "      <td>01/12/2020</td>\n",
              "      <td>511.6</td>\n",
              "    </tr>\n",
              "    <tr>\n",
              "      <th>12</th>\n",
              "      <td>01/01/2021</td>\n",
              "      <td>635.1</td>\n",
              "    </tr>\n",
              "    <tr>\n",
              "      <th>13</th>\n",
              "      <td>01/02/2021</td>\n",
              "      <td>414.4</td>\n",
              "    </tr>\n",
              "    <tr>\n",
              "      <th>14</th>\n",
              "      <td>01/03/2021</td>\n",
              "      <td>583.8</td>\n",
              "    </tr>\n",
              "    <tr>\n",
              "      <th>15</th>\n",
              "      <td>01/04/2021</td>\n",
              "      <td>333.0</td>\n",
              "    </tr>\n",
              "    <tr>\n",
              "      <th>16</th>\n",
              "      <td>01/05/2021</td>\n",
              "      <td>290.1</td>\n",
              "    </tr>\n",
              "    <tr>\n",
              "      <th>17</th>\n",
              "      <td>01/06/2021</td>\n",
              "      <td>204.4</td>\n",
              "    </tr>\n",
              "    <tr>\n",
              "      <th>18</th>\n",
              "      <td>01/07/2021</td>\n",
              "      <td>337.5</td>\n",
              "    </tr>\n",
              "    <tr>\n",
              "      <th>19</th>\n",
              "      <td>01/08/2021</td>\n",
              "      <td>298.7</td>\n",
              "    </tr>\n",
              "    <tr>\n",
              "      <th>20</th>\n",
              "      <td>01/09/2021</td>\n",
              "      <td>308.3</td>\n",
              "    </tr>\n",
              "    <tr>\n",
              "      <th>21</th>\n",
              "      <td>01/10/2021</td>\n",
              "      <td>427.9</td>\n",
              "    </tr>\n",
              "    <tr>\n",
              "      <th>22</th>\n",
              "      <td>01/11/2021</td>\n",
              "      <td>396.7</td>\n",
              "    </tr>\n",
              "    <tr>\n",
              "      <th>23</th>\n",
              "      <td>01/12/2021</td>\n",
              "      <td>252.0</td>\n",
              "    </tr>\n",
              "    <tr>\n",
              "      <th>24</th>\n",
              "      <td>01/01/2022</td>\n",
              "      <td>541.2</td>\n",
              "    </tr>\n",
              "  </tbody>\n",
              "</table>\n",
              "</div>\n",
              "    <div class=\"colab-df-buttons\">\n",
              "\n",
              "  <div class=\"colab-df-container\">\n",
              "    <button class=\"colab-df-convert\" onclick=\"convertToInteractive('df-a9de685b-ecfb-4bb9-a956-f67a02cebdb6')\"\n",
              "            title=\"Convert this dataframe to an interactive table.\"\n",
              "            style=\"display:none;\">\n",
              "\n",
              "  <svg xmlns=\"http://www.w3.org/2000/svg\" height=\"24px\" viewBox=\"0 -960 960 960\">\n",
              "    <path d=\"M120-120v-720h720v720H120Zm60-500h600v-160H180v160Zm220 220h160v-160H400v160Zm0 220h160v-160H400v160ZM180-400h160v-160H180v160Zm440 0h160v-160H620v160ZM180-180h160v-160H180v160Zm440 0h160v-160H620v160Z\"/>\n",
              "  </svg>\n",
              "    </button>\n",
              "\n",
              "  <style>\n",
              "    .colab-df-container {\n",
              "      display:flex;\n",
              "      gap: 12px;\n",
              "    }\n",
              "\n",
              "    .colab-df-convert {\n",
              "      background-color: #E8F0FE;\n",
              "      border: none;\n",
              "      border-radius: 50%;\n",
              "      cursor: pointer;\n",
              "      display: none;\n",
              "      fill: #1967D2;\n",
              "      height: 32px;\n",
              "      padding: 0 0 0 0;\n",
              "      width: 32px;\n",
              "    }\n",
              "\n",
              "    .colab-df-convert:hover {\n",
              "      background-color: #E2EBFA;\n",
              "      box-shadow: 0px 1px 2px rgba(60, 64, 67, 0.3), 0px 1px 3px 1px rgba(60, 64, 67, 0.15);\n",
              "      fill: #174EA6;\n",
              "    }\n",
              "\n",
              "    .colab-df-buttons div {\n",
              "      margin-bottom: 4px;\n",
              "    }\n",
              "\n",
              "    [theme=dark] .colab-df-convert {\n",
              "      background-color: #3B4455;\n",
              "      fill: #D2E3FC;\n",
              "    }\n",
              "\n",
              "    [theme=dark] .colab-df-convert:hover {\n",
              "      background-color: #434B5C;\n",
              "      box-shadow: 0px 1px 3px 1px rgba(0, 0, 0, 0.15);\n",
              "      filter: drop-shadow(0px 1px 2px rgba(0, 0, 0, 0.3));\n",
              "      fill: #FFFFFF;\n",
              "    }\n",
              "  </style>\n",
              "\n",
              "    <script>\n",
              "      const buttonEl =\n",
              "        document.querySelector('#df-a9de685b-ecfb-4bb9-a956-f67a02cebdb6 button.colab-df-convert');\n",
              "      buttonEl.style.display =\n",
              "        google.colab.kernel.accessAllowed ? 'block' : 'none';\n",
              "\n",
              "      async function convertToInteractive(key) {\n",
              "        const element = document.querySelector('#df-a9de685b-ecfb-4bb9-a956-f67a02cebdb6');\n",
              "        const dataTable =\n",
              "          await google.colab.kernel.invokeFunction('convertToInteractive',\n",
              "                                                    [key], {});\n",
              "        if (!dataTable) return;\n",
              "\n",
              "        const docLinkHtml = 'Like what you see? Visit the ' +\n",
              "          '<a target=\"_blank\" href=https://colab.research.google.com/notebooks/data_table.ipynb>data table notebook</a>'\n",
              "          + ' to learn more about interactive tables.';\n",
              "        element.innerHTML = '';\n",
              "        dataTable['output_type'] = 'display_data';\n",
              "        await google.colab.output.renderOutput(dataTable, element);\n",
              "        const docLink = document.createElement('div');\n",
              "        docLink.innerHTML = docLinkHtml;\n",
              "        element.appendChild(docLink);\n",
              "      }\n",
              "    </script>\n",
              "  </div>\n",
              "\n",
              "\n",
              "<div id=\"df-eacada5a-9da0-485c-be52-69f127e4a890\">\n",
              "  <button class=\"colab-df-quickchart\" onclick=\"quickchart('df-eacada5a-9da0-485c-be52-69f127e4a890')\"\n",
              "            title=\"Suggest charts\"\n",
              "            style=\"display:none;\">\n",
              "\n",
              "<svg xmlns=\"http://www.w3.org/2000/svg\" height=\"24px\"viewBox=\"0 0 24 24\"\n",
              "     width=\"24px\">\n",
              "    <g>\n",
              "        <path d=\"M19 3H5c-1.1 0-2 .9-2 2v14c0 1.1.9 2 2 2h14c1.1 0 2-.9 2-2V5c0-1.1-.9-2-2-2zM9 17H7v-7h2v7zm4 0h-2V7h2v10zm4 0h-2v-4h2v4z\"/>\n",
              "    </g>\n",
              "</svg>\n",
              "  </button>\n",
              "\n",
              "<style>\n",
              "  .colab-df-quickchart {\n",
              "      --bg-color: #E8F0FE;\n",
              "      --fill-color: #1967D2;\n",
              "      --hover-bg-color: #E2EBFA;\n",
              "      --hover-fill-color: #174EA6;\n",
              "      --disabled-fill-color: #AAA;\n",
              "      --disabled-bg-color: #DDD;\n",
              "  }\n",
              "\n",
              "  [theme=dark] .colab-df-quickchart {\n",
              "      --bg-color: #3B4455;\n",
              "      --fill-color: #D2E3FC;\n",
              "      --hover-bg-color: #434B5C;\n",
              "      --hover-fill-color: #FFFFFF;\n",
              "      --disabled-bg-color: #3B4455;\n",
              "      --disabled-fill-color: #666;\n",
              "  }\n",
              "\n",
              "  .colab-df-quickchart {\n",
              "    background-color: var(--bg-color);\n",
              "    border: none;\n",
              "    border-radius: 50%;\n",
              "    cursor: pointer;\n",
              "    display: none;\n",
              "    fill: var(--fill-color);\n",
              "    height: 32px;\n",
              "    padding: 0;\n",
              "    width: 32px;\n",
              "  }\n",
              "\n",
              "  .colab-df-quickchart:hover {\n",
              "    background-color: var(--hover-bg-color);\n",
              "    box-shadow: 0 1px 2px rgba(60, 64, 67, 0.3), 0 1px 3px 1px rgba(60, 64, 67, 0.15);\n",
              "    fill: var(--button-hover-fill-color);\n",
              "  }\n",
              "\n",
              "  .colab-df-quickchart-complete:disabled,\n",
              "  .colab-df-quickchart-complete:disabled:hover {\n",
              "    background-color: var(--disabled-bg-color);\n",
              "    fill: var(--disabled-fill-color);\n",
              "    box-shadow: none;\n",
              "  }\n",
              "\n",
              "  .colab-df-spinner {\n",
              "    border: 2px solid var(--fill-color);\n",
              "    border-color: transparent;\n",
              "    border-bottom-color: var(--fill-color);\n",
              "    animation:\n",
              "      spin 1s steps(1) infinite;\n",
              "  }\n",
              "\n",
              "  @keyframes spin {\n",
              "    0% {\n",
              "      border-color: transparent;\n",
              "      border-bottom-color: var(--fill-color);\n",
              "      border-left-color: var(--fill-color);\n",
              "    }\n",
              "    20% {\n",
              "      border-color: transparent;\n",
              "      border-left-color: var(--fill-color);\n",
              "      border-top-color: var(--fill-color);\n",
              "    }\n",
              "    30% {\n",
              "      border-color: transparent;\n",
              "      border-left-color: var(--fill-color);\n",
              "      border-top-color: var(--fill-color);\n",
              "      border-right-color: var(--fill-color);\n",
              "    }\n",
              "    40% {\n",
              "      border-color: transparent;\n",
              "      border-right-color: var(--fill-color);\n",
              "      border-top-color: var(--fill-color);\n",
              "    }\n",
              "    60% {\n",
              "      border-color: transparent;\n",
              "      border-right-color: var(--fill-color);\n",
              "    }\n",
              "    80% {\n",
              "      border-color: transparent;\n",
              "      border-right-color: var(--fill-color);\n",
              "      border-bottom-color: var(--fill-color);\n",
              "    }\n",
              "    90% {\n",
              "      border-color: transparent;\n",
              "      border-bottom-color: var(--fill-color);\n",
              "    }\n",
              "  }\n",
              "</style>\n",
              "\n",
              "  <script>\n",
              "    async function quickchart(key) {\n",
              "      const quickchartButtonEl =\n",
              "        document.querySelector('#' + key + ' button');\n",
              "      quickchartButtonEl.disabled = true;  // To prevent multiple clicks.\n",
              "      quickchartButtonEl.classList.add('colab-df-spinner');\n",
              "      try {\n",
              "        const charts = await google.colab.kernel.invokeFunction(\n",
              "            'suggestCharts', [key], {});\n",
              "      } catch (error) {\n",
              "        console.error('Error during call to suggestCharts:', error);\n",
              "      }\n",
              "      quickchartButtonEl.classList.remove('colab-df-spinner');\n",
              "      quickchartButtonEl.classList.add('colab-df-quickchart-complete');\n",
              "    }\n",
              "    (() => {\n",
              "      let quickchartButtonEl =\n",
              "        document.querySelector('#df-eacada5a-9da0-485c-be52-69f127e4a890 button');\n",
              "      quickchartButtonEl.style.display =\n",
              "        google.colab.kernel.accessAllowed ? 'block' : 'none';\n",
              "    })();\n",
              "  </script>\n",
              "</div>\n",
              "\n",
              "    </div>\n",
              "  </div>\n"
            ],
            "application/vnd.google.colaboratory.intrinsic+json": {
              "type": "dataframe",
              "summary": "{\n  \"name\": \"fetch_bcb(22785, '01/01/2020', '01/01/2022')\",\n  \"rows\": 25,\n  \"fields\": [\n    {\n      \"column\": \"data\",\n      \"properties\": {\n        \"dtype\": \"object\",\n        \"num_unique_values\": 25,\n        \"samples\": [\n          \"01/09/2020\",\n          \"01/05/2021\",\n          \"01/01/2020\"\n        ],\n        \"semantic_type\": \"\",\n        \"description\": \"\"\n      }\n    },\n    {\n      \"column\": \"valor\",\n      \"properties\": {\n        \"dtype\": \"number\",\n        \"std\": 199.0729923085165,\n        \"min\": -40.2,\n        \"max\": 839.8,\n        \"num_unique_values\": 25,\n        \"samples\": [\n          187.1,\n          290.1,\n          839.8\n        ],\n        \"semantic_type\": \"\",\n        \"description\": \"\"\n      }\n    }\n  ]\n}"
            }
          },
          "metadata": {},
          "execution_count": 19
        }
      ]
    },
    {
      "cell_type": "markdown",
      "source": [
        "#API Kaggle\n"
      ],
      "metadata": {
        "id": "fZ27bdKkq0oh"
      },
      "id": "fZ27bdKkq0oh"
    },
    {
      "cell_type": "code",
      "source": [
        "!pip install -q kaggle"
      ],
      "metadata": {
        "id": "y7jKUqo8reyY"
      },
      "id": "y7jKUqo8reyY",
      "execution_count": 7,
      "outputs": []
    },
    {
      "cell_type": "code",
      "source": [
        "!mkdir ~/.kaggle"
      ],
      "metadata": {
        "id": "spqNk-GSzdSs"
      },
      "id": "spqNk-GSzdSs",
      "execution_count": 5,
      "outputs": []
    },
    {
      "cell_type": "code",
      "source": [
        "# prompt: criar arquivo json apartir de um link github depois salvalo na pasta root\n",
        "\n",
        "!wget -O kaggle.json https://raw.githubusercontent.com/rafaart/DataScienceCO/develop/kaggle.json\n"
      ],
      "metadata": {
        "colab": {
          "base_uri": "https://localhost:8080/"
        },
        "id": "fqThl1XL8oXA",
        "outputId": "2244cdb4-a407-4a14-8cf9-e51237409e87"
      },
      "id": "fqThl1XL8oXA",
      "execution_count": 3,
      "outputs": [
        {
          "output_type": "stream",
          "name": "stdout",
          "text": [
            "--2024-08-21 03:23:54--  https://raw.githubusercontent.com/rafaart/DataScienceCO/develop/kaggle.json\n",
            "Resolving raw.githubusercontent.com (raw.githubusercontent.com)... 185.199.111.133, 185.199.109.133, 185.199.110.133, ...\n",
            "Connecting to raw.githubusercontent.com (raw.githubusercontent.com)|185.199.111.133|:443... connected.\n",
            "HTTP request sent, awaiting response... 200 OK\n",
            "Length: 66 [text/plain]\n",
            "Saving to: ‘kaggle.json’\n",
            "\n",
            "\rkaggle.json           0%[                    ]       0  --.-KB/s               \rkaggle.json         100%[===================>]      66  --.-KB/s    in 0s      \n",
            "\n",
            "2024-08-21 03:23:54 (3.31 MB/s) - ‘kaggle.json’ saved [66/66]\n",
            "\n"
          ]
        }
      ]
    },
    {
      "cell_type": "code",
      "source": [
        "!cp /content/kaggle.json ~/.kaggle/"
      ],
      "metadata": {
        "id": "SrqgEgaF8j4a"
      },
      "id": "SrqgEgaF8j4a",
      "execution_count": 6,
      "outputs": []
    },
    {
      "cell_type": "code",
      "source": [
        "!chmod 600 ~/.kaggle/kaggle.json\n"
      ],
      "metadata": {
        "collapsed": true,
        "id": "4KJeo6b7r31K"
      },
      "id": "4KJeo6b7r31K",
      "execution_count": 8,
      "outputs": []
    },
    {
      "cell_type": "code",
      "source": [
        "!kaggle datasets list -s \"brasil\""
      ],
      "metadata": {
        "colab": {
          "base_uri": "https://localhost:8080/"
        },
        "collapsed": true,
        "id": "CQXHFsTXsWVO",
        "outputId": "e5c8237d-284b-4a90-e3e9-0821ed32f18f"
      },
      "id": "CQXHFsTXsWVO",
      "execution_count": 10,
      "outputs": [
        {
          "output_type": "stream",
          "name": "stdout",
          "text": [
            "ref                                                        title                                                size  lastUpdated          downloadCount  voteCount  usabilityRating  \n",
            "---------------------------------------------------------  --------------------------------------------------  -----  -------------------  -------------  ---------  ---------------  \n",
            "adaoduque/campeonato-brasileiro-de-futebol                 Campeonato Brasileiro de futebol                    613KB  2023-12-27 23:19:21           9174        152  1.0              \n",
            "diogocaliman/notcias-publicadas-no-brasil                  Notícias publicadas no Brasil                        11MB  2020-04-22 02:57:01            515         29  0.7647059        \n",
            "lexmlacervo/lexml-brasil-acervo                            LexML Brasil @ Acervo                                 2GB  2020-07-12 23:17:06            293         19  0.8125           \n",
            "andreifnmg/campeonato-braileiro-20092018                   Campeonato Brasileiro 2009-2018                      10KB  2019-07-19 13:07:25           1810         27  1.0              \n",
            "miguelcorraljr/doctoralia-brasil                           Doctoralia Brasil                                     7MB  2022-11-03 15:04:58            279         13  1.0              \n",
            "fidelissauro/indices-pobreza-brasil                        Indices de Pobreza no Brasil                          9KB  2022-12-11 14:42:15           1188         22  1.0              \n",
            "fidelissauro/desmatamento-brasil                           Desmatamento - Brasil                                 1KB  2023-02-18 16:19:07            566         10  1.0              \n",
            "lfarhat/brasil-students-scholarship-prouni-20052019        Brasil Students Scholarship - Prouni - (2005-2019)   50MB  2021-10-04 03:49:12           1404         45  1.0              \n",
            "pauloeduneves/hdi-brazil-idh-brasil                        HDI Brazil (IDH Brasil)                               8MB  2018-09-28 02:00:58           1128         30  0.64705884       \n",
            "felipefiorini/cub-mdio-brasil                              CUB Médio Brasil                                      22B  2022-01-24 14:28:18            171         22  0.75             \n",
            "joseguilhermelopes/bike-sharing-system-in-brasilia-brazil  Bike Sharing System in Brasilia, Brazil               5MB  2018-10-11 12:21:33            371         10  0.8235294        \n",
            "lgmoneda/cartola-fc-brasil-scouts                          Cartola FC Brasil Scouts                            437KB  2021-02-27 14:59:39            376         15  0.9411765        \n",
            "fidelissauro/inflacao-brasil                               Indices de Inflação Brasil                           24KB  2023-06-16 20:22:51            369          6  1.0              \n",
            "brunobastosg/dados-hidrometeorolgicos-do-brasil            Dados hidrometeorológicos do Brasil                 543MB  2024-04-01 11:10:07            529         19  0.88235295       \n",
            "juniorbueno/resumo-carta-pedro-vaz-de-caminha              Resumo Carta Pedro Vaz de Caminha                    18KB  2021-12-08 22:08:33             38         32  0.9375           \n",
            "ashishkumarjayswal/brasil-real-estate                      Brasil real estate Data                             185KB  2023-06-20 09:45:17            349         30  0.7058824        \n",
            "rafaelds/covid19-brasilio                                  COVID-19 Brasil.IO                                    5MB  2020-07-31 14:43:16            557         11  0.88235295       \n",
            "datahackers/state-of-data-2021                             State of Data Brazil 2021                           539KB  2022-03-31 18:48:28           3117        269  0.9705882        \n",
            "juniorbueno/letras-de-msicas-brasileiras                   Letras de Músicas Brasileiras                         7KB  2021-12-08 19:06:05            132         32  0.9375           \n",
            "ezequielalvessoares/pib-dos-municpios-brasileiros          PIB dos Municípios Brasileiros                        3KB  2023-06-27 17:18:36            287         14  1.0              \n"
          ]
        }
      ]
    },
    {
      "cell_type": "code",
      "source": [
        "!kaggle datasets download -d victorasso/cnpjs-brasil/"
      ],
      "metadata": {
        "colab": {
          "base_uri": "https://localhost:8080/"
        },
        "id": "fkiSyIcBGi3d",
        "outputId": "e4599368-ec5d-4e5a-bcc9-ecaf56965f40"
      },
      "id": "fkiSyIcBGi3d",
      "execution_count": 11,
      "outputs": [
        {
          "output_type": "stream",
          "name": "stdout",
          "text": [
            "Dataset URL: https://www.kaggle.com/datasets/victorasso/cnpjs-brasil/versions/\n",
            "License(s): unknown\n",
            "Downloading cnpjs-brasil.zip to /content\n",
            "100% 4.71G/4.73G [01:05<00:00, 105MB/s]\n",
            "100% 4.73G/4.73G [01:05<00:00, 77.0MB/s]\n"
          ]
        }
      ]
    },
    {
      "cell_type": "code",
      "source": [
        "!unzip cnpjs-brasil.zip -d /content/"
      ],
      "metadata": {
        "colab": {
          "base_uri": "https://localhost:8080/"
        },
        "id": "f6QehbHD2RIG",
        "outputId": "a3113f11-8286-4666-9a4a-c4a6c3ee81d5",
        "collapsed": true
      },
      "id": "f6QehbHD2RIG",
      "execution_count": 12,
      "outputs": [
        {
          "output_type": "stream",
          "name": "stdout",
          "text": [
            "Archive:  cnpjs-brasil.zip\n",
            "  inflating: /content/AUXILIARES/F.K03200W.SIMPLES.CSV.D11009/F.K03200$W.SIMPLES.CSV.D11009  \n",
            "  inflating: /content/AUXILIARES/F.K03200Z.D11009.CNAECSV/F.K03200$Z.D11009.CNAECSV  \n",
            "  inflating: /content/AUXILIARES/F.K03200Z.D11009.MOTICSV/F.K03200$Z.D11009.MOTICSV  \n",
            "  inflating: /content/AUXILIARES/F.K03200Z.D11009.MUNICCSV/F.K03200$Z.D11009.MUNICCSV  \n",
            "  inflating: /content/AUXILIARES/F.K03200Z.D11009.NATJUCSV/F.K03200$Z.D11009.NATJUCSV  \n",
            "  inflating: /content/AUXILIARES/F.K03200Z.D11009.PAISCSV/F.K03200$Z.D11009.PAISCSV  \n",
            "  inflating: /content/AUXILIARES/F.K03200Z.D11009.QUALSCSV/F.K03200$Z.D11009.QUALSCSV  \n",
            "  inflating: /content/EMPRESA/K3241.K03200Y0.D11009.EMPRECSV/K3241.K03200Y0.D11009.EMPRECSV  \n",
            "  inflating: /content/EMPRESA/K3241.K03200Y1.D11009.EMPRECSV/K3241.K03200Y1.D11009.EMPRECSV  \n",
            "  inflating: /content/EMPRESA/K3241.K03200Y2.D11009.EMPRECSV/K3241.K03200Y2.D11009.EMPRECSV  \n",
            "  inflating: /content/EMPRESA/K3241.K03200Y3.D11009.EMPRECSV/K3241.K03200Y3.D11009.EMPRECSV  \n",
            "  inflating: /content/EMPRESA/K3241.K03200Y4.D11009.EMPRECSV/K3241.K03200Y4.D11009.EMPRECSV  \n",
            "  inflating: /content/EMPRESA/K3241.K03200Y5.D11009.EMPRECSV/K3241.K03200Y5.D11009.EMPRECSV  \n",
            "  inflating: /content/EMPRESA/K3241.K03200Y6.D11009.EMPRECSV/K3241.K03200Y6.D11009.EMPRECSV  \n",
            "  inflating: /content/EMPRESA/K3241.K03200Y7.D11009.EMPRECSV/K3241.K03200Y7.D11009.EMPRECSV  \n",
            "  inflating: /content/EMPRESA/K3241.K03200Y8.D11009.EMPRECSV/K3241.K03200Y8.D11009.EMPRECSV  \n",
            "  inflating: /content/EMPRESA/K3241.K03200Y9.D11009.EMPRECSV/K3241.K03200Y9.D11009.EMPRECSV  \n",
            "  inflating: /content/EMPRESA/desktop.ini  \n",
            "  inflating: /content/ESTABELECIMENTO/K3241.K03200Y0.D11009.ESTABELE/K3241.K03200Y0.D11009.ESTABELE  \n",
            "  inflating: /content/ESTABELECIMENTO/K3241.K03200Y1.D11009.ESTABELE/K3241.K03200Y1.D11009.ESTABELE  \n",
            "  inflating: /content/ESTABELECIMENTO/K3241.K03200Y2.D11009.ESTABELE/K3241.K03200Y2.D11009.ESTABELE  \n",
            "  inflating: /content/ESTABELECIMENTO/K3241.K03200Y3.D11009.ESTABELE/K3241.K03200Y3.D11009.ESTABELE  \n",
            "  inflating: /content/ESTABELECIMENTO/K3241.K03200Y4.D11009.ESTABELE/K3241.K03200Y4.D11009.ESTABELE  \n",
            "  inflating: /content/ESTABELECIMENTO/K3241.K03200Y5.D11009.ESTABELE/K3241.K03200Y5.D11009.ESTABELE  \n",
            "  inflating: /content/ESTABELECIMENTO/K3241.K03200Y6.D11009.ESTABELE/K3241.K03200Y6.D11009.ESTABELE  \n",
            "  inflating: /content/ESTABELECIMENTO/K3241.K03200Y7.D11009.ESTABELE/K3241.K03200Y7.D11009.ESTABELE  \n",
            "  inflating: /content/ESTABELECIMENTO/K3241.K03200Y8.D11009.ESTABELE/K3241.K03200Y8.D11009.ESTABELE  \n",
            "  inflating: /content/ESTABELECIMENTO/K3241.K03200Y9.D11009.ESTABELE/K3241.K03200Y9.D11009.ESTABELE  \n",
            "  inflating: /content/NOVOLAYOUTDOSDADOSABERTOSDOCNPJ.pdf  \n",
            "  inflating: /content/SOCIO/K3241.K03200Y0.D11009.SOCIOCSV/K3241.K03200Y0.D11009.SOCIOCSV  \n",
            "  inflating: /content/SOCIO/K3241.K03200Y1.D11009.SOCIOCSV/K3241.K03200Y1.D11009.SOCIOCSV  \n",
            "  inflating: /content/SOCIO/K3241.K03200Y2.D11009.SOCIOCSV/K3241.K03200Y2.D11009.SOCIOCSV  \n",
            "  inflating: /content/SOCIO/K3241.K03200Y3.D11009.SOCIOCSV/K3241.K03200Y3.D11009.SOCIOCSV  \n",
            "  inflating: /content/SOCIO/K3241.K03200Y4.D11009.SOCIOCSV/K3241.K03200Y4.D11009.SOCIOCSV  \n",
            "  inflating: /content/SOCIO/K3241.K03200Y5.D11009.SOCIOCSV/K3241.K03200Y5.D11009.SOCIOCSV  \n",
            "  inflating: /content/SOCIO/K3241.K03200Y6.D11009.SOCIOCSV/K3241.K03200Y6.D11009.SOCIOCSV  \n",
            "  inflating: /content/SOCIO/K3241.K03200Y7.D11009.SOCIOCSV/K3241.K03200Y7.D11009.SOCIOCSV  \n",
            "  inflating: /content/SOCIO/K3241.K03200Y8.D11009.SOCIOCSV/K3241.K03200Y8.D11009.SOCIOCSV  \n",
            "  inflating: /content/SOCIO/K3241.K03200Y9.D11009.SOCIOCSV/K3241.K03200Y9.D11009.SOCIOCSV  \n",
            "  inflating: /content/source.txt     \n"
          ]
        }
      ]
    },
    {
      "cell_type": "markdown",
      "source": [
        "#EMPRESA\n",
        "##Columns\n",
        "\n",
        "* CNPJ BÁSICO\n",
        "* RAZÃO SOCIAL / NOME EMPRESARIAL\n",
        "* NATUREZA JURÍDICA\n",
        "* QUALIFICAÇÃO DO RESPONSÁVEL\n",
        "* CAPITAL SOCIAL DA EMPRESA\n",
        "* PORTE DA EMPRESA CÓDIGO DO PORTE DA EMPRESA:\n",
        "* 1 – NÃO INFORMADO\n",
        "* 2 - MICRO EMPRESA\n",
        "* 03 - EMPRESA DE PEQUENO PORTE\n",
        "* 05 - DEMAIS\n",
        "* ENTE FEDERATIVO RESPONSÁVEL"
      ],
      "metadata": {
        "id": "Cmqzx5TK2_bl"
      },
      "id": "Cmqzx5TK2_bl"
    },
    {
      "cell_type": "code",
      "source": [
        "df = pd.read_csv('/content/EMPRESA/K3241.K03200Y0.D11009.EMPRECSV/K3241.K03200Y0.D11009.EMPRECSV', sep=';', encoding='latin-1')"
      ],
      "metadata": {
        "id": "ti0i7Ry83_Kj"
      },
      "id": "ti0i7Ry83_Kj",
      "execution_count": 16,
      "outputs": []
    },
    {
      "cell_type": "code",
      "source": [
        "print (df)"
      ],
      "metadata": {
        "colab": {
          "base_uri": "https://localhost:8080/"
        },
        "id": "Z8vvCZ9tBiz_",
        "outputId": "3588a63f-e9d7-42cc-ecac-6b14443ac0b4"
      },
      "id": "Z8vvCZ9tBiz_",
      "execution_count": 21,
      "outputs": [
        {
          "output_type": "stream",
          "name": "stdout",
          "text": [
            "         41273605        WALLACE DE OLIVEIRA SILVA 42992101826  2135  50  \\\n",
            "0        41273606      MARCOS CESAR DE MELO JUNIOR 02569327190  2135  50   \n",
            "1        41273607  LAYANE SCARLETT DE SOUZA ARAUJO 07071498199  2135  50   \n",
            "2        41273608                FRANCISCA SAMPAIO DE OLIVEIRA  2135  50   \n",
            "3        41273609                INGRID DIAS ALVES 03151432077  2135  50   \n",
            "4        41273610                  DAIANE DE SOUZA 03090245957  2135  50   \n",
            "...           ...                                          ...   ...  ..   \n",
            "7086758  98819550                      ANTONIO ORIQUES CARDOSO  2135  50   \n",
            "7086759  98819568                          ELI ORIQUES CARDOSO  2135  50   \n",
            "7086760  98819600                       PAULINO LEMOS DA SILVA  2135  50   \n",
            "7086761  98819832                                 JOAO FELTRIN  2135  50   \n",
            "7086762  99017782                  SOCIEDADE UNIAO DE ARTISTAS  3999  16   \n",
            "\n",
            "          1000,00   01 Unnamed: 6  \n",
            "0        72000,00  1.0        NaN  \n",
            "1            1,00  1.0        NaN  \n",
            "2            0,00  1.0        NaN  \n",
            "3        10000,00  1.0        NaN  \n",
            "4         2500,00  1.0        NaN  \n",
            "...           ...  ...        ...  \n",
            "7086758      0,00  1.0        NaN  \n",
            "7086759      0,00  1.0        NaN  \n",
            "7086760      0,00  5.0        NaN  \n",
            "7086761      0,00  1.0        NaN  \n",
            "7086762      0,00  5.0        NaN  \n",
            "\n",
            "[7086763 rows x 7 columns]\n"
          ]
        }
      ]
    }
  ],
  "metadata": {
    "kernelspec": {
      "display_name": "Python 3 (ipykernel)",
      "language": "python",
      "name": "python3"
    },
    "language_info": {
      "codemirror_mode": {
        "name": "ipython",
        "version": 3
      },
      "file_extension": ".py",
      "mimetype": "text/x-python",
      "name": "python",
      "nbconvert_exporter": "python",
      "pygments_lexer": "ipython3",
      "version": "3.10.10"
    },
    "colab": {
      "provenance": [],
      "include_colab_link": true
    }
  },
  "nbformat": 4,
  "nbformat_minor": 5
}